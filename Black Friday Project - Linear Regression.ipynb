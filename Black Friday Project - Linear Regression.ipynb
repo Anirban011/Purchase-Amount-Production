{
 "cells": [
  {
   "cell_type": "code",
   "execution_count": 1,
   "id": "a84b971c",
   "metadata": {},
   "outputs": [],
   "source": [
    "import pandas as pd\n",
    "import numpy as np\n",
    "import matplotlib.pyplot as plt\n",
    "import seaborn as sns\n",
    "import warnings\n",
    "warnings.filterwarnings('ignore')\n",
    "%matplotlib inline"
   ]
  },
  {
   "cell_type": "code",
   "execution_count": 2,
   "id": "4469717e",
   "metadata": {},
   "outputs": [],
   "source": [
    "train = pd.read_csv('C:\\\\Users\\\\Sambhu\\\\Desktop\\\\Imarticus\\\\Class Material\\\\kaggle\\\\black_friday_train.csv')"
   ]
  },
  {
   "cell_type": "code",
   "execution_count": 3,
   "id": "635de9b2",
   "metadata": {},
   "outputs": [],
   "source": [
    "test = pd.read_csv('C:\\\\Users\\\\Sambhu\\\\Desktop\\\\Imarticus\\\\Class Material\\\\kaggle\\\\black_friday_test.csv')"
   ]
  },
  {
   "cell_type": "markdown",
   "id": "a58e195f",
   "metadata": {},
   "source": [
    "# Problem Statement\n",
    "A retail company “ABC Private Limited” wants to understand the customer purchase behaviour (specifically, purchase amount) against various products of different categories. They have shared purchase summary of various customers for selected high volume products from last month. The data set also contains customer demographics (age, gender, marital status, city_type, stay_in_current_city), product details (product_id and product category) and Total purchase_amount from last month.\n",
    "\n",
    "Now, they want to build a model to predict the purchase amount of customer against various products which will help them to create personalized offer for customers against different products."
   ]
  },
  {
   "cell_type": "code",
   "execution_count": 4,
   "id": "bf4e5104",
   "metadata": {},
   "outputs": [
    {
     "data": {
      "text/html": [
       "<div>\n",
       "<style scoped>\n",
       "    .dataframe tbody tr th:only-of-type {\n",
       "        vertical-align: middle;\n",
       "    }\n",
       "\n",
       "    .dataframe tbody tr th {\n",
       "        vertical-align: top;\n",
       "    }\n",
       "\n",
       "    .dataframe thead th {\n",
       "        text-align: right;\n",
       "    }\n",
       "</style>\n",
       "<table border=\"1\" class=\"dataframe\">\n",
       "  <thead>\n",
       "    <tr style=\"text-align: right;\">\n",
       "      <th></th>\n",
       "      <th>User_ID</th>\n",
       "      <th>Product_ID</th>\n",
       "      <th>Gender</th>\n",
       "      <th>Age</th>\n",
       "      <th>Occupation</th>\n",
       "      <th>City_Category</th>\n",
       "      <th>Stay_In_Current_City_Years</th>\n",
       "      <th>Marital_Status</th>\n",
       "      <th>Product_Category_1</th>\n",
       "      <th>Product_Category_2</th>\n",
       "      <th>Product_Category_3</th>\n",
       "      <th>Purchase</th>\n",
       "    </tr>\n",
       "  </thead>\n",
       "  <tbody>\n",
       "    <tr>\n",
       "      <th>0</th>\n",
       "      <td>1000001</td>\n",
       "      <td>P00069042</td>\n",
       "      <td>F</td>\n",
       "      <td>0-17</td>\n",
       "      <td>10</td>\n",
       "      <td>A</td>\n",
       "      <td>2</td>\n",
       "      <td>0</td>\n",
       "      <td>3</td>\n",
       "      <td>NaN</td>\n",
       "      <td>NaN</td>\n",
       "      <td>8370</td>\n",
       "    </tr>\n",
       "    <tr>\n",
       "      <th>1</th>\n",
       "      <td>1000001</td>\n",
       "      <td>P00248942</td>\n",
       "      <td>F</td>\n",
       "      <td>0-17</td>\n",
       "      <td>10</td>\n",
       "      <td>A</td>\n",
       "      <td>2</td>\n",
       "      <td>0</td>\n",
       "      <td>1</td>\n",
       "      <td>6.0</td>\n",
       "      <td>14.0</td>\n",
       "      <td>15200</td>\n",
       "    </tr>\n",
       "    <tr>\n",
       "      <th>2</th>\n",
       "      <td>1000001</td>\n",
       "      <td>P00087842</td>\n",
       "      <td>F</td>\n",
       "      <td>0-17</td>\n",
       "      <td>10</td>\n",
       "      <td>A</td>\n",
       "      <td>2</td>\n",
       "      <td>0</td>\n",
       "      <td>12</td>\n",
       "      <td>NaN</td>\n",
       "      <td>NaN</td>\n",
       "      <td>1422</td>\n",
       "    </tr>\n",
       "    <tr>\n",
       "      <th>3</th>\n",
       "      <td>1000001</td>\n",
       "      <td>P00085442</td>\n",
       "      <td>F</td>\n",
       "      <td>0-17</td>\n",
       "      <td>10</td>\n",
       "      <td>A</td>\n",
       "      <td>2</td>\n",
       "      <td>0</td>\n",
       "      <td>12</td>\n",
       "      <td>14.0</td>\n",
       "      <td>NaN</td>\n",
       "      <td>1057</td>\n",
       "    </tr>\n",
       "    <tr>\n",
       "      <th>4</th>\n",
       "      <td>1000002</td>\n",
       "      <td>P00285442</td>\n",
       "      <td>M</td>\n",
       "      <td>55+</td>\n",
       "      <td>16</td>\n",
       "      <td>C</td>\n",
       "      <td>4+</td>\n",
       "      <td>0</td>\n",
       "      <td>8</td>\n",
       "      <td>NaN</td>\n",
       "      <td>NaN</td>\n",
       "      <td>7969</td>\n",
       "    </tr>\n",
       "  </tbody>\n",
       "</table>\n",
       "</div>"
      ],
      "text/plain": [
       "   User_ID Product_ID Gender   Age  Occupation City_Category  \\\n",
       "0  1000001  P00069042      F  0-17          10             A   \n",
       "1  1000001  P00248942      F  0-17          10             A   \n",
       "2  1000001  P00087842      F  0-17          10             A   \n",
       "3  1000001  P00085442      F  0-17          10             A   \n",
       "4  1000002  P00285442      M   55+          16             C   \n",
       "\n",
       "  Stay_In_Current_City_Years  Marital_Status  Product_Category_1  \\\n",
       "0                          2               0                   3   \n",
       "1                          2               0                   1   \n",
       "2                          2               0                  12   \n",
       "3                          2               0                  12   \n",
       "4                         4+               0                   8   \n",
       "\n",
       "   Product_Category_2  Product_Category_3  Purchase  \n",
       "0                 NaN                 NaN      8370  \n",
       "1                 6.0                14.0     15200  \n",
       "2                 NaN                 NaN      1422  \n",
       "3                14.0                 NaN      1057  \n",
       "4                 NaN                 NaN      7969  "
      ]
     },
     "execution_count": 4,
     "metadata": {},
     "output_type": "execute_result"
    }
   ],
   "source": [
    "train.head()"
   ]
  },
  {
   "cell_type": "code",
   "execution_count": 5,
   "id": "e073e0d1",
   "metadata": {},
   "outputs": [
    {
     "name": "stdout",
     "output_type": "stream",
     "text": [
      "<class 'pandas.core.frame.DataFrame'>\n",
      "RangeIndex: 550068 entries, 0 to 550067\n",
      "Data columns (total 12 columns):\n",
      " #   Column                      Non-Null Count   Dtype  \n",
      "---  ------                      --------------   -----  \n",
      " 0   User_ID                     550068 non-null  int64  \n",
      " 1   Product_ID                  550068 non-null  object \n",
      " 2   Gender                      550068 non-null  object \n",
      " 3   Age                         550068 non-null  object \n",
      " 4   Occupation                  550068 non-null  int64  \n",
      " 5   City_Category               550068 non-null  object \n",
      " 6   Stay_In_Current_City_Years  550068 non-null  object \n",
      " 7   Marital_Status              550068 non-null  int64  \n",
      " 8   Product_Category_1          550068 non-null  int64  \n",
      " 9   Product_Category_2          376430 non-null  float64\n",
      " 10  Product_Category_3          166821 non-null  float64\n",
      " 11  Purchase                    550068 non-null  int64  \n",
      "dtypes: float64(2), int64(5), object(5)\n",
      "memory usage: 50.4+ MB\n"
     ]
    }
   ],
   "source": [
    "train.info()"
   ]
  },
  {
   "cell_type": "code",
   "execution_count": 6,
   "id": "990ae0a6",
   "metadata": {},
   "outputs": [],
   "source": [
    "# We will combine both the dataset, so that we can do prepocessing on both the dataset"
   ]
  },
  {
   "cell_type": "code",
   "execution_count": 7,
   "id": "7446cea9",
   "metadata": {},
   "outputs": [],
   "source": [
    "df = pd.concat([train,test])"
   ]
  },
  {
   "cell_type": "code",
   "execution_count": 8,
   "id": "34e3476d",
   "metadata": {},
   "outputs": [
    {
     "name": "stdout",
     "output_type": "stream",
     "text": [
      "<class 'pandas.core.frame.DataFrame'>\n",
      "Int64Index: 783667 entries, 0 to 233598\n",
      "Data columns (total 12 columns):\n",
      " #   Column                      Non-Null Count   Dtype  \n",
      "---  ------                      --------------   -----  \n",
      " 0   User_ID                     783667 non-null  int64  \n",
      " 1   Product_ID                  783667 non-null  object \n",
      " 2   Gender                      783667 non-null  object \n",
      " 3   Age                         783667 non-null  object \n",
      " 4   Occupation                  783667 non-null  int64  \n",
      " 5   City_Category               783667 non-null  object \n",
      " 6   Stay_In_Current_City_Years  783667 non-null  object \n",
      " 7   Marital_Status              783667 non-null  int64  \n",
      " 8   Product_Category_1          783667 non-null  int64  \n",
      " 9   Product_Category_2          537685 non-null  float64\n",
      " 10  Product_Category_3          237858 non-null  float64\n",
      " 11  Purchase                    550068 non-null  float64\n",
      "dtypes: float64(3), int64(4), object(5)\n",
      "memory usage: 77.7+ MB\n"
     ]
    }
   ],
   "source": [
    "df.info()"
   ]
  },
  {
   "cell_type": "code",
   "execution_count": 9,
   "id": "44aa7224",
   "metadata": {},
   "outputs": [],
   "source": [
    "del df['User_ID']"
   ]
  },
  {
   "cell_type": "code",
   "execution_count": 10,
   "id": "aa33748c",
   "metadata": {},
   "outputs": [],
   "source": [
    "del df['Product_ID']"
   ]
  },
  {
   "cell_type": "code",
   "execution_count": 11,
   "id": "edcbfe81",
   "metadata": {},
   "outputs": [],
   "source": [
    "from sklearn.preprocessing import LabelEncoder\n",
    "le = LabelEncoder()"
   ]
  },
  {
   "cell_type": "code",
   "execution_count": 12,
   "id": "24ec37f3",
   "metadata": {},
   "outputs": [],
   "source": [
    "df['Gender'] = le.fit_transform(df['Gender'])"
   ]
  },
  {
   "cell_type": "code",
   "execution_count": 13,
   "id": "6070d0f0",
   "metadata": {},
   "outputs": [
    {
     "data": {
      "text/plain": [
       "1    590031\n",
       "0    193636\n",
       "Name: Gender, dtype: int64"
      ]
     },
     "execution_count": 13,
     "metadata": {},
     "output_type": "execute_result"
    }
   ],
   "source": [
    "df['Gender'].value_counts()"
   ]
  },
  {
   "cell_type": "code",
   "execution_count": 14,
   "id": "fb8b9d48",
   "metadata": {},
   "outputs": [],
   "source": [
    "df['City_Category'] = le.fit_transform(df['City_Category'])"
   ]
  },
  {
   "cell_type": "code",
   "execution_count": 15,
   "id": "070df03b",
   "metadata": {},
   "outputs": [
    {
     "data": {
      "text/plain": [
       "1    329739\n",
       "2    243684\n",
       "0    210244\n",
       "Name: City_Category, dtype: int64"
      ]
     },
     "execution_count": 15,
     "metadata": {},
     "output_type": "execute_result"
    }
   ],
   "source": [
    "df['City_Category'].value_counts()"
   ]
  },
  {
   "cell_type": "code",
   "execution_count": 16,
   "id": "6a2aa2b9",
   "metadata": {},
   "outputs": [
    {
     "data": {
      "text/plain": [
       "array(['0-17', '55+', '26-35', '46-50', '51-55', '36-45', '18-25'],\n",
       "      dtype=object)"
      ]
     },
     "execution_count": 16,
     "metadata": {},
     "output_type": "execute_result"
    }
   ],
   "source": [
    "df['Age'].unique()"
   ]
  },
  {
   "cell_type": "code",
   "execution_count": 17,
   "id": "837ff98b",
   "metadata": {},
   "outputs": [],
   "source": [
    "df['Age'].replace(['0-17','18-25','26-35', '36-45', '46-50', '51-55', '55+',],['1','2','3','4','5','6','7'], inplace = True)"
   ]
  },
  {
   "cell_type": "code",
   "execution_count": 18,
   "id": "3053955a",
   "metadata": {},
   "outputs": [
    {
     "name": "stdout",
     "output_type": "stream",
     "text": [
      "<class 'pandas.core.frame.DataFrame'>\n",
      "Int64Index: 783667 entries, 0 to 233598\n",
      "Data columns (total 10 columns):\n",
      " #   Column                      Non-Null Count   Dtype  \n",
      "---  ------                      --------------   -----  \n",
      " 0   Gender                      783667 non-null  int32  \n",
      " 1   Age                         783667 non-null  object \n",
      " 2   Occupation                  783667 non-null  int64  \n",
      " 3   City_Category               783667 non-null  int32  \n",
      " 4   Stay_In_Current_City_Years  783667 non-null  object \n",
      " 5   Marital_Status              783667 non-null  int64  \n",
      " 6   Product_Category_1          783667 non-null  int64  \n",
      " 7   Product_Category_2          537685 non-null  float64\n",
      " 8   Product_Category_3          237858 non-null  float64\n",
      " 9   Purchase                    550068 non-null  float64\n",
      "dtypes: float64(3), int32(2), int64(3), object(2)\n",
      "memory usage: 59.8+ MB\n"
     ]
    }
   ],
   "source": [
    "df.info()"
   ]
  },
  {
   "cell_type": "code",
   "execution_count": 19,
   "id": "63ed4bda",
   "metadata": {},
   "outputs": [
    {
     "data": {
      "text/plain": [
       "Gender                             0\n",
       "Age                                0\n",
       "Occupation                         0\n",
       "City_Category                      0\n",
       "Stay_In_Current_City_Years         0\n",
       "Marital_Status                     0\n",
       "Product_Category_1                 0\n",
       "Product_Category_2            245982\n",
       "Product_Category_3            545809\n",
       "Purchase                      233599\n",
       "dtype: int64"
      ]
     },
     "execution_count": 19,
     "metadata": {},
     "output_type": "execute_result"
    }
   ],
   "source": [
    "df.isnull().sum()"
   ]
  },
  {
   "cell_type": "code",
   "execution_count": 20,
   "id": "8a2edf4e",
   "metadata": {},
   "outputs": [
    {
     "data": {
      "text/plain": [
       "8.0     91317\n",
       "14.0    78834\n",
       "2.0     70498\n",
       "16.0    61687\n",
       "15.0    54114\n",
       "5.0     37165\n",
       "4.0     36705\n",
       "6.0     23575\n",
       "11.0    20230\n",
       "17.0    19104\n",
       "13.0    15054\n",
       "9.0      8177\n",
       "12.0     7801\n",
       "10.0     4420\n",
       "3.0      4123\n",
       "18.0     4027\n",
       "7.0       854\n",
       "Name: Product_Category_2, dtype: int64"
      ]
     },
     "execution_count": 20,
     "metadata": {},
     "output_type": "execute_result"
    }
   ],
   "source": [
    "df['Product_Category_2'].value_counts()"
   ]
  },
  {
   "cell_type": "code",
   "execution_count": 21,
   "id": "f849d0d0",
   "metadata": {},
   "outputs": [],
   "source": [
    "df['Product_Category_2'].fillna(df['Product_Category_2'].mode()[0], inplace= True)"
   ]
  },
  {
   "cell_type": "code",
   "execution_count": 23,
   "id": "33e353a7",
   "metadata": {},
   "outputs": [],
   "source": [
    "df['Product_Category_3'].fillna(df['Product_Category_3'].mode()[0], inplace= True)"
   ]
  },
  {
   "cell_type": "code",
   "execution_count": 24,
   "id": "e1df6e67",
   "metadata": {},
   "outputs": [
    {
     "data": {
      "text/plain": [
       "array(['2', '4+', '3', '1', '0'], dtype=object)"
      ]
     },
     "execution_count": 24,
     "metadata": {},
     "output_type": "execute_result"
    }
   ],
   "source": [
    "df['Stay_In_Current_City_Years'].unique()"
   ]
  },
  {
   "cell_type": "code",
   "execution_count": 25,
   "id": "d2f4787d",
   "metadata": {},
   "outputs": [],
   "source": [
    "df['Stay_In_Current_City_Years'].replace('4+','4', inplace = True)"
   ]
  },
  {
   "cell_type": "code",
   "execution_count": 26,
   "id": "e524131e",
   "metadata": {},
   "outputs": [],
   "source": [
    "df['Stay_In_Current_City_Years'] = df['Stay_In_Current_City_Years'].astype('int64')"
   ]
  },
  {
   "cell_type": "code",
   "execution_count": 27,
   "id": "34cd1353",
   "metadata": {},
   "outputs": [
    {
     "name": "stdout",
     "output_type": "stream",
     "text": [
      "<class 'pandas.core.frame.DataFrame'>\n",
      "Int64Index: 783667 entries, 0 to 233598\n",
      "Data columns (total 10 columns):\n",
      " #   Column                      Non-Null Count   Dtype  \n",
      "---  ------                      --------------   -----  \n",
      " 0   Gender                      783667 non-null  int32  \n",
      " 1   Age                         783667 non-null  object \n",
      " 2   Occupation                  783667 non-null  int64  \n",
      " 3   City_Category               783667 non-null  int32  \n",
      " 4   Stay_In_Current_City_Years  783667 non-null  int64  \n",
      " 5   Marital_Status              783667 non-null  int64  \n",
      " 6   Product_Category_1          783667 non-null  int64  \n",
      " 7   Product_Category_2          783667 non-null  float64\n",
      " 8   Product_Category_3          783667 non-null  float64\n",
      " 9   Purchase                    550068 non-null  float64\n",
      "dtypes: float64(3), int32(2), int64(4), object(1)\n",
      "memory usage: 59.8+ MB\n"
     ]
    }
   ],
   "source": [
    "df.info()"
   ]
  },
  {
   "cell_type": "code",
   "execution_count": 28,
   "id": "3f14f296",
   "metadata": {},
   "outputs": [],
   "source": [
    "df_train = df[~df['Purchase'].isnull()]"
   ]
  },
  {
   "cell_type": "code",
   "execution_count": 29,
   "id": "5cc109b6",
   "metadata": {},
   "outputs": [],
   "source": [
    "categorical = ['Gender', 'Occupation', 'City_Category',  'Marital_Status', 'Product_Category_1', 'Product_Category_2', 'Product_Category_3']"
   ]
  },
  {
   "cell_type": "code",
   "execution_count": 30,
   "id": "e8310314",
   "metadata": {},
   "outputs": [],
   "source": [
    "import statsmodels.api as sm\n",
    "from statsmodels.formula.api import ols"
   ]
  },
  {
   "cell_type": "code",
   "execution_count": 31,
   "id": "d4ab7ef1",
   "metadata": {},
   "outputs": [
    {
     "data": {
      "image/png": "[encoded data removed]",
      "text/plain": [
       "<Figure size 432x288 with 1 Axes>"
      ]
     },
     "metadata": {
      "needs_background": "light"
     },
     "output_type": "display_data"
    },
    {
     "name": "stdout",
     "output_type": "stream",
     "text": [
      "p-value 0.0\n",
      "Good Predictor\n"
     ]
    },
    {
     "data": {
      "image/png": "[encoded data removed]",
      "text/plain": [
       "<Figure size 432x288 with 1 Axes>"
      ]
     },
     "metadata": {
      "needs_background": "light"
     },
     "output_type": "display_data"
    },
    {
     "name": "stdout",
     "output_type": "stream",
     "text": [
      "p-value 7.259684172672924e-54\n",
      "Good Predictor\n"
     ]
    },
    {
     "data": {
      "image/png": "[encoded data removed]",
      "text/plain": [
       "<Figure size 432x288 with 1 Axes>"
      ]
     },
     "metadata": {
      "needs_background": "light"
     },
     "output_type": "display_data"
    },
    {
     "name": "stdout",
     "output_type": "stream",
     "text": [
      "p-value 0.0\n",
      "Good Predictor\n"
     ]
    },
    {
     "data": {
      "image/png": "[encoded data removed]",
      "text/plain": [
       "<Figure size 432x288 with 1 Axes>"
      ]
     },
     "metadata": {
      "needs_background": "light"
     },
     "output_type": "display_data"
    },
    {
     "name": "stdout",
     "output_type": "stream",
     "text": [
      "p-value 0.7310947526475329\n",
      "Bad Predictor\n"
     ]
    },
    {
     "data": {
      "image/png": "[encoded data removed]",
      "text/plain": [
       "<Figure size 432x288 with 1 Axes>"
      ]
     },
     "metadata": {
      "needs_background": "light"
     },
     "output_type": "display_data"
    },
    {
     "name": "stdout",
     "output_type": "stream",
     "text": [
      "p-value 0.0\n",
      "Good Predictor\n"
     ]
    },
    {
     "data": {
      "image/png": "[encoded data removed]",
      "text/plain": [
       "<Figure size 432x288 with 1 Axes>"
      ]
     },
     "metadata": {
      "needs_background": "light"
     },
     "output_type": "display_data"
    },
    {
     "name": "stdout",
     "output_type": "stream",
     "text": [
      "p-value 0.0\n",
      "Good Predictor\n"
     ]
    },
    {
     "data": {
      "image/png": "[encoded data removed]",
      "text/plain": [
       "<Figure size 432x288 with 1 Axes>"
      ]
     },
     "metadata": {
      "needs_background": "light"
     },
     "output_type": "display_data"
    },
    {
     "name": "stdout",
     "output_type": "stream",
     "text": [
      "p-value 0.0\n",
      "Good Predictor\n"
     ]
    }
   ],
   "source": [
    "for column in categorical:\n",
    "    sns.barplot(x = df_train[column], y= df_train['Purchase'])\n",
    "    plt.show()\n",
    "    model = ols('Purchase~df_train[column]', data = df_train).fit()\n",
    "    aov_table = sm.stats.anova_lm(model)\n",
    "    #print(aov_table)\n",
    "    p = aov_table['PR(>F)'][0]\n",
    "    print(\"p-value\", p)\n",
    "    if p>0.05:\n",
    "        print(\"Bad Predictor\")\n",
    "    else:\n",
    "        print(\"Good Predictor\")"
   ]
  },
  {
   "cell_type": "code",
   "execution_count": 32,
   "id": "5d1c4714",
   "metadata": {},
   "outputs": [],
   "source": [
    "# Null Hypothesis: Average purchase amount between Married and Not Married is same\n",
    "# Alternate Hypothesis: Atleast one of the groups' average purchase amount is different\n",
    "# Since p-value for Marital Status is more than 0.05, we accept Null Hypothesis. So, we can drop this feature"
   ]
  },
  {
   "cell_type": "code",
   "execution_count": 33,
   "id": "ba5c1cdd",
   "metadata": {},
   "outputs": [
    {
     "data": {
      "text/html": [
       "<div>\n",
       "<style scoped>\n",
       "    .dataframe tbody tr th:only-of-type {\n",
       "        vertical-align: middle;\n",
       "    }\n",
       "\n",
       "    .dataframe tbody tr th {\n",
       "        vertical-align: top;\n",
       "    }\n",
       "\n",
       "    .dataframe thead th {\n",
       "        text-align: right;\n",
       "    }\n",
       "</style>\n",
       "<table border=\"1\" class=\"dataframe\">\n",
       "  <thead>\n",
       "    <tr style=\"text-align: right;\">\n",
       "      <th></th>\n",
       "      <th>count</th>\n",
       "      <th>mean</th>\n",
       "      <th>std</th>\n",
       "      <th>min</th>\n",
       "      <th>25%</th>\n",
       "      <th>50%</th>\n",
       "      <th>75%</th>\n",
       "      <th>max</th>\n",
       "    </tr>\n",
       "    <tr>\n",
       "      <th>Gender</th>\n",
       "      <th></th>\n",
       "      <th></th>\n",
       "      <th></th>\n",
       "      <th></th>\n",
       "      <th></th>\n",
       "      <th></th>\n",
       "      <th></th>\n",
       "      <th></th>\n",
       "    </tr>\n",
       "  </thead>\n",
       "  <tbody>\n",
       "    <tr>\n",
       "      <th>0</th>\n",
       "      <td>135809.0</td>\n",
       "      <td>8734.565765</td>\n",
       "      <td>4767.233289</td>\n",
       "      <td>12.0</td>\n",
       "      <td>5433.0</td>\n",
       "      <td>7914.0</td>\n",
       "      <td>11400.0</td>\n",
       "      <td>23959.0</td>\n",
       "    </tr>\n",
       "    <tr>\n",
       "      <th>1</th>\n",
       "      <td>414259.0</td>\n",
       "      <td>9437.526040</td>\n",
       "      <td>5092.186210</td>\n",
       "      <td>12.0</td>\n",
       "      <td>5863.0</td>\n",
       "      <td>8098.0</td>\n",
       "      <td>12454.0</td>\n",
       "      <td>23961.0</td>\n",
       "    </tr>\n",
       "  </tbody>\n",
       "</table>\n",
       "</div>"
      ],
      "text/plain": [
       "           count         mean          std   min     25%     50%      75%  \\\n",
       "Gender                                                                      \n",
       "0       135809.0  8734.565765  4767.233289  12.0  5433.0  7914.0  11400.0   \n",
       "1       414259.0  9437.526040  5092.186210  12.0  5863.0  8098.0  12454.0   \n",
       "\n",
       "            max  \n",
       "Gender           \n",
       "0       23959.0  \n",
       "1       23961.0  "
      ]
     },
     "execution_count": 33,
     "metadata": {},
     "output_type": "execute_result"
    }
   ],
   "source": [
    "df.Purchase.groupby(df.Gender).describe()"
   ]
  },
  {
   "cell_type": "code",
   "execution_count": 34,
   "id": "6d9fede1",
   "metadata": {},
   "outputs": [
    {
     "data": {
      "text/plain": [
       "Gender\n",
       "1    3.909580e+09\n",
       "0    1.186233e+09\n",
       "Name: Purchase, dtype: float64"
      ]
     },
     "execution_count": 34,
     "metadata": {},
     "output_type": "execute_result"
    }
   ],
   "source": [
    "df.Purchase.groupby(df.Gender).sum().sort_values(ascending=False)"
   ]
  },
  {
   "cell_type": "code",
   "execution_count": 35,
   "id": "0b26066b",
   "metadata": {},
   "outputs": [
    {
     "data": {
      "text/html": [
       "<div>\n",
       "<style scoped>\n",
       "    .dataframe tbody tr th:only-of-type {\n",
       "        vertical-align: middle;\n",
       "    }\n",
       "\n",
       "    .dataframe tbody tr th {\n",
       "        vertical-align: top;\n",
       "    }\n",
       "\n",
       "    .dataframe thead th {\n",
       "        text-align: right;\n",
       "    }\n",
       "</style>\n",
       "<table border=\"1\" class=\"dataframe\">\n",
       "  <thead>\n",
       "    <tr style=\"text-align: right;\">\n",
       "      <th></th>\n",
       "      <th>count</th>\n",
       "      <th>mean</th>\n",
       "      <th>std</th>\n",
       "      <th>min</th>\n",
       "      <th>25%</th>\n",
       "      <th>50%</th>\n",
       "      <th>75%</th>\n",
       "      <th>max</th>\n",
       "    </tr>\n",
       "    <tr>\n",
       "      <th>Occupation</th>\n",
       "      <th></th>\n",
       "      <th></th>\n",
       "      <th></th>\n",
       "      <th></th>\n",
       "      <th></th>\n",
       "      <th></th>\n",
       "      <th></th>\n",
       "      <th></th>\n",
       "    </tr>\n",
       "  </thead>\n",
       "  <tbody>\n",
       "    <tr>\n",
       "      <th>0</th>\n",
       "      <td>69638.0</td>\n",
       "      <td>9124.428588</td>\n",
       "      <td>4971.757402</td>\n",
       "      <td>12.0</td>\n",
       "      <td>5445.00</td>\n",
       "      <td>8001.0</td>\n",
       "      <td>11957.00</td>\n",
       "      <td>23961.0</td>\n",
       "    </tr>\n",
       "    <tr>\n",
       "      <th>1</th>\n",
       "      <td>47426.0</td>\n",
       "      <td>8953.193270</td>\n",
       "      <td>4838.482159</td>\n",
       "      <td>12.0</td>\n",
       "      <td>5825.00</td>\n",
       "      <td>7966.0</td>\n",
       "      <td>11702.75</td>\n",
       "      <td>23960.0</td>\n",
       "    </tr>\n",
       "    <tr>\n",
       "      <th>2</th>\n",
       "      <td>26588.0</td>\n",
       "      <td>8952.481683</td>\n",
       "      <td>4939.418663</td>\n",
       "      <td>12.0</td>\n",
       "      <td>5419.00</td>\n",
       "      <td>7952.0</td>\n",
       "      <td>11718.00</td>\n",
       "      <td>23955.0</td>\n",
       "    </tr>\n",
       "    <tr>\n",
       "      <th>3</th>\n",
       "      <td>17650.0</td>\n",
       "      <td>9178.593088</td>\n",
       "      <td>5000.942719</td>\n",
       "      <td>12.0</td>\n",
       "      <td>5478.00</td>\n",
       "      <td>8008.0</td>\n",
       "      <td>11961.00</td>\n",
       "      <td>23914.0</td>\n",
       "    </tr>\n",
       "    <tr>\n",
       "      <th>4</th>\n",
       "      <td>72308.0</td>\n",
       "      <td>9213.980251</td>\n",
       "      <td>5043.674855</td>\n",
       "      <td>12.0</td>\n",
       "      <td>5441.75</td>\n",
       "      <td>8043.0</td>\n",
       "      <td>12034.00</td>\n",
       "      <td>23961.0</td>\n",
       "    </tr>\n",
       "    <tr>\n",
       "      <th>5</th>\n",
       "      <td>12177.0</td>\n",
       "      <td>9333.149298</td>\n",
       "      <td>5025.616603</td>\n",
       "      <td>12.0</td>\n",
       "      <td>5452.00</td>\n",
       "      <td>8080.0</td>\n",
       "      <td>12091.00</td>\n",
       "      <td>23924.0</td>\n",
       "    </tr>\n",
       "    <tr>\n",
       "      <th>6</th>\n",
       "      <td>20355.0</td>\n",
       "      <td>9256.535691</td>\n",
       "      <td>4989.216005</td>\n",
       "      <td>12.0</td>\n",
       "      <td>5888.00</td>\n",
       "      <td>8050.0</td>\n",
       "      <td>11971.50</td>\n",
       "      <td>23951.0</td>\n",
       "    </tr>\n",
       "    <tr>\n",
       "      <th>7</th>\n",
       "      <td>59133.0</td>\n",
       "      <td>9425.728223</td>\n",
       "      <td>5086.097089</td>\n",
       "      <td>12.0</td>\n",
       "      <td>5878.00</td>\n",
       "      <td>8069.0</td>\n",
       "      <td>12486.00</td>\n",
       "      <td>23948.0</td>\n",
       "    </tr>\n",
       "    <tr>\n",
       "      <th>8</th>\n",
       "      <td>1546.0</td>\n",
       "      <td>9532.592497</td>\n",
       "      <td>4916.641374</td>\n",
       "      <td>14.0</td>\n",
       "      <td>5961.75</td>\n",
       "      <td>8419.5</td>\n",
       "      <td>12607.00</td>\n",
       "      <td>23869.0</td>\n",
       "    </tr>\n",
       "    <tr>\n",
       "      <th>9</th>\n",
       "      <td>6291.0</td>\n",
       "      <td>8637.743761</td>\n",
       "      <td>4653.290986</td>\n",
       "      <td>13.0</td>\n",
       "      <td>5403.00</td>\n",
       "      <td>7886.0</td>\n",
       "      <td>11436.00</td>\n",
       "      <td>23943.0</td>\n",
       "    </tr>\n",
       "    <tr>\n",
       "      <th>10</th>\n",
       "      <td>12930.0</td>\n",
       "      <td>8959.355375</td>\n",
       "      <td>5124.339999</td>\n",
       "      <td>12.0</td>\n",
       "      <td>5326.25</td>\n",
       "      <td>8012.5</td>\n",
       "      <td>11931.75</td>\n",
       "      <td>23955.0</td>\n",
       "    </tr>\n",
       "    <tr>\n",
       "      <th>11</th>\n",
       "      <td>11586.0</td>\n",
       "      <td>9213.845848</td>\n",
       "      <td>5103.802992</td>\n",
       "      <td>12.0</td>\n",
       "      <td>5835.75</td>\n",
       "      <td>8041.5</td>\n",
       "      <td>12010.00</td>\n",
       "      <td>23946.0</td>\n",
       "    </tr>\n",
       "    <tr>\n",
       "      <th>12</th>\n",
       "      <td>31179.0</td>\n",
       "      <td>9796.640239</td>\n",
       "      <td>5140.437446</td>\n",
       "      <td>12.0</td>\n",
       "      <td>6054.00</td>\n",
       "      <td>8569.0</td>\n",
       "      <td>13239.00</td>\n",
       "      <td>23960.0</td>\n",
       "    </tr>\n",
       "    <tr>\n",
       "      <th>13</th>\n",
       "      <td>7728.0</td>\n",
       "      <td>9306.351061</td>\n",
       "      <td>4940.156591</td>\n",
       "      <td>12.0</td>\n",
       "      <td>6038.00</td>\n",
       "      <td>8090.5</td>\n",
       "      <td>11798.50</td>\n",
       "      <td>23959.0</td>\n",
       "    </tr>\n",
       "    <tr>\n",
       "      <th>14</th>\n",
       "      <td>27309.0</td>\n",
       "      <td>9500.702772</td>\n",
       "      <td>5069.600234</td>\n",
       "      <td>12.0</td>\n",
       "      <td>5922.00</td>\n",
       "      <td>8122.0</td>\n",
       "      <td>12508.00</td>\n",
       "      <td>23941.0</td>\n",
       "    </tr>\n",
       "    <tr>\n",
       "      <th>15</th>\n",
       "      <td>12165.0</td>\n",
       "      <td>9778.891163</td>\n",
       "      <td>5088.424301</td>\n",
       "      <td>12.0</td>\n",
       "      <td>6109.00</td>\n",
       "      <td>8513.0</td>\n",
       "      <td>13150.00</td>\n",
       "      <td>23949.0</td>\n",
       "    </tr>\n",
       "    <tr>\n",
       "      <th>16</th>\n",
       "      <td>25371.0</td>\n",
       "      <td>9394.464349</td>\n",
       "      <td>4995.918117</td>\n",
       "      <td>12.0</td>\n",
       "      <td>5917.00</td>\n",
       "      <td>8070.0</td>\n",
       "      <td>12218.50</td>\n",
       "      <td>23947.0</td>\n",
       "    </tr>\n",
       "    <tr>\n",
       "      <th>17</th>\n",
       "      <td>40043.0</td>\n",
       "      <td>9821.478236</td>\n",
       "      <td>5137.024383</td>\n",
       "      <td>12.0</td>\n",
       "      <td>6012.00</td>\n",
       "      <td>8635.0</td>\n",
       "      <td>13292.50</td>\n",
       "      <td>23961.0</td>\n",
       "    </tr>\n",
       "    <tr>\n",
       "      <th>18</th>\n",
       "      <td>6622.0</td>\n",
       "      <td>9169.655844</td>\n",
       "      <td>4987.697451</td>\n",
       "      <td>12.0</td>\n",
       "      <td>5420.00</td>\n",
       "      <td>7955.0</td>\n",
       "      <td>12062.75</td>\n",
       "      <td>23894.0</td>\n",
       "    </tr>\n",
       "    <tr>\n",
       "      <th>19</th>\n",
       "      <td>8461.0</td>\n",
       "      <td>8710.627231</td>\n",
       "      <td>5024.181000</td>\n",
       "      <td>12.0</td>\n",
       "      <td>5292.00</td>\n",
       "      <td>7840.0</td>\n",
       "      <td>11745.00</td>\n",
       "      <td>23939.0</td>\n",
       "    </tr>\n",
       "    <tr>\n",
       "      <th>20</th>\n",
       "      <td>33562.0</td>\n",
       "      <td>8836.494905</td>\n",
       "      <td>4919.662409</td>\n",
       "      <td>12.0</td>\n",
       "      <td>5389.00</td>\n",
       "      <td>7903.5</td>\n",
       "      <td>11677.00</td>\n",
       "      <td>23960.0</td>\n",
       "    </tr>\n",
       "  </tbody>\n",
       "</table>\n",
       "</div>"
      ],
      "text/plain": [
       "              count         mean          std   min      25%     50%  \\\n",
       "Occupation                                                             \n",
       "0           69638.0  9124.428588  4971.757402  12.0  5445.00  8001.0   \n",
       "1           47426.0  8953.193270  4838.482159  12.0  5825.00  7966.0   \n",
       "2           26588.0  8952.481683  4939.418663  12.0  5419.00  7952.0   \n",
       "3           17650.0  9178.593088  5000.942719  12.0  5478.00  8008.0   \n",
       "4           72308.0  9213.980251  5043.674855  12.0  5441.75  8043.0   \n",
       "5           12177.0  9333.149298  5025.616603  12.0  5452.00  8080.0   \n",
       "6           20355.0  9256.535691  4989.216005  12.0  5888.00  8050.0   \n",
       "7           59133.0  9425.728223  5086.097089  12.0  5878.00  8069.0   \n",
       "8            1546.0  9532.592497  4916.641374  14.0  5961.75  8419.5   \n",
       "9            6291.0  8637.743761  4653.290986  13.0  5403.00  7886.0   \n",
       "10          12930.0  8959.355375  5124.339999  12.0  5326.25  8012.5   \n",
       "11          11586.0  9213.845848  5103.802992  12.0  5835.75  8041.5   \n",
       "12          31179.0  9796.640239  5140.437446  12.0  6054.00  8569.0   \n",
       "13           7728.0  9306.351061  4940.156591  12.0  6038.00  8090.5   \n",
       "14          27309.0  9500.702772  5069.600234  12.0  5922.00  8122.0   \n",
       "15          12165.0  9778.891163  5088.424301  12.0  6109.00  8513.0   \n",
       "16          25371.0  9394.464349  4995.918117  12.0  5917.00  8070.0   \n",
       "17          40043.0  9821.478236  5137.024383  12.0  6012.00  8635.0   \n",
       "18           6622.0  9169.655844  4987.697451  12.0  5420.00  7955.0   \n",
       "19           8461.0  8710.627231  5024.181000  12.0  5292.00  7840.0   \n",
       "20          33562.0  8836.494905  4919.662409  12.0  5389.00  7903.5   \n",
       "\n",
       "                 75%      max  \n",
       "Occupation                     \n",
       "0           11957.00  23961.0  \n",
       "1           11702.75  23960.0  \n",
       "2           11718.00  23955.0  \n",
       "3           11961.00  23914.0  \n",
       "4           12034.00  23961.0  \n",
       "5           12091.00  23924.0  \n",
       "6           11971.50  23951.0  \n",
       "7           12486.00  23948.0  \n",
       "8           12607.00  23869.0  \n",
       "9           11436.00  23943.0  \n",
       "10          11931.75  23955.0  \n",
       "11          12010.00  23946.0  \n",
       "12          13239.00  23960.0  \n",
       "13          11798.50  23959.0  \n",
       "14          12508.00  23941.0  \n",
       "15          13150.00  23949.0  \n",
       "16          12218.50  23947.0  \n",
       "17          13292.50  23961.0  \n",
       "18          12062.75  23894.0  \n",
       "19          11745.00  23939.0  \n",
       "20          11677.00  23960.0  "
      ]
     },
     "execution_count": 35,
     "metadata": {},
     "output_type": "execute_result"
    }
   ],
   "source": [
    "df.Purchase.groupby(df.Occupation).describe()"
   ]
  },
  {
   "cell_type": "code",
   "execution_count": 36,
   "id": "3733d0ca",
   "metadata": {},
   "outputs": [
    {
     "data": {
      "text/plain": [
       "Occupation\n",
       "4     666244484.0\n",
       "0     635406958.0\n",
       "7     557371587.0\n",
       "1     424614144.0\n",
       "17    393281453.0\n",
       "12    305449446.0\n",
       "20    296570442.0\n",
       "14    259454692.0\n",
       "16    238346955.0\n",
       "2     238028583.0\n",
       "6     188416784.0\n",
       "3     162002168.0\n",
       "15    118960211.0\n",
       "10    115844465.0\n",
       "5     113649759.0\n",
       "11    106751618.0\n",
       "19     73700617.0\n",
       "13     71919481.0\n",
       "18     60721461.0\n",
       "9      54340046.0\n",
       "8      14737388.0\n",
       "Name: Purchase, dtype: float64"
      ]
     },
     "execution_count": 36,
     "metadata": {},
     "output_type": "execute_result"
    }
   ],
   "source": [
    "df.Purchase.groupby(df.Occupation).sum().sort_values(ascending=False)"
   ]
  },
  {
   "cell_type": "code",
   "execution_count": 37,
   "id": "c937a6ee",
   "metadata": {},
   "outputs": [
    {
     "data": {
      "text/html": [
       "<div>\n",
       "<style scoped>\n",
       "    .dataframe tbody tr th:only-of-type {\n",
       "        vertical-align: middle;\n",
       "    }\n",
       "\n",
       "    .dataframe tbody tr th {\n",
       "        vertical-align: top;\n",
       "    }\n",
       "\n",
       "    .dataframe thead th {\n",
       "        text-align: right;\n",
       "    }\n",
       "</style>\n",
       "<table border=\"1\" class=\"dataframe\">\n",
       "  <thead>\n",
       "    <tr style=\"text-align: right;\">\n",
       "      <th></th>\n",
       "      <th>count</th>\n",
       "      <th>mean</th>\n",
       "      <th>std</th>\n",
       "      <th>min</th>\n",
       "      <th>25%</th>\n",
       "      <th>50%</th>\n",
       "      <th>75%</th>\n",
       "      <th>max</th>\n",
       "    </tr>\n",
       "    <tr>\n",
       "      <th>City_Category</th>\n",
       "      <th></th>\n",
       "      <th></th>\n",
       "      <th></th>\n",
       "      <th></th>\n",
       "      <th></th>\n",
       "      <th></th>\n",
       "      <th></th>\n",
       "      <th></th>\n",
       "    </tr>\n",
       "  </thead>\n",
       "  <tbody>\n",
       "    <tr>\n",
       "      <th>0</th>\n",
       "      <td>147720.0</td>\n",
       "      <td>8911.939216</td>\n",
       "      <td>4892.115238</td>\n",
       "      <td>12.0</td>\n",
       "      <td>5403.0</td>\n",
       "      <td>7931.0</td>\n",
       "      <td>11786.0</td>\n",
       "      <td>23961.0</td>\n",
       "    </tr>\n",
       "    <tr>\n",
       "      <th>1</th>\n",
       "      <td>231173.0</td>\n",
       "      <td>9151.300563</td>\n",
       "      <td>4955.496566</td>\n",
       "      <td>12.0</td>\n",
       "      <td>5460.0</td>\n",
       "      <td>8005.0</td>\n",
       "      <td>11986.0</td>\n",
       "      <td>23960.0</td>\n",
       "    </tr>\n",
       "    <tr>\n",
       "      <th>2</th>\n",
       "      <td>171175.0</td>\n",
       "      <td>9719.920993</td>\n",
       "      <td>5189.465121</td>\n",
       "      <td>12.0</td>\n",
       "      <td>6031.5</td>\n",
       "      <td>8585.0</td>\n",
       "      <td>13197.0</td>\n",
       "      <td>23961.0</td>\n",
       "    </tr>\n",
       "  </tbody>\n",
       "</table>\n",
       "</div>"
      ],
      "text/plain": [
       "                  count         mean          std   min     25%     50%  \\\n",
       "City_Category                                                             \n",
       "0              147720.0  8911.939216  4892.115238  12.0  5403.0  7931.0   \n",
       "1              231173.0  9151.300563  4955.496566  12.0  5460.0  8005.0   \n",
       "2              171175.0  9719.920993  5189.465121  12.0  6031.5  8585.0   \n",
       "\n",
       "                   75%      max  \n",
       "City_Category                    \n",
       "0              11786.0  23961.0  \n",
       "1              11986.0  23960.0  \n",
       "2              13197.0  23961.0  "
      ]
     },
     "execution_count": 37,
     "metadata": {},
     "output_type": "execute_result"
    }
   ],
   "source": [
    "df.Purchase.groupby(df.City_Category).describe()"
   ]
  },
  {
   "cell_type": "code",
   "execution_count": 38,
   "id": "7e803bc6",
   "metadata": {},
   "outputs": [
    {
     "data": {
      "text/plain": [
       "City_Category\n",
       "1    2.115534e+09\n",
       "2    1.663807e+09\n",
       "0    1.316472e+09\n",
       "Name: Purchase, dtype: float64"
      ]
     },
     "execution_count": 38,
     "metadata": {},
     "output_type": "execute_result"
    }
   ],
   "source": [
    "df.Purchase.groupby(df.City_Category).sum().sort_values(ascending=False)"
   ]
  },
  {
   "cell_type": "code",
   "execution_count": 39,
   "id": "110d86b9",
   "metadata": {},
   "outputs": [
    {
     "data": {
      "text/html": [
       "<div>\n",
       "<style scoped>\n",
       "    .dataframe tbody tr th:only-of-type {\n",
       "        vertical-align: middle;\n",
       "    }\n",
       "\n",
       "    .dataframe tbody tr th {\n",
       "        vertical-align: top;\n",
       "    }\n",
       "\n",
       "    .dataframe thead th {\n",
       "        text-align: right;\n",
       "    }\n",
       "</style>\n",
       "<table border=\"1\" class=\"dataframe\">\n",
       "  <thead>\n",
       "    <tr style=\"text-align: right;\">\n",
       "      <th></th>\n",
       "      <th>count</th>\n",
       "      <th>mean</th>\n",
       "      <th>std</th>\n",
       "      <th>min</th>\n",
       "      <th>25%</th>\n",
       "      <th>50%</th>\n",
       "      <th>75%</th>\n",
       "      <th>max</th>\n",
       "    </tr>\n",
       "    <tr>\n",
       "      <th>Marital_Status</th>\n",
       "      <th></th>\n",
       "      <th></th>\n",
       "      <th></th>\n",
       "      <th></th>\n",
       "      <th></th>\n",
       "      <th></th>\n",
       "      <th></th>\n",
       "      <th></th>\n",
       "    </tr>\n",
       "  </thead>\n",
       "  <tbody>\n",
       "    <tr>\n",
       "      <th>0</th>\n",
       "      <td>324731.0</td>\n",
       "      <td>9265.907619</td>\n",
       "      <td>5027.347859</td>\n",
       "      <td>12.0</td>\n",
       "      <td>5605.0</td>\n",
       "      <td>8044.0</td>\n",
       "      <td>12061.0</td>\n",
       "      <td>23961.0</td>\n",
       "    </tr>\n",
       "    <tr>\n",
       "      <th>1</th>\n",
       "      <td>225337.0</td>\n",
       "      <td>9261.174574</td>\n",
       "      <td>5016.897378</td>\n",
       "      <td>12.0</td>\n",
       "      <td>5843.0</td>\n",
       "      <td>8051.0</td>\n",
       "      <td>12042.0</td>\n",
       "      <td>23961.0</td>\n",
       "    </tr>\n",
       "  </tbody>\n",
       "</table>\n",
       "</div>"
      ],
      "text/plain": [
       "                   count         mean          std   min     25%     50%  \\\n",
       "Marital_Status                                                             \n",
       "0               324731.0  9265.907619  5027.347859  12.0  5605.0  8044.0   \n",
       "1               225337.0  9261.174574  5016.897378  12.0  5843.0  8051.0   \n",
       "\n",
       "                    75%      max  \n",
       "Marital_Status                    \n",
       "0               12061.0  23961.0  \n",
       "1               12042.0  23961.0  "
      ]
     },
     "execution_count": 39,
     "metadata": {},
     "output_type": "execute_result"
    }
   ],
   "source": [
    "df.Purchase.groupby(df.Marital_Status).describe()"
   ]
  },
  {
   "cell_type": "code",
   "execution_count": 40,
   "id": "f0aa0ac8",
   "metadata": {},
   "outputs": [
    {
     "data": {
      "text/plain": [
       "Marital_Status\n",
       "0    3.008927e+09\n",
       "1    2.086885e+09\n",
       "Name: Purchase, dtype: float64"
      ]
     },
     "execution_count": 40,
     "metadata": {},
     "output_type": "execute_result"
    }
   ],
   "source": [
    "df.Purchase.groupby(df.Marital_Status).sum().sort_values(ascending=False)"
   ]
  },
  {
   "cell_type": "code",
   "execution_count": 41,
   "id": "744fccbf",
   "metadata": {},
   "outputs": [
    {
     "data": {
      "text/html": [
       "<div>\n",
       "<style scoped>\n",
       "    .dataframe tbody tr th:only-of-type {\n",
       "        vertical-align: middle;\n",
       "    }\n",
       "\n",
       "    .dataframe tbody tr th {\n",
       "        vertical-align: top;\n",
       "    }\n",
       "\n",
       "    .dataframe thead th {\n",
       "        text-align: right;\n",
       "    }\n",
       "</style>\n",
       "<table border=\"1\" class=\"dataframe\">\n",
       "  <thead>\n",
       "    <tr style=\"text-align: right;\">\n",
       "      <th></th>\n",
       "      <th>count</th>\n",
       "      <th>mean</th>\n",
       "      <th>std</th>\n",
       "      <th>min</th>\n",
       "      <th>25%</th>\n",
       "      <th>50%</th>\n",
       "      <th>75%</th>\n",
       "      <th>max</th>\n",
       "    </tr>\n",
       "    <tr>\n",
       "      <th>Product_Category_1</th>\n",
       "      <th></th>\n",
       "      <th></th>\n",
       "      <th></th>\n",
       "      <th></th>\n",
       "      <th></th>\n",
       "      <th></th>\n",
       "      <th></th>\n",
       "      <th></th>\n",
       "    </tr>\n",
       "  </thead>\n",
       "  <tbody>\n",
       "    <tr>\n",
       "      <th>1</th>\n",
       "      <td>140378.0</td>\n",
       "      <td>13606.218596</td>\n",
       "      <td>4298.834894</td>\n",
       "      <td>3790.0</td>\n",
       "      <td>11546.00</td>\n",
       "      <td>15245.0</td>\n",
       "      <td>15812.00</td>\n",
       "      <td>19708.0</td>\n",
       "    </tr>\n",
       "    <tr>\n",
       "      <th>2</th>\n",
       "      <td>23864.0</td>\n",
       "      <td>11251.935384</td>\n",
       "      <td>3570.642713</td>\n",
       "      <td>3176.0</td>\n",
       "      <td>9645.75</td>\n",
       "      <td>12728.5</td>\n",
       "      <td>13212.00</td>\n",
       "      <td>16504.0</td>\n",
       "    </tr>\n",
       "    <tr>\n",
       "      <th>3</th>\n",
       "      <td>20213.0</td>\n",
       "      <td>10096.705734</td>\n",
       "      <td>2824.626957</td>\n",
       "      <td>2638.0</td>\n",
       "      <td>8198.00</td>\n",
       "      <td>10742.0</td>\n",
       "      <td>13211.00</td>\n",
       "      <td>13717.0</td>\n",
       "    </tr>\n",
       "    <tr>\n",
       "      <th>4</th>\n",
       "      <td>11753.0</td>\n",
       "      <td>2329.659491</td>\n",
       "      <td>812.540292</td>\n",
       "      <td>684.0</td>\n",
       "      <td>2058.00</td>\n",
       "      <td>2175.0</td>\n",
       "      <td>2837.00</td>\n",
       "      <td>3556.0</td>\n",
       "    </tr>\n",
       "    <tr>\n",
       "      <th>5</th>\n",
       "      <td>150933.0</td>\n",
       "      <td>6240.088178</td>\n",
       "      <td>1909.091687</td>\n",
       "      <td>1713.0</td>\n",
       "      <td>5242.00</td>\n",
       "      <td>6912.0</td>\n",
       "      <td>7156.00</td>\n",
       "      <td>8907.0</td>\n",
       "    </tr>\n",
       "    <tr>\n",
       "      <th>6</th>\n",
       "      <td>20466.0</td>\n",
       "      <td>15838.478550</td>\n",
       "      <td>4011.233690</td>\n",
       "      <td>3981.0</td>\n",
       "      <td>12505.00</td>\n",
       "      <td>16312.0</td>\n",
       "      <td>20051.00</td>\n",
       "      <td>20690.0</td>\n",
       "    </tr>\n",
       "    <tr>\n",
       "      <th>7</th>\n",
       "      <td>3721.0</td>\n",
       "      <td>16365.689600</td>\n",
       "      <td>4174.554105</td>\n",
       "      <td>4061.0</td>\n",
       "      <td>12848.00</td>\n",
       "      <td>16700.0</td>\n",
       "      <td>20486.00</td>\n",
       "      <td>21080.0</td>\n",
       "    </tr>\n",
       "    <tr>\n",
       "      <th>8</th>\n",
       "      <td>113925.0</td>\n",
       "      <td>7498.958078</td>\n",
       "      <td>2013.015062</td>\n",
       "      <td>1939.0</td>\n",
       "      <td>6036.00</td>\n",
       "      <td>7905.0</td>\n",
       "      <td>9722.00</td>\n",
       "      <td>10082.0</td>\n",
       "    </tr>\n",
       "    <tr>\n",
       "      <th>9</th>\n",
       "      <td>410.0</td>\n",
       "      <td>15537.375610</td>\n",
       "      <td>5330.847116</td>\n",
       "      <td>4528.0</td>\n",
       "      <td>13583.50</td>\n",
       "      <td>14388.5</td>\n",
       "      <td>18764.00</td>\n",
       "      <td>23531.0</td>\n",
       "    </tr>\n",
       "    <tr>\n",
       "      <th>10</th>\n",
       "      <td>5125.0</td>\n",
       "      <td>19675.570927</td>\n",
       "      <td>4225.721898</td>\n",
       "      <td>4624.0</td>\n",
       "      <td>18546.00</td>\n",
       "      <td>19197.0</td>\n",
       "      <td>23438.00</td>\n",
       "      <td>23961.0</td>\n",
       "    </tr>\n",
       "    <tr>\n",
       "      <th>11</th>\n",
       "      <td>24287.0</td>\n",
       "      <td>4685.268456</td>\n",
       "      <td>1834.901184</td>\n",
       "      <td>1472.0</td>\n",
       "      <td>3131.00</td>\n",
       "      <td>4611.0</td>\n",
       "      <td>6058.00</td>\n",
       "      <td>7654.0</td>\n",
       "    </tr>\n",
       "    <tr>\n",
       "      <th>12</th>\n",
       "      <td>3947.0</td>\n",
       "      <td>1350.859894</td>\n",
       "      <td>362.510258</td>\n",
       "      <td>342.0</td>\n",
       "      <td>1071.00</td>\n",
       "      <td>1401.0</td>\n",
       "      <td>1723.00</td>\n",
       "      <td>1778.0</td>\n",
       "    </tr>\n",
       "    <tr>\n",
       "      <th>13</th>\n",
       "      <td>5549.0</td>\n",
       "      <td>722.400613</td>\n",
       "      <td>183.493126</td>\n",
       "      <td>185.0</td>\n",
       "      <td>578.00</td>\n",
       "      <td>755.0</td>\n",
       "      <td>927.00</td>\n",
       "      <td>962.0</td>\n",
       "    </tr>\n",
       "    <tr>\n",
       "      <th>14</th>\n",
       "      <td>1523.0</td>\n",
       "      <td>13141.625739</td>\n",
       "      <td>4069.009293</td>\n",
       "      <td>3657.0</td>\n",
       "      <td>11097.00</td>\n",
       "      <td>14654.0</td>\n",
       "      <td>15176.50</td>\n",
       "      <td>18931.0</td>\n",
       "    </tr>\n",
       "    <tr>\n",
       "      <th>15</th>\n",
       "      <td>6290.0</td>\n",
       "      <td>14780.451828</td>\n",
       "      <td>5175.465852</td>\n",
       "      <td>4148.0</td>\n",
       "      <td>12523.25</td>\n",
       "      <td>16660.0</td>\n",
       "      <td>20745.75</td>\n",
       "      <td>21569.0</td>\n",
       "    </tr>\n",
       "    <tr>\n",
       "      <th>16</th>\n",
       "      <td>9828.0</td>\n",
       "      <td>14766.037037</td>\n",
       "      <td>4360.213198</td>\n",
       "      <td>4036.0</td>\n",
       "      <td>12354.00</td>\n",
       "      <td>16292.5</td>\n",
       "      <td>16831.00</td>\n",
       "      <td>20971.0</td>\n",
       "    </tr>\n",
       "    <tr>\n",
       "      <th>17</th>\n",
       "      <td>578.0</td>\n",
       "      <td>10170.759516</td>\n",
       "      <td>2333.993073</td>\n",
       "      <td>2616.0</td>\n",
       "      <td>8063.50</td>\n",
       "      <td>10435.5</td>\n",
       "      <td>12776.75</td>\n",
       "      <td>13264.0</td>\n",
       "    </tr>\n",
       "    <tr>\n",
       "      <th>18</th>\n",
       "      <td>3125.0</td>\n",
       "      <td>2972.864320</td>\n",
       "      <td>727.051652</td>\n",
       "      <td>754.0</td>\n",
       "      <td>2359.00</td>\n",
       "      <td>3071.0</td>\n",
       "      <td>3769.00</td>\n",
       "      <td>3900.0</td>\n",
       "    </tr>\n",
       "    <tr>\n",
       "      <th>19</th>\n",
       "      <td>1603.0</td>\n",
       "      <td>37.041797</td>\n",
       "      <td>16.869148</td>\n",
       "      <td>12.0</td>\n",
       "      <td>24.00</td>\n",
       "      <td>37.0</td>\n",
       "      <td>50.00</td>\n",
       "      <td>62.0</td>\n",
       "    </tr>\n",
       "    <tr>\n",
       "      <th>20</th>\n",
       "      <td>2550.0</td>\n",
       "      <td>370.481176</td>\n",
       "      <td>167.116975</td>\n",
       "      <td>118.0</td>\n",
       "      <td>242.00</td>\n",
       "      <td>368.0</td>\n",
       "      <td>490.00</td>\n",
       "      <td>613.0</td>\n",
       "    </tr>\n",
       "  </tbody>\n",
       "</table>\n",
       "</div>"
      ],
      "text/plain": [
       "                       count          mean          std     min       25%  \\\n",
       "Product_Category_1                                                          \n",
       "1                   140378.0  13606.218596  4298.834894  3790.0  11546.00   \n",
       "2                    23864.0  11251.935384  3570.642713  3176.0   9645.75   \n",
       "3                    20213.0  10096.705734  2824.626957  2638.0   8198.00   \n",
       "4                    11753.0   2329.659491   812.540292   684.0   2058.00   \n",
       "5                   150933.0   6240.088178  1909.091687  1713.0   5242.00   \n",
       "6                    20466.0  15838.478550  4011.233690  3981.0  12505.00   \n",
       "7                     3721.0  16365.689600  4174.554105  4061.0  12848.00   \n",
       "8                   113925.0   7498.958078  2013.015062  1939.0   6036.00   \n",
       "9                      410.0  15537.375610  5330.847116  4528.0  13583.50   \n",
       "10                    5125.0  19675.570927  4225.721898  4624.0  18546.00   \n",
       "11                   24287.0   4685.268456  1834.901184  1472.0   3131.00   \n",
       "12                    3947.0   1350.859894   362.510258   342.0   1071.00   \n",
       "13                    5549.0    722.400613   183.493126   185.0    578.00   \n",
       "14                    1523.0  13141.625739  4069.009293  3657.0  11097.00   \n",
       "15                    6290.0  14780.451828  5175.465852  4148.0  12523.25   \n",
       "16                    9828.0  14766.037037  4360.213198  4036.0  12354.00   \n",
       "17                     578.0  10170.759516  2333.993073  2616.0   8063.50   \n",
       "18                    3125.0   2972.864320   727.051652   754.0   2359.00   \n",
       "19                    1603.0     37.041797    16.869148    12.0     24.00   \n",
       "20                    2550.0    370.481176   167.116975   118.0    242.00   \n",
       "\n",
       "                        50%       75%      max  \n",
       "Product_Category_1                              \n",
       "1                   15245.0  15812.00  19708.0  \n",
       "2                   12728.5  13212.00  16504.0  \n",
       "3                   10742.0  13211.00  13717.0  \n",
       "4                    2175.0   2837.00   3556.0  \n",
       "5                    6912.0   7156.00   8907.0  \n",
       "6                   16312.0  20051.00  20690.0  \n",
       "7                   16700.0  20486.00  21080.0  \n",
       "8                    7905.0   9722.00  10082.0  \n",
       "9                   14388.5  18764.00  23531.0  \n",
       "10                  19197.0  23438.00  23961.0  \n",
       "11                   4611.0   6058.00   7654.0  \n",
       "12                   1401.0   1723.00   1778.0  \n",
       "13                    755.0    927.00    962.0  \n",
       "14                  14654.0  15176.50  18931.0  \n",
       "15                  16660.0  20745.75  21569.0  \n",
       "16                  16292.5  16831.00  20971.0  \n",
       "17                  10435.5  12776.75  13264.0  \n",
       "18                   3071.0   3769.00   3900.0  \n",
       "19                     37.0     50.00     62.0  \n",
       "20                    368.0    490.00    613.0  "
      ]
     },
     "execution_count": 41,
     "metadata": {},
     "output_type": "execute_result"
    }
   ],
   "source": [
    "df.Purchase.groupby(df.Product_Category_1).describe()"
   ]
  },
  {
   "cell_type": "code",
   "execution_count": 42,
   "id": "17373b11",
   "metadata": {},
   "outputs": [
    {
     "data": {
      "text/plain": [
       "Product_Category_1\n",
       "1     1.910014e+09\n",
       "5     9.418352e+08\n",
       "8     8.543188e+08\n",
       "6     3.241503e+08\n",
       "2     2.685162e+08\n",
       "3     2.040847e+08\n",
       "16    1.451206e+08\n",
       "11    1.137911e+08\n",
       "10    1.008373e+08\n",
       "15    9.296904e+07\n",
       "7     6.089673e+07\n",
       "4     2.738049e+07\n",
       "14    2.001470e+07\n",
       "18    9.290201e+06\n",
       "9     6.370324e+06\n",
       "17    5.878699e+06\n",
       "12    5.331844e+06\n",
       "13    4.008601e+06\n",
       "20    9.447270e+05\n",
       "19    5.937800e+04\n",
       "Name: Purchase, dtype: float64"
      ]
     },
     "execution_count": 42,
     "metadata": {},
     "output_type": "execute_result"
    }
   ],
   "source": [
    "df.Purchase.groupby(df.Product_Category_1).sum().sort_values(ascending=False)"
   ]
  },
  {
   "cell_type": "code",
   "execution_count": 43,
   "id": "43c13cb3",
   "metadata": {},
   "outputs": [
    {
     "data": {
      "text/html": [
       "<div>\n",
       "<style scoped>\n",
       "    .dataframe tbody tr th:only-of-type {\n",
       "        vertical-align: middle;\n",
       "    }\n",
       "\n",
       "    .dataframe tbody tr th {\n",
       "        vertical-align: top;\n",
       "    }\n",
       "\n",
       "    .dataframe thead th {\n",
       "        text-align: right;\n",
       "    }\n",
       "</style>\n",
       "<table border=\"1\" class=\"dataframe\">\n",
       "  <thead>\n",
       "    <tr style=\"text-align: right;\">\n",
       "      <th></th>\n",
       "      <th>count</th>\n",
       "      <th>mean</th>\n",
       "      <th>std</th>\n",
       "      <th>min</th>\n",
       "      <th>25%</th>\n",
       "      <th>50%</th>\n",
       "      <th>75%</th>\n",
       "      <th>max</th>\n",
       "    </tr>\n",
       "    <tr>\n",
       "      <th>Product_Category_2</th>\n",
       "      <th></th>\n",
       "      <th></th>\n",
       "      <th></th>\n",
       "      <th></th>\n",
       "      <th></th>\n",
       "      <th></th>\n",
       "      <th></th>\n",
       "      <th></th>\n",
       "    </tr>\n",
       "  </thead>\n",
       "  <tbody>\n",
       "    <tr>\n",
       "      <th>2.0</th>\n",
       "      <td>49217.0</td>\n",
       "      <td>13619.356401</td>\n",
       "      <td>4275.570831</td>\n",
       "      <td>3790.0</td>\n",
       "      <td>11551.00</td>\n",
       "      <td>15241.0</td>\n",
       "      <td>15810.00</td>\n",
       "      <td>19708.0</td>\n",
       "    </tr>\n",
       "    <tr>\n",
       "      <th>3.0</th>\n",
       "      <td>2884.0</td>\n",
       "      <td>11235.359570</td>\n",
       "      <td>3581.718925</td>\n",
       "      <td>3177.0</td>\n",
       "      <td>9651.50</td>\n",
       "      <td>12714.5</td>\n",
       "      <td>13188.25</td>\n",
       "      <td>19573.0</td>\n",
       "    </tr>\n",
       "    <tr>\n",
       "      <th>4.0</th>\n",
       "      <td>25677.0</td>\n",
       "      <td>10215.192001</td>\n",
       "      <td>3172.992496</td>\n",
       "      <td>2639.0</td>\n",
       "      <td>8174.00</td>\n",
       "      <td>10681.0</td>\n",
       "      <td>13066.00</td>\n",
       "      <td>19612.0</td>\n",
       "    </tr>\n",
       "    <tr>\n",
       "      <th>5.0</th>\n",
       "      <td>26235.0</td>\n",
       "      <td>9027.821574</td>\n",
       "      <td>5807.891048</td>\n",
       "      <td>684.0</td>\n",
       "      <td>2826.00</td>\n",
       "      <td>9892.0</td>\n",
       "      <td>13509.00</td>\n",
       "      <td>19708.0</td>\n",
       "    </tr>\n",
       "    <tr>\n",
       "      <th>6.0</th>\n",
       "      <td>16466.0</td>\n",
       "      <td>11503.551379</td>\n",
       "      <td>5205.810351</td>\n",
       "      <td>1714.0</td>\n",
       "      <td>7060.25</td>\n",
       "      <td>11611.0</td>\n",
       "      <td>15632.00</td>\n",
       "      <td>19708.0</td>\n",
       "    </tr>\n",
       "    <tr>\n",
       "      <th>7.0</th>\n",
       "      <td>626.0</td>\n",
       "      <td>6884.683706</td>\n",
       "      <td>1765.432375</td>\n",
       "      <td>1718.0</td>\n",
       "      <td>5423.25</td>\n",
       "      <td>7058.0</td>\n",
       "      <td>8651.75</td>\n",
       "      <td>8906.0</td>\n",
       "    </tr>\n",
       "    <tr>\n",
       "      <th>8.0</th>\n",
       "      <td>237726.0</td>\n",
       "      <td>8261.291933</td>\n",
       "      <td>4652.238932</td>\n",
       "      <td>12.0</td>\n",
       "      <td>5337.00</td>\n",
       "      <td>7166.0</td>\n",
       "      <td>9821.00</td>\n",
       "      <td>23959.0</td>\n",
       "    </tr>\n",
       "    <tr>\n",
       "      <th>9.0</th>\n",
       "      <td>5693.0</td>\n",
       "      <td>7277.006851</td>\n",
       "      <td>3522.511363</td>\n",
       "      <td>710.0</td>\n",
       "      <td>5241.00</td>\n",
       "      <td>6955.0</td>\n",
       "      <td>8838.00</td>\n",
       "      <td>16504.0</td>\n",
       "    </tr>\n",
       "    <tr>\n",
       "      <th>10.0</th>\n",
       "      <td>3043.0</td>\n",
       "      <td>15648.729543</td>\n",
       "      <td>4475.656738</td>\n",
       "      <td>1908.0</td>\n",
       "      <td>12329.00</td>\n",
       "      <td>16341.0</td>\n",
       "      <td>20122.50</td>\n",
       "      <td>20690.0</td>\n",
       "    </tr>\n",
       "    <tr>\n",
       "      <th>11.0</th>\n",
       "      <td>14134.0</td>\n",
       "      <td>8940.580515</td>\n",
       "      <td>4971.156614</td>\n",
       "      <td>707.0</td>\n",
       "      <td>5321.00</td>\n",
       "      <td>7180.0</td>\n",
       "      <td>11899.50</td>\n",
       "      <td>20688.0</td>\n",
       "    </tr>\n",
       "    <tr>\n",
       "      <th>12.0</th>\n",
       "      <td>5528.0</td>\n",
       "      <td>6975.472504</td>\n",
       "      <td>2816.487463</td>\n",
       "      <td>689.0</td>\n",
       "      <td>5310.75</td>\n",
       "      <td>7021.0</td>\n",
       "      <td>8629.00</td>\n",
       "      <td>21034.0</td>\n",
       "    </tr>\n",
       "    <tr>\n",
       "      <th>13.0</th>\n",
       "      <td>10531.0</td>\n",
       "      <td>9683.352388</td>\n",
       "      <td>5732.918227</td>\n",
       "      <td>1472.0</td>\n",
       "      <td>5990.00</td>\n",
       "      <td>7981.0</td>\n",
       "      <td>10059.50</td>\n",
       "      <td>23960.0</td>\n",
       "    </tr>\n",
       "    <tr>\n",
       "      <th>14.0</th>\n",
       "      <td>55108.0</td>\n",
       "      <td>7105.264916</td>\n",
       "      <td>3253.277735</td>\n",
       "      <td>185.0</td>\n",
       "      <td>5317.00</td>\n",
       "      <td>7026.0</td>\n",
       "      <td>8617.00</td>\n",
       "      <td>23939.0</td>\n",
       "    </tr>\n",
       "    <tr>\n",
       "      <th>15.0</th>\n",
       "      <td>37855.0</td>\n",
       "      <td>10357.077691</td>\n",
       "      <td>5608.407152</td>\n",
       "      <td>187.0</td>\n",
       "      <td>5945.00</td>\n",
       "      <td>8857.0</td>\n",
       "      <td>15415.00</td>\n",
       "      <td>23961.0</td>\n",
       "    </tr>\n",
       "    <tr>\n",
       "      <th>16.0</th>\n",
       "      <td>43255.0</td>\n",
       "      <td>10295.681933</td>\n",
       "      <td>5778.651927</td>\n",
       "      <td>185.0</td>\n",
       "      <td>6008.00</td>\n",
       "      <td>9832.0</td>\n",
       "      <td>15461.00</td>\n",
       "      <td>23960.0</td>\n",
       "    </tr>\n",
       "    <tr>\n",
       "      <th>17.0</th>\n",
       "      <td>13320.0</td>\n",
       "      <td>9421.576577</td>\n",
       "      <td>4146.850410</td>\n",
       "      <td>350.0</td>\n",
       "      <td>7141.75</td>\n",
       "      <td>8314.5</td>\n",
       "      <td>10027.00</td>\n",
       "      <td>21569.0</td>\n",
       "    </tr>\n",
       "    <tr>\n",
       "      <th>18.0</th>\n",
       "      <td>2770.0</td>\n",
       "      <td>9352.440433</td>\n",
       "      <td>4862.383695</td>\n",
       "      <td>1717.0</td>\n",
       "      <td>5463.75</td>\n",
       "      <td>7991.0</td>\n",
       "      <td>12112.00</td>\n",
       "      <td>19695.0</td>\n",
       "    </tr>\n",
       "  </tbody>\n",
       "</table>\n",
       "</div>"
      ],
      "text/plain": [
       "                       count          mean          std     min       25%  \\\n",
       "Product_Category_2                                                          \n",
       "2.0                  49217.0  13619.356401  4275.570831  3790.0  11551.00   \n",
       "3.0                   2884.0  11235.359570  3581.718925  3177.0   9651.50   \n",
       "4.0                  25677.0  10215.192001  3172.992496  2639.0   8174.00   \n",
       "5.0                  26235.0   9027.821574  5807.891048   684.0   2826.00   \n",
       "6.0                  16466.0  11503.551379  5205.810351  1714.0   7060.25   \n",
       "7.0                    626.0   6884.683706  1765.432375  1718.0   5423.25   \n",
       "8.0                 237726.0   8261.291933  4652.238932    12.0   5337.00   \n",
       "9.0                   5693.0   7277.006851  3522.511363   710.0   5241.00   \n",
       "10.0                  3043.0  15648.729543  4475.656738  1908.0  12329.00   \n",
       "11.0                 14134.0   8940.580515  4971.156614   707.0   5321.00   \n",
       "12.0                  5528.0   6975.472504  2816.487463   689.0   5310.75   \n",
       "13.0                 10531.0   9683.352388  5732.918227  1472.0   5990.00   \n",
       "14.0                 55108.0   7105.264916  3253.277735   185.0   5317.00   \n",
       "15.0                 37855.0  10357.077691  5608.407152   187.0   5945.00   \n",
       "16.0                 43255.0  10295.681933  5778.651927   185.0   6008.00   \n",
       "17.0                 13320.0   9421.576577  4146.850410   350.0   7141.75   \n",
       "18.0                  2770.0   9352.440433  4862.383695  1717.0   5463.75   \n",
       "\n",
       "                        50%       75%      max  \n",
       "Product_Category_2                              \n",
       "2.0                 15241.0  15810.00  19708.0  \n",
       "3.0                 12714.5  13188.25  19573.0  \n",
       "4.0                 10681.0  13066.00  19612.0  \n",
       "5.0                  9892.0  13509.00  19708.0  \n",
       "6.0                 11611.0  15632.00  19708.0  \n",
       "7.0                  7058.0   8651.75   8906.0  \n",
       "8.0                  7166.0   9821.00  23959.0  \n",
       "9.0                  6955.0   8838.00  16504.0  \n",
       "10.0                16341.0  20122.50  20690.0  \n",
       "11.0                 7180.0  11899.50  20688.0  \n",
       "12.0                 7021.0   8629.00  21034.0  \n",
       "13.0                 7981.0  10059.50  23960.0  \n",
       "14.0                 7026.0   8617.00  23939.0  \n",
       "15.0                 8857.0  15415.00  23961.0  \n",
       "16.0                 9832.0  15461.00  23960.0  \n",
       "17.0                 8314.5  10027.00  21569.0  \n",
       "18.0                 7991.0  12112.00  19695.0  "
      ]
     },
     "execution_count": 43,
     "metadata": {},
     "output_type": "execute_result"
    }
   ],
   "source": [
    "df.Purchase.groupby(df.Product_Category_2).describe()"
   ]
  },
  {
   "cell_type": "code",
   "execution_count": 44,
   "id": "f809125a",
   "metadata": {},
   "outputs": [
    {
     "data": {
      "text/plain": [
       "Product_Category_2\n",
       "8.0     1.963924e+09\n",
       "2.0     6.703039e+08\n",
       "16.0    4.453397e+08\n",
       "15.0    3.920672e+08\n",
       "14.0    3.915569e+08\n",
       "4.0     2.622955e+08\n",
       "5.0     2.368449e+08\n",
       "6.0     1.894175e+08\n",
       "11.0    1.263662e+08\n",
       "17.0    1.254954e+08\n",
       "13.0    1.019754e+08\n",
       "10.0    4.761908e+07\n",
       "9.0     4.142800e+07\n",
       "12.0    3.856041e+07\n",
       "3.0     3.240278e+07\n",
       "18.0    2.590626e+07\n",
       "7.0     4.309812e+06\n",
       "Name: Purchase, dtype: float64"
      ]
     },
     "execution_count": 44,
     "metadata": {},
     "output_type": "execute_result"
    }
   ],
   "source": [
    "df.Purchase.groupby(df.Product_Category_2).sum().sort_values(ascending=False)"
   ]
  },
  {
   "cell_type": "code",
   "execution_count": 45,
   "id": "89bd107e",
   "metadata": {},
   "outputs": [
    {
     "data": {
      "text/html": [
       "<div>\n",
       "<style scoped>\n",
       "    .dataframe tbody tr th:only-of-type {\n",
       "        vertical-align: middle;\n",
       "    }\n",
       "\n",
       "    .dataframe tbody tr th {\n",
       "        vertical-align: top;\n",
       "    }\n",
       "\n",
       "    .dataframe thead th {\n",
       "        text-align: right;\n",
       "    }\n",
       "</style>\n",
       "<table border=\"1\" class=\"dataframe\">\n",
       "  <thead>\n",
       "    <tr style=\"text-align: right;\">\n",
       "      <th></th>\n",
       "      <th>count</th>\n",
       "      <th>mean</th>\n",
       "      <th>std</th>\n",
       "      <th>min</th>\n",
       "      <th>25%</th>\n",
       "      <th>50%</th>\n",
       "      <th>75%</th>\n",
       "      <th>max</th>\n",
       "    </tr>\n",
       "    <tr>\n",
       "      <th>Product_Category_3</th>\n",
       "      <th></th>\n",
       "      <th></th>\n",
       "      <th></th>\n",
       "      <th></th>\n",
       "      <th></th>\n",
       "      <th></th>\n",
       "      <th></th>\n",
       "      <th></th>\n",
       "    </tr>\n",
       "  </thead>\n",
       "  <tbody>\n",
       "    <tr>\n",
       "      <th>3.0</th>\n",
       "      <td>613.0</td>\n",
       "      <td>13939.696574</td>\n",
       "      <td>4262.999709</td>\n",
       "      <td>3846.0</td>\n",
       "      <td>11590.00</td>\n",
       "      <td>15288.0</td>\n",
       "      <td>15886.00</td>\n",
       "      <td>19698.0</td>\n",
       "    </tr>\n",
       "    <tr>\n",
       "      <th>4.0</th>\n",
       "      <td>1875.0</td>\n",
       "      <td>9794.386667</td>\n",
       "      <td>4085.114927</td>\n",
       "      <td>3177.0</td>\n",
       "      <td>6641.00</td>\n",
       "      <td>9850.0</td>\n",
       "      <td>12910.50</td>\n",
       "      <td>19680.0</td>\n",
       "    </tr>\n",
       "    <tr>\n",
       "      <th>5.0</th>\n",
       "      <td>16658.0</td>\n",
       "      <td>12117.786889</td>\n",
       "      <td>3931.937020</td>\n",
       "      <td>2639.0</td>\n",
       "      <td>9834.25</td>\n",
       "      <td>11767.5</td>\n",
       "      <td>15334.00</td>\n",
       "      <td>19708.0</td>\n",
       "    </tr>\n",
       "    <tr>\n",
       "      <th>6.0</th>\n",
       "      <td>4890.0</td>\n",
       "      <td>13194.311043</td>\n",
       "      <td>4149.266327</td>\n",
       "      <td>3792.0</td>\n",
       "      <td>11499.25</td>\n",
       "      <td>15174.5</td>\n",
       "      <td>15706.00</td>\n",
       "      <td>19708.0</td>\n",
       "    </tr>\n",
       "    <tr>\n",
       "      <th>8.0</th>\n",
       "      <td>12562.0</td>\n",
       "      <td>13024.918882</td>\n",
       "      <td>5346.600610</td>\n",
       "      <td>685.0</td>\n",
       "      <td>9594.25</td>\n",
       "      <td>15204.0</td>\n",
       "      <td>16362.00</td>\n",
       "      <td>19708.0</td>\n",
       "    </tr>\n",
       "    <tr>\n",
       "      <th>9.0</th>\n",
       "      <td>11579.0</td>\n",
       "      <td>10431.697210</td>\n",
       "      <td>5692.208568</td>\n",
       "      <td>684.0</td>\n",
       "      <td>4522.00</td>\n",
       "      <td>11390.0</td>\n",
       "      <td>15457.50</td>\n",
       "      <td>19707.0</td>\n",
       "    </tr>\n",
       "    <tr>\n",
       "      <th>10.0</th>\n",
       "      <td>1726.0</td>\n",
       "      <td>13505.813441</td>\n",
       "      <td>3827.550957</td>\n",
       "      <td>3185.0</td>\n",
       "      <td>10125.50</td>\n",
       "      <td>13051.0</td>\n",
       "      <td>16287.00</td>\n",
       "      <td>20685.0</td>\n",
       "    </tr>\n",
       "    <tr>\n",
       "      <th>11.0</th>\n",
       "      <td>1805.0</td>\n",
       "      <td>12091.437673</td>\n",
       "      <td>4677.665726</td>\n",
       "      <td>1750.0</td>\n",
       "      <td>8069.00</td>\n",
       "      <td>11912.0</td>\n",
       "      <td>15610.00</td>\n",
       "      <td>19705.0</td>\n",
       "    </tr>\n",
       "    <tr>\n",
       "      <th>12.0</th>\n",
       "      <td>9246.0</td>\n",
       "      <td>8715.512762</td>\n",
       "      <td>4187.046841</td>\n",
       "      <td>684.0</td>\n",
       "      <td>5422.00</td>\n",
       "      <td>8370.0</td>\n",
       "      <td>11023.75</td>\n",
       "      <td>19706.0</td>\n",
       "    </tr>\n",
       "    <tr>\n",
       "      <th>13.0</th>\n",
       "      <td>5459.0</td>\n",
       "      <td>13185.118703</td>\n",
       "      <td>5019.142809</td>\n",
       "      <td>684.0</td>\n",
       "      <td>8728.00</td>\n",
       "      <td>12612.0</td>\n",
       "      <td>16424.50</td>\n",
       "      <td>20690.0</td>\n",
       "    </tr>\n",
       "    <tr>\n",
       "      <th>14.0</th>\n",
       "      <td>18428.0</td>\n",
       "      <td>10052.594530</td>\n",
       "      <td>4916.310000</td>\n",
       "      <td>1714.0</td>\n",
       "      <td>6862.00</td>\n",
       "      <td>8653.0</td>\n",
       "      <td>15212.25</td>\n",
       "      <td>20689.0</td>\n",
       "    </tr>\n",
       "    <tr>\n",
       "      <th>15.0</th>\n",
       "      <td>28013.0</td>\n",
       "      <td>12339.369900</td>\n",
       "      <td>4482.385745</td>\n",
       "      <td>686.0</td>\n",
       "      <td>9565.00</td>\n",
       "      <td>12011.0</td>\n",
       "      <td>15628.00</td>\n",
       "      <td>20686.0</td>\n",
       "    </tr>\n",
       "    <tr>\n",
       "      <th>16.0</th>\n",
       "      <td>415883.0</td>\n",
       "      <td>8516.903374</td>\n",
       "      <td>4819.479717</td>\n",
       "      <td>12.0</td>\n",
       "      <td>5360.00</td>\n",
       "      <td>7794.0</td>\n",
       "      <td>10043.00</td>\n",
       "      <td>23961.0</td>\n",
       "    </tr>\n",
       "    <tr>\n",
       "      <th>17.0</th>\n",
       "      <td>16702.0</td>\n",
       "      <td>11769.943001</td>\n",
       "      <td>5090.429146</td>\n",
       "      <td>374.0</td>\n",
       "      <td>7859.00</td>\n",
       "      <td>11431.5</td>\n",
       "      <td>15704.75</td>\n",
       "      <td>21525.0</td>\n",
       "    </tr>\n",
       "    <tr>\n",
       "      <th>18.0</th>\n",
       "      <td>4629.0</td>\n",
       "      <td>10993.980773</td>\n",
       "      <td>5035.439074</td>\n",
       "      <td>686.0</td>\n",
       "      <td>6999.00</td>\n",
       "      <td>11589.0</td>\n",
       "      <td>15523.00</td>\n",
       "      <td>19705.0</td>\n",
       "    </tr>\n",
       "  </tbody>\n",
       "</table>\n",
       "</div>"
      ],
      "text/plain": [
       "                       count          mean          std     min       25%  \\\n",
       "Product_Category_3                                                          \n",
       "3.0                    613.0  13939.696574  4262.999709  3846.0  11590.00   \n",
       "4.0                   1875.0   9794.386667  4085.114927  3177.0   6641.00   \n",
       "5.0                  16658.0  12117.786889  3931.937020  2639.0   9834.25   \n",
       "6.0                   4890.0  13194.311043  4149.266327  3792.0  11499.25   \n",
       "8.0                  12562.0  13024.918882  5346.600610   685.0   9594.25   \n",
       "9.0                  11579.0  10431.697210  5692.208568   684.0   4522.00   \n",
       "10.0                  1726.0  13505.813441  3827.550957  3185.0  10125.50   \n",
       "11.0                  1805.0  12091.437673  4677.665726  1750.0   8069.00   \n",
       "12.0                  9246.0   8715.512762  4187.046841   684.0   5422.00   \n",
       "13.0                  5459.0  13185.118703  5019.142809   684.0   8728.00   \n",
       "14.0                 18428.0  10052.594530  4916.310000  1714.0   6862.00   \n",
       "15.0                 28013.0  12339.369900  4482.385745   686.0   9565.00   \n",
       "16.0                415883.0   8516.903374  4819.479717    12.0   5360.00   \n",
       "17.0                 16702.0  11769.943001  5090.429146   374.0   7859.00   \n",
       "18.0                  4629.0  10993.980773  5035.439074   686.0   6999.00   \n",
       "\n",
       "                        50%       75%      max  \n",
       "Product_Category_3                              \n",
       "3.0                 15288.0  15886.00  19698.0  \n",
       "4.0                  9850.0  12910.50  19680.0  \n",
       "5.0                 11767.5  15334.00  19708.0  \n",
       "6.0                 15174.5  15706.00  19708.0  \n",
       "8.0                 15204.0  16362.00  19708.0  \n",
       "9.0                 11390.0  15457.50  19707.0  \n",
       "10.0                13051.0  16287.00  20685.0  \n",
       "11.0                11912.0  15610.00  19705.0  \n",
       "12.0                 8370.0  11023.75  19706.0  \n",
       "13.0                12612.0  16424.50  20690.0  \n",
       "14.0                 8653.0  15212.25  20689.0  \n",
       "15.0                12011.0  15628.00  20686.0  \n",
       "16.0                 7794.0  10043.00  23961.0  \n",
       "17.0                11431.5  15704.75  21525.0  \n",
       "18.0                11589.0  15523.00  19705.0  "
      ]
     },
     "execution_count": 45,
     "metadata": {},
     "output_type": "execute_result"
    }
   ],
   "source": [
    "df.Purchase.groupby(df.Product_Category_3).describe()"
   ]
  },
  {
   "cell_type": "code",
   "execution_count": 46,
   "id": "ec65298d",
   "metadata": {},
   "outputs": [
    {
     "data": {
      "text/plain": [
       "Product_Category_3\n",
       "16.0    3.542035e+09\n",
       "15.0    3.456628e+08\n",
       "5.0     2.018581e+08\n",
       "17.0    1.965816e+08\n",
       "14.0    1.852492e+08\n",
       "8.0     1.636190e+08\n",
       "9.0     1.207886e+08\n",
       "12.0    8.058363e+07\n",
       "13.0    7.197756e+07\n",
       "6.0     6.452018e+07\n",
       "18.0    5.089114e+07\n",
       "10.0    2.331103e+07\n",
       "11.0    2.182504e+07\n",
       "4.0     1.836448e+07\n",
       "3.0     8.545034e+06\n",
       "Name: Purchase, dtype: float64"
      ]
     },
     "execution_count": 46,
     "metadata": {},
     "output_type": "execute_result"
    }
   ],
   "source": [
    "df.Purchase.groupby(df.Product_Category_3).sum().sort_values(ascending=False)"
   ]
  },
  {
   "cell_type": "code",
   "execution_count": 47,
   "id": "301bad85",
   "metadata": {},
   "outputs": [],
   "source": [
    "del df['Marital_Status']"
   ]
  },
  {
   "cell_type": "code",
   "execution_count": 48,
   "id": "61f02b2a",
   "metadata": {},
   "outputs": [],
   "source": [
    "from statsmodels.stats.multicomp import pairwise_tukeyhsd"
   ]
  },
  {
   "cell_type": "code",
   "execution_count": 49,
   "id": "7cc1b754",
   "metadata": {},
   "outputs": [],
   "source": [
    "categorical_new = ['City_Category', 'Occupation', 'Product_Category_1', 'Product_Category_2', 'Product_Category_3']"
   ]
  },
  {
   "cell_type": "code",
   "execution_count": 50,
   "id": "85ad9458",
   "metadata": {},
   "outputs": [
    {
     "name": "stdout",
     "output_type": "stream",
     "text": [
      "City_Category\n",
      " Multiple Comparison of Means - Tukey HSD, FWER=0.05 \n",
      "=====================================================\n",
      "group1 group2 meandiff p-adj  lower    upper   reject\n",
      "-----------------------------------------------------\n",
      "     0      1 239.3613  -0.0 200.2276  278.495   True\n",
      "     0      2 807.9818  -0.0 766.2598 849.7038   True\n",
      "     1      2 568.6204  -0.0 531.1583 606.0826   True\n",
      "-----------------------------------------------------\n",
      "Occupation\n",
      "    Multiple Comparison of Means - Tukey HSD, FWER=0.05    \n",
      "===========================================================\n",
      "group1 group2  meandiff  p-adj    lower      upper   reject\n",
      "-----------------------------------------------------------\n",
      "     0      1  -171.2353    0.0  -277.7801  -64.6905   True\n",
      "     0      2  -171.9469 0.0004  -300.9595  -42.9343   True\n",
      "     0      3    54.1645 0.9996   -96.6468  204.9758  False\n",
      "     0      4    89.5517 0.0948    -5.4645  184.5678  False\n",
      "     0      5   208.7207  0.004    32.9384   384.503   True\n",
      "     0      6   132.1071 0.1119   -10.4857  274.6999  False\n",
      "     0      7   301.2996    0.0   201.2252   401.374   True\n",
      "     0      8   408.1639 0.1645   -52.0029  868.3308  False\n",
      "     0      9  -486.6848    0.0  -722.2835 -251.0861   True\n",
      "     0     10  -165.0732 0.0759  -336.4435    6.2971  False\n",
      "     0     11    89.4173 0.9736   -90.1406  268.9751  False\n",
      "     0     12   672.2117    0.0   550.2665  794.1568   True\n",
      "     0     13   181.9225 0.2326   -32.6482  396.4932  False\n",
      "     0     14   376.2742    0.0      248.5  504.0484   True\n",
      "     0     15   654.4626    0.0   478.6065  830.3187   True\n",
      "     0     16   270.0358    0.0   138.8029  401.2686   True\n",
      "     0     17   697.0496    0.0   584.8139  809.2854   True\n",
      "     0     18    45.2273    1.0  -184.9078  275.3623  False\n",
      "     0     19  -413.8014    0.0  -619.8362 -207.7665   True\n",
      "     0     20  -287.9337    0.0  -406.8509 -169.0164   True\n",
      "     1      2    -0.7116    1.0   -137.818  136.3949  False\n",
      "     1      3   225.3998 0.0001     67.609  383.1907   True\n",
      "     1      4    260.787    0.0   155.0421  366.5319   True\n",
      "     1      5    379.956    0.0   198.1502  561.7618   True\n",
      "     1      6   303.3424    0.0    153.387  453.2979   True\n",
      "     1      7    472.535    0.0   362.2227  582.8472   True\n",
      "     1      8   579.3992 0.0015   116.8979 1041.9005   True\n",
      "     1      9  -315.4495 0.0005  -555.5759  -75.3232   True\n",
      "     1     10     6.1621    1.0  -171.3814  183.7056  False\n",
      "     1     11   260.6526 0.0001    75.1939  446.1113   True\n",
      "     1     12    843.447    0.0   712.9688  973.9251   True\n",
      "     1     13   353.1578    0.0   133.6253  572.6902   True\n",
      "     1     14   547.5095    0.0   411.5677  683.4513   True\n",
      "     1     15   825.6979    0.0   643.8208  1007.575   True\n",
      "     1     16   441.2711    0.0   302.0735  580.4687   True\n",
      "     1     17    868.285    0.0   746.8322  989.7378   True\n",
      "     1     18   216.4626 0.1171   -18.3055  451.2306  False\n",
      "     1     19   -242.566 0.0071  -453.7633  -31.3688   True\n",
      "     1     20  -116.6984 0.1267  -244.3511   10.9544  False\n",
      "     2      3   226.1114 0.0007    52.3575  399.8653   True\n",
      "     2      4   261.4986    0.0   133.1458  389.8514   True\n",
      "     2      5   380.6676    0.0   184.8468  576.4885   True\n",
      "     2      6    304.054    0.0   137.3834  470.7246   True\n",
      "     2      7   473.2465    0.0   341.1055  605.3876   True\n",
      "     2      8   580.1108 0.0018   111.9229 1048.2987   True\n",
      "     2      9  -314.7379 0.0014  -565.6425  -63.8333   True\n",
      "     2     10     6.8737    1.0  -184.9965  198.7438  False\n",
      "     2     11   261.3642 0.0005    62.1472  460.5811   True\n",
      "     2     12   844.1586    0.0   694.7698  993.5473   True\n",
      "     2     13   353.8694    0.0   122.5969  585.1419   True\n",
      "     2     14   548.2211    0.0   394.0373  702.4048   True\n",
      "     2     15   826.4095    0.0   630.5224 1022.2966   True\n",
      "     2     16   441.9827    0.0   284.9208  599.0445   True\n",
      "     2     17   868.9966    0.0   727.4224 1010.5707   True\n",
      "     2     18   217.1742 0.1697   -28.6073  462.9556  False\n",
      "     2     19  -241.8545 0.0178  -465.2303  -18.4786   True\n",
      "     2     20  -115.9868  0.364  -262.9143   30.9407  False\n",
      "     3      4    35.3872    1.0    -114.86  185.6344  False\n",
      "     3      5   154.5562 0.5163    -56.265  365.3774  False\n",
      "     3      6    77.9426 0.9961  -106.1195  262.0048  False\n",
      "     3      7   247.1351    0.0    93.6391  400.6312   True\n",
      "     3      8   353.9994 0.4806   -120.658  828.6569  False\n",
      "     3      9  -540.8493    0.0  -803.6285 -278.0701   True\n",
      "     3     10  -219.2377 0.0244  -426.3945  -12.0809   True\n",
      "     3     11    35.2528    1.0  -178.7266  249.2321  False\n",
      "     3     12   618.0472    0.0   449.4744  786.6199   True\n",
      "     3     13    127.758  0.956   -116.346  371.8619  False\n",
      "     3     14   322.1097    0.0   149.2733   494.946   True\n",
      "     3     15   600.2981    0.0   389.4153  811.1808   True\n",
      "     3     16   215.8713 0.0021    40.4626    391.28   True\n",
      "     3     17   642.8851    0.0   481.1971  804.5732   True\n",
      "     3     18    -8.9372    1.0  -266.8292  248.9548  False\n",
      "     3     19  -467.9659    0.0  -704.6017   -231.33   True\n",
      "     3     20  -342.0982    0.0  -508.4937 -175.7027   True\n",
      "     4      5    119.169  0.666   -56.1296  294.4677  False\n",
      "     4      6    42.5554    1.0   -99.4407  184.5516  False\n",
      "     4      7    211.748    0.0   112.5257  310.9703   True\n",
      "     4      8   318.6122 0.6306  -141.3701  778.5945  False\n",
      "     4      9  -576.2365    0.0  -811.4745 -340.9985   True\n",
      "     4     10  -254.6249    0.0   -425.499  -83.7508   True\n",
      "     4     11    -0.1344    1.0  -179.2187  178.9499  False\n",
      "     4     12     582.66    0.0   461.4131  703.9069   True\n",
      "     4     13    92.3708  0.995  -121.8038  306.5454  False\n",
      "     4     14   286.7225    0.0   159.6146  413.8305   True\n",
      "     4     15   564.9109    0.0   389.5383  740.2835   True\n",
      "     4     16   180.4841 0.0002    49.8999  311.0683   True\n",
      "     4     17    607.498    0.0   496.0213  718.9747   True\n",
      "     4     18   -44.3244    1.0  -274.0902  185.4414  False\n",
      "     4     19   -503.353    0.0  -708.9754 -297.7307   True\n",
      "     4     20  -377.4853    0.0  -495.6864 -259.2843   True\n",
      "     5      6   -76.6136 0.9993  -281.6362   128.409  False\n",
      "     5      7    92.5789 0.9589   -85.5121    270.67  False\n",
      "     5      8   199.4432 0.9972  -283.7287  682.6151  False\n",
      "     5      9  -695.4055    0.0  -973.2693 -417.5417   True\n",
      "     5     10  -373.7939    0.0  -599.7791 -147.8087   True\n",
      "     5     11  -119.3034 0.9635  -351.5588  112.9519  False\n",
      "     5     12   463.4909    0.0   272.2524  654.7295   True\n",
      "     5     13   -26.7982    1.0  -287.0714  233.4749  False\n",
      "     5     14   167.5535 0.2111   -27.4537  362.5606  False\n",
      "     5     15   445.7419    0.0   216.3363  675.1474   True\n",
      "     5     16    61.3151    1.0  -135.9756  258.6057  False\n",
      "     5     17   488.3289    0.0   303.1306  673.5272   True\n",
      "     5     18  -163.4935 0.8568    -436.74  109.7531  False\n",
      "     5     19  -622.5221    0.0  -875.8044 -369.2398   True\n",
      "     5     20  -496.6544    0.0  -685.9765 -307.3323   True\n",
      "     6      7   169.1925 0.0058    23.7631   314.622   True\n",
      "     6      8   276.0568 0.8806  -196.0537  748.1674  False\n",
      "     6      9  -618.7919    0.0  -876.9422 -360.6416   True\n",
      "     6     10  -297.1803    0.0  -498.4329  -95.9277   True\n",
      "     6     11   -42.6898    1.0  -250.9585  165.5788  False\n",
      "     6     12   540.1045    0.0   378.8424  701.3666   True\n",
      "     6     13    49.8154    1.0  -189.2984  288.9292  False\n",
      "     6     14   244.1671    0.0    78.4532  409.8809   True\n",
      "     6     15   522.3555    0.0   317.2696  727.4413   True\n",
      "     6     16   137.9287  0.293   -30.4664  306.3237  False\n",
      "     6     17   564.9425    0.0   410.8916  718.9935   True\n",
      "     6     18   -86.8798 0.9998  -340.0536  166.2939  False\n",
      "     6     19  -545.9085    0.0  -777.3933 -314.4237   True\n",
      "     6     20  -420.0408    0.0  -579.0255 -261.0561   True\n",
      "     7      8   106.8643    1.0  -354.1894   567.918  False\n",
      "     7      9  -787.9845    0.0 -1025.3107 -550.6582   True\n",
      "     7     10  -466.3728    0.0  -640.1105 -292.6352   True\n",
      "     7     11  -211.8824 0.0056   -393.701  -30.0638   True\n",
      "     7     12    370.912    0.0   245.6617  496.1623   True\n",
      "     7     13  -119.3772 0.9278  -335.8433    97.089  False\n",
      "     7     14    74.9745 0.8996   -55.9577  205.9068  False\n",
      "     7     15   353.1629    0.0    174.999  531.3268   True\n",
      "     7     16   -31.2639    1.0  -165.5734  103.0457  False\n",
      "     7     17     395.75    0.0   279.9317  511.5683   True\n",
      "     7     18  -256.0724 0.0133  -487.9756  -24.1691   True\n",
      "     7     19   -715.101    0.0  -923.1091 -507.0929   True\n",
      "     7     20  -589.2333    0.0  -711.5375 -466.9291   True\n",
      "     8      9  -894.8487    0.0 -1402.8472 -386.8503   True\n",
      "     8     10  -573.2371 0.0039 -1054.8214  -91.6528   True\n",
      "     8     11  -318.7466 0.7243  -803.3049  165.8116  False\n",
      "     8     12   264.0477 0.9087  -202.2422  730.3377  False\n",
      "     8     13  -226.2414 0.9908  -724.8357  272.3528  False\n",
      "     8     14   -31.8897    1.0  -499.7379  435.9584  False\n",
      "     8     15   246.2987 0.9663  -236.9001  729.4974  False\n",
      "     8     16  -138.1281    1.0  -606.9327  330.6764  False\n",
      "     8     17   288.8857 0.8075  -174.9596  752.7311  False\n",
      "     8     18  -362.9367 0.5592  -868.4243   142.551  False\n",
      "     8     19  -821.9653    0.0 -1316.9461 -326.9844   True\n",
      "     8     20  -696.0976    0.0 -1161.6048 -230.5904   True\n",
      "     9     10   321.6116 0.0053    46.5177  596.7055   True\n",
      "     9     11   576.1021    0.0   295.8346  856.3696   True\n",
      "     9     12  1158.8965    0.0   911.5516 1406.2414   True\n",
      "     9     13   668.6073    0.0   364.7168  972.4978   True\n",
      "     9     14    862.959    0.0   612.6889 1113.2291   True\n",
      "     9     15  1141.1474    0.0   863.2369 1419.0579   True\n",
      "     9     16   756.7206    0.0   504.6672  1008.774   True\n",
      "     9     17  1183.7345    0.0   941.0294 1426.4395   True\n",
      "     9     18   531.9121    0.0   216.8391  846.9851   True\n",
      "     9     19    72.8835    1.0  -225.0414  370.8084  False\n",
      "     9     20   198.7511 0.3177    -47.115  444.6173  False\n",
      "    10     11   254.4905  0.012    25.5562  483.4247   True\n",
      "    10     12   837.2849    0.0   650.0937  1024.476   True\n",
      "    10     13   346.9957 0.0003    89.6817  604.3096   True\n",
      "    10     14   541.3474    0.0   350.3078   732.387   True\n",
      "    10     15   819.5358    0.0   593.4932 1045.5784   True\n",
      "    10     16    435.109    0.0    241.739  628.4789   True\n",
      "    10     17   862.1229    0.0    681.107 1043.1388   True\n",
      "    10     18   210.3005 0.3942   -60.1288  480.7298  False\n",
      "    10     19  -248.7281 0.0536  -498.9686    1.5123  False\n",
      "    10     20  -122.8605 0.7101  -308.0933   62.3724  False\n",
      "    11     12   582.7944    0.0   388.0798  777.5089   True\n",
      "    11     13    92.5052 0.9997  -170.3326   355.343  False\n",
      "    11     14   286.8569 0.0001    88.4398  485.2741   True\n",
      "    11     15   565.0453    0.0   332.7341  797.3565   True\n",
      "    11     16   180.6185 0.1453   -20.0434  381.2804  False\n",
      "    11     17   607.6324    0.0   418.8468   796.418   True\n",
      "    11     18     -44.19    1.0  -319.8805  231.5005  False\n",
      "    11     19  -503.2186    0.0  -759.1356 -247.3016   True\n",
      "    11     20  -377.3509    0.0  -570.1836 -184.5183   True\n",
      "    12     13  -490.2892    0.0  -717.6948 -262.8835   True\n",
      "    12     14  -295.9375    0.0   -444.258 -147.6169   True\n",
      "    12     15   -17.7491    1.0  -209.0554  173.5573  False\n",
      "    12     16  -402.1759    0.0  -553.4862 -250.8656   True\n",
      "    12     17     24.838    1.0  -110.3271  160.0031  False\n",
      "    12     18  -626.9844    0.0  -869.1308  -384.838   True\n",
      "    12     19  -1086.013    0.0 -1305.3828 -866.6432   True\n",
      "    12     20  -960.1453    0.0 -1100.9078 -819.3829   True\n",
      "    13     14   194.3517 0.2424   -36.2322  424.9356  False\n",
      "    13     15   472.5401    0.0   212.2171  732.8631   True\n",
      "    13     16    88.1133 0.9991   -144.405  320.6316  False\n",
      "    13     17   515.1272    0.0   292.7771  737.4773   True\n",
      "    13     18  -136.6952 0.9902  -436.3697  162.9793  False\n",
      "    13     19  -595.7238    0.0  -877.3141 -314.1336   True\n",
      "    13     20  -469.8562    0.0  -695.6525 -244.0598   True\n",
      "    14     15   278.1884 0.0001    83.1147  473.2621   True\n",
      "    14     16  -106.2384 0.6633  -262.2846   49.8078  False\n",
      "    14     17   320.7755    0.0   180.3289   461.222   True\n",
      "    14     18  -331.0469 0.0003  -576.1805  -85.9133   True\n",
      "    14     19  -790.0755    0.0 -1012.7384 -567.4127   True\n",
      "    14     20  -664.2079    0.0  -810.0491 -518.3666   True\n",
      "    15     16  -384.4268    0.0  -581.7832 -187.0704   True\n",
      "    15     17    42.5871    1.0  -142.6813  227.8554  False\n",
      "    15     18  -609.2353    0.0  -882.5293 -335.9413   True\n",
      "    15     19 -1068.2639    0.0 -1321.5974 -814.9304   True\n",
      "    15     20  -942.3963    0.0 -1131.7869 -753.0057   True\n",
      "    16     17   427.0139    0.0   283.4136  570.6142   True\n",
      "    16     18  -224.8085 0.1316  -471.7625   22.1455  False\n",
      "    16     19  -683.8371    0.0  -908.5025 -459.1717   True\n",
      "    16     20  -557.9694    0.0  -706.8502 -409.0887   True\n",
      "    17     18  -651.8224    0.0  -889.2273 -414.4174   True\n",
      "    17     19  -1110.851    0.0 -1324.9756 -896.7264   True\n",
      "    17     20  -984.9833    0.0 -1117.4231 -852.5435   True\n",
      "    18     19  -459.0286    0.0  -752.6519 -165.4054   True\n",
      "    18     20  -333.1609 0.0002  -573.7967  -92.5252   True\n",
      "    19     20   125.8677 0.8911   -91.8335  343.5689  False\n",
      "-----------------------------------------------------------\n",
      "Product_Category_1\n",
      "      Multiple Comparison of Means - Tukey HSD, FWER=0.05      \n",
      "===============================================================\n",
      "group1 group2   meandiff  p-adj     lower       upper    reject\n",
      "---------------------------------------------------------------\n",
      "     1      2  -2354.2832    0.0  -2429.4259  -2279.1406   True\n",
      "     1      3  -3509.5129    0.0  -3590.2477   -3428.778   True\n",
      "     1      4 -11276.5591    0.0 -11379.6097 -11173.5085   True\n",
      "     1      5  -7366.1304    0.0   -7405.923  -7326.3378   True\n",
      "     1      6     2232.26    0.0   2151.9625   2312.5574   True\n",
      "     1      7    2759.471    0.0   2581.2263   2937.7157   True\n",
      "     1      8  -6107.2605    0.0  -6150.0544  -6064.4666   True\n",
      "     1      9    1931.157    0.0   1400.3864   2461.9276   True\n",
      "     1     10   6069.3523    0.0   5916.7346   6221.9701   True\n",
      "     1     11  -8920.9501    0.0  -8995.5314  -8846.3689   True\n",
      "     1     12 -12255.3587    0.0 -12428.5608 -12082.1566   True\n",
      "     1     13  -12883.818    0.0 -13030.7026 -12736.9333   True\n",
      "     1     14   -464.5929    0.0   -741.0697    -188.116   True\n",
      "     1     15   1174.2332    0.0   1035.9217   1312.5447   True\n",
      "     1     16   1159.8184    0.0   1047.8419    1271.795   True\n",
      "     1     17  -3435.4591    0.0  -3882.7539  -2988.1643   True\n",
      "     1     18 -10633.3543    0.0 -10827.4524 -10439.2561   True\n",
      "     1     19 -13569.1768    0.0 -13838.7423 -13299.6113   True\n",
      "     1     20 -13235.7374    0.0 -13450.1768  -13021.298   True\n",
      "     2      3  -1155.2296    0.0  -1257.8148  -1052.6445   True\n",
      "     2      4  -8922.2759    0.0  -9043.2098   -8801.342   True\n",
      "     2      5  -5011.8472    0.0  -5086.6071  -4937.0873   True\n",
      "     2      6   4586.5432    0.0   4484.3019   4688.7844   True\n",
      "     2      7   5113.7542    0.0   4924.6068   5302.9017   True\n",
      "     2      8  -3752.9773    0.0   -3829.377  -3676.5776   True\n",
      "     2      9   4285.4402    0.0   3750.9096   4819.9709   True\n",
      "     2     10   8423.6355    0.0   8258.4152   8588.8559   True\n",
      "     2     11  -6566.6669    0.0  -6664.4829   -6468.851   True\n",
      "     2     12  -9901.0755    0.0 -10085.4788  -9716.6722   True\n",
      "     2     13 -10529.5348    0.0 -10689.4744 -10369.5951   True\n",
      "     2     14   1889.6904    0.0    1606.062   2173.3187   True\n",
      "     2     15   3528.5164    0.0   3376.4123   3680.6206   True\n",
      "     2     16   3514.1017    0.0   3385.4769   3642.7264   True\n",
      "     2     17  -1081.1759    0.0   -1532.926   -629.4257   True\n",
      "     2     18  -8279.0711    0.0  -8483.2271   -8074.915   True\n",
      "     2     19 -11214.8936    0.0 -11491.7892  -10937.998   True\n",
      "     2     20 -10881.4542    0.0 -11105.0383 -10657.8701   True\n",
      "     3      4  -7767.0462    0.0  -7891.5321  -7642.5604   True\n",
      "     3      5  -3856.6176    0.0  -3936.9963  -3776.2388   True\n",
      "     3      6   5741.7728    0.0   5635.3539   5848.1917   True\n",
      "     3      7   6268.9839    0.0    6077.546   6460.4218   True\n",
      "     3      8  -2597.7477    0.0  -2679.6538  -2515.8415   True\n",
      "     3      9   5440.6699    0.0   4905.3245   5976.0153   True\n",
      "     3     10   9578.8652    0.0   9411.0276   9746.7028   True\n",
      "     3     11  -5411.4373    0.0  -5513.6119  -5309.2626   True\n",
      "     3     12  -8745.8458    0.0  -8932.5977   -8559.094   True\n",
      "     3     13  -9374.3051    0.0  -9536.9471  -9211.6632   True\n",
      "     3     14     3044.92    0.0   2759.7591   3330.0809   True\n",
      "     3     15   4683.7461    0.0    4528.803   4838.6892   True\n",
      "     3     16   4669.3313    0.0   4537.3615   4801.3012   True\n",
      "     3     17     74.0538    1.0   -378.6602    526.7677  False\n",
      "     3     18  -7123.8414    0.0  -7330.1213  -6917.5615   True\n",
      "     3     19 -10059.6639    0.0 -10338.1291  -9781.1988   True\n",
      "     3     20  -9726.2246    0.0  -9951.7496  -9500.6995   True\n",
      "     4      5   3910.4287    0.0   3807.6569   4013.2005   True\n",
      "     4      6  13508.8191    0.0  13384.6165  13633.0217   True\n",
      "     4      7  14036.0301    0.0  13834.1644  14237.8958   True\n",
      "     4      8   5169.2986    0.0   5065.3278   5273.2693   True\n",
      "     4      9  13207.7161    0.0  12668.5538  13746.8785   True\n",
      "     4     10  17345.9114    0.0  17166.2708  17525.5521   True\n",
      "     4     11    2355.609    0.0   2235.0231   2476.1949   True\n",
      "     4     12   -978.7996    0.0   -1176.227   -781.3722   True\n",
      "     4     13  -1607.2589    0.0   -1782.055  -1432.4627   True\n",
      "     4     14  10811.9662    0.0  10519.7026  11104.2299   True\n",
      "     4     15  12450.7923    0.0  12283.1359  12618.4488   True\n",
      "     4     16  12436.3775    0.0  12289.6896  12583.0655   True\n",
      "     4     17      7841.1    0.0   7383.8788   8298.3212   True\n",
      "     4     18    643.2048    0.0    427.2125    859.1972   True\n",
      "     4     19  -2292.6177    0.0  -2578.3521  -2006.8833   True\n",
      "     4     20  -1959.1783    0.0  -2193.6199  -1724.7368   True\n",
      "     5      6   9598.3904    0.0   9518.4509   9678.3298   True\n",
      "     5      7  10125.6014    0.0   9947.5177  10303.6851   True\n",
      "     5      8   1258.8699    0.0   1216.7516   1300.9882   True\n",
      "     5      9   9297.2874    0.0   8766.5709    9828.004   True\n",
      "     5     10  13435.4827    0.0  13283.0531  13587.9124   True\n",
      "     5     11  -1554.8197    0.0  -1629.0153  -1480.6241   True\n",
      "     5     12  -4889.2283    0.0  -5062.2647  -4716.1919   True\n",
      "     5     13  -5517.6876    0.0  -5664.3768  -5370.9983   True\n",
      "     5     14   6901.5376    0.0   6625.1645   7177.9106   True\n",
      "     5     15   8540.3637    0.0   8402.2597   8678.4676   True\n",
      "     5     16   8525.9489    0.0   8414.2288   8637.6689   True\n",
      "     5     17   3930.6713    0.0   3483.4407    4377.902   True\n",
      "     5     18  -3267.2239    0.0  -3461.1742  -3073.2735   True\n",
      "     5     19  -6203.0464    0.0  -6472.5054  -5933.5873   True\n",
      "     5     20   -5869.607    0.0  -6083.9126  -5655.3014   True\n",
      "     6      7     527.211    0.0    335.9572    718.4649   True\n",
      "     6      8  -8339.5205    0.0  -8420.9955  -8258.0454   True\n",
      "     6      9   -301.1029 0.9058   -836.3826    234.1767  False\n",
      "     6     10   3837.0924    0.0   3669.4647     4004.72   True\n",
      "     6     11 -11153.2101    0.0 -11255.0395 -11051.3807   True\n",
      "     6     12 -14487.6187    0.0 -14674.1819 -14301.0554   True\n",
      "     6     13 -15116.0779    0.0 -15278.5032 -14953.6527   True\n",
      "     6     14  -2696.8528    0.0  -2981.8902  -2411.8154   True\n",
      "     6     15  -1058.0267    0.0  -1212.7424   -903.3111   True\n",
      "     6     16  -1072.4415    0.0  -1204.1442   -940.7388   True\n",
      "     6     17   -5667.719    0.0  -6120.3552  -5215.0829   True\n",
      "     6     18 -12865.6142    0.0 -13071.7233 -12659.5051   True\n",
      "     6     19 -15801.4368    0.0 -16079.7754 -15523.0981   True\n",
      "     6     20 -15467.9974    0.0 -15693.3662 -15242.6286   True\n",
      "     7      8  -8866.7315    0.0  -9045.5098  -8687.9533   True\n",
      "     7      9    -828.314    0.0  -1386.7473   -269.8807   True\n",
      "     7     10   3309.8813    0.0   3078.7482   3541.0144   True\n",
      "     7     11 -11680.4211    0.0 -11869.3463  -11491.496   True\n",
      "     7     12 -15014.8297    0.0 -15260.0425 -14769.6169   True\n",
      "     7     13  -15643.289    0.0 -15870.6773 -15415.9007   True\n",
      "     7     14  -3224.0639    0.0  -3550.5141  -2897.6136   True\n",
      "     7     15  -1585.2378    0.0  -1807.1847  -1363.2909   True\n",
      "     7     16  -1599.6526    0.0  -1806.2175  -1393.0876   True\n",
      "     7     17  -6194.9301    0.0  -6674.7248  -5715.1354   True\n",
      "     7     18 -13392.8253    0.0 -13653.2181 -13132.4324   True\n",
      "     7     19 -16328.6478    0.0 -16649.2658 -16008.0298   True\n",
      "     7     20 -15995.2084    0.0 -16271.0972 -15719.3197   True\n",
      "     8      9   8038.4175    0.0   7507.4675   8569.3675   True\n",
      "     8     10  12176.6128    0.0  12023.3723  12329.8534   True\n",
      "     8     11  -2813.6896    0.0  -2889.5372   -2737.842   True\n",
      "     8     12  -6148.0982    0.0  -6321.8494   -5974.347   True\n",
      "     8     13  -6776.5575    0.0  -6924.0892  -6629.0258   True\n",
      "     8     14   5642.6677    0.0   5365.8465   5919.4888   True\n",
      "     8     15   7281.4938    0.0   7142.4953   7420.4922   True\n",
      "     8     16    7267.079    0.0    7154.255   7379.9029   True\n",
      "     8     17   2671.8014    0.0   2224.2938   3119.3091   True\n",
      "     8     18  -4526.0938    0.0   -4720.682  -4331.5055   True\n",
      "     8     19  -7461.9163    0.0  -7731.8349  -7191.9977   True\n",
      "     8     20  -7128.4769    0.0    -7343.36  -6913.5938   True\n",
      "     9     10   4138.1953    0.0   3587.4061   4688.9845   True\n",
      "     9     11 -10852.1072    0.0 -11386.5592 -10317.6551   True\n",
      "     9     12 -14186.5157    0.0   -14743.36 -13629.6714   True\n",
      "     9     13  -14814.975    0.0 -15364.2033 -14265.7467   True\n",
      "     9     14  -2395.7499    0.0  -2992.8395  -1798.6602   True\n",
      "     9     15   -756.9238 0.0002  -1303.9217   -209.9259   True\n",
      "     9     16   -771.3386 0.0001  -1312.2779   -230.3993   True\n",
      "     9     17  -5366.6161    0.0  -6059.5441  -4673.6881   True\n",
      "     9     18 -12564.5113    0.0 -13128.2051 -12000.8175   True\n",
      "     9     19 -15500.3338    0.0 -16094.2548 -14906.4128   True\n",
      "     9     20 -15166.8944    0.0 -15737.9118 -14595.8771   True\n",
      "    10     11 -14990.3025    0.0 -15155.2683 -14825.3367   True\n",
      "    10     12  -18324.711    0.0 -18551.9781  -18097.444   True\n",
      "    10     13 -18953.1703    0.0   -19161.08 -18745.2606   True\n",
      "    10     14  -6533.9452    0.0  -6847.1397  -6220.7507   True\n",
      "    10     15  -4895.1191    0.0  -5097.0632   -4693.175   True\n",
      "    10     16  -4909.5339    0.0  -5094.4395  -4724.6283   True\n",
      "    10     17  -9504.8114    0.0  -9975.6872  -9033.9357   True\n",
      "    10     18 -16702.7066    0.0 -16946.2748 -16459.1384   True\n",
      "    10     19 -19638.5291    0.0 -19945.6397 -19331.4185   True\n",
      "    10     20 -19305.0898    0.0 -19565.1582 -19045.0213   True\n",
      "    11     12  -3334.4086    0.0  -3518.5838  -3150.2333   True\n",
      "    11     13  -3962.8678    0.0  -4122.5445  -3803.1912   True\n",
      "    11     14   8456.3573    0.0   8172.8772   8739.8374   True\n",
      "    11     15  10095.1834    0.0   9943.3558  10247.0109   True\n",
      "    11     16  10080.7686    0.0   9952.4709  10209.0662   True\n",
      "    11     17   5485.4911    0.0   5033.8339   5937.1482   True\n",
      "    11     18  -1712.4041    0.0  -1916.3542   -1508.454   True\n",
      "    11     19  -4648.2267    0.0  -4924.9704  -4371.4829   True\n",
      "    11     20  -4314.7873    0.0  -4538.1833  -4091.3913   True\n",
      "    12     13   -628.4593    0.0   -851.9168   -405.0018   True\n",
      "    12     14  11790.7658    0.0  11467.0413  12114.4904   True\n",
      "    12     15  13429.5919    0.0   13211.674  13647.5099   True\n",
      "    12     16  13415.1771    0.0  13212.9473  13617.4069   True\n",
      "    12     17   8819.8996    0.0   8341.9553   9297.8439   True\n",
      "    12     18   1622.0044    0.0    1365.037   1878.9718   True\n",
      "    12     19  -1313.8181    0.0  -1631.6604   -995.9758   True\n",
      "    12     20   -980.3787    0.0  -1253.0367   -707.7207   True\n",
      "    13     14  12419.2251    0.0   12108.784  12729.6663   True\n",
      "    13     15  14058.0512    0.0  13860.4042  14255.6983   True\n",
      "    13     16  14043.6364    0.0  13863.4337  14223.8392   True\n",
      "    13     17   9448.3589    0.0     8979.31   9917.4078   True\n",
      "    13     18   2250.4637    0.0   2010.4463   2490.4812   True\n",
      "    13     19   -685.3588    0.0    -989.661   -381.0566   True\n",
      "    13     20   -351.9194 0.0002   -608.6655    -95.1734   True\n",
      "    14     15   1638.8261    0.0   1332.3482    1945.304   True\n",
      "    14     16   1624.4113    0.0   1328.8824   1919.9402   True\n",
      "    14     17  -2970.8662    0.0  -3495.1479  -2446.5846   True\n",
      "    14     18 -10168.7614    0.0 -10504.1309  -9833.3919   True\n",
      "    14     19 -13104.5839    0.0 -13488.5946 -12720.5733   True\n",
      "    14     20 -12771.1446    0.0 -13118.6828 -12423.6063   True\n",
      "    15     16    -14.4148    1.0   -187.7007    158.8711  False\n",
      "    15     17  -4609.6923    0.0  -5076.1276   -4143.257   True\n",
      "    15     18 -11807.5875    0.0 -12042.4563 -11572.7187   True\n",
      "    15     19   -14743.41    0.0 -15043.6679 -14443.1521   True\n",
      "    15     20 -14409.9707    0.0 -14661.9101 -14158.0312   True\n",
      "    16     17  -4595.2775    0.0  -5054.5928  -4135.9622   True\n",
      "    16     18 -11793.1727    0.0 -12013.5633 -11572.7821   True\n",
      "    16     19 -14728.9952    0.0 -15018.0687 -14439.9218   True\n",
      "    16     20 -14395.5559    0.0 -14634.0557  -14157.056   True\n",
      "    17     18  -7197.8952    0.0  -7683.8025  -6711.9879   True\n",
      "    17     19 -10133.7177    0.0 -10654.3878  -9613.0476   True\n",
      "    17     20  -9800.2783    0.0 -10294.6628  -9305.8938   True\n",
      "    18     19  -2935.8225    0.0  -3265.5176  -2606.1275   True\n",
      "    18     20  -2602.3831    0.0  -2888.7702  -2315.9961   True\n",
      "    19     20    333.4394 0.0665     -8.6264    675.5051  False\n",
      "---------------------------------------------------------------\n",
      "Product_Category_2\n"
     ]
    },
    {
     "name": "stdout",
     "output_type": "stream",
     "text": [
      "    Multiple Comparison of Means - Tukey HSD, FWER=0.05     \n",
      "============================================================\n",
      "group1 group2  meandiff  p-adj    lower      upper    reject\n",
      "------------------------------------------------------------\n",
      "   2.0    3.0 -2383.9968    0.0 -2694.2123 -2073.7814   True\n",
      "   2.0    4.0 -3404.1644    0.0 -3528.8136 -3279.5152   True\n",
      "   2.0    5.0 -4591.5348    0.0 -4715.3098 -4467.7598   True\n",
      "   2.0    6.0  -2115.805    0.0 -2261.5758 -1970.0342   True\n",
      "   2.0    7.0 -6734.6727    0.0 -7385.9305 -6083.4149   True\n",
      "   2.0    8.0 -5358.0645    0.0 -5438.2503 -5277.8787   True\n",
      "   2.0    9.0 -6342.3496    0.0 -6569.0191   -6115.68   True\n",
      "   2.0   10.0  2029.3731    0.0  1726.9105  2331.8358   True\n",
      "   2.0   11.0 -4678.7759    0.0  -4833.295 -4524.2568   True\n",
      "   2.0   12.0 -6643.8839    0.0 -6873.5655 -6414.2023   True\n",
      "   2.0   13.0  -3936.004    0.0 -4109.8501 -3762.1579   True\n",
      "   2.0   14.0 -6514.0915    0.0 -6614.5126 -6413.6704   True\n",
      "   2.0   15.0 -3262.2787    0.0 -3372.9706 -3151.5869   True\n",
      "   2.0   16.0 -3323.6745    0.0 -3430.3894 -3216.9596   True\n",
      "   2.0   17.0 -4197.7798    0.0 -4355.9245 -4039.6352   True\n",
      "   2.0   18.0  -4266.916    0.0 -4583.1041 -3950.7279   True\n",
      "   3.0    4.0 -1020.1676    0.0 -1338.1569  -702.1782   True\n",
      "   3.0    5.0  -2207.538    0.0 -2525.1857 -1889.8903   True\n",
      "   3.0    6.0   268.1918 0.2682   -58.6551   595.0387  False\n",
      "   3.0    7.0 -4350.6759    0.0 -5064.6202 -3636.7315   True\n",
      "   3.0    8.0 -2974.0676    0.0 -3277.3984 -2670.7369   True\n",
      "   3.0    9.0 -3958.3527    0.0 -4328.4323 -3588.2732   True\n",
      "   3.0   10.0    4413.37    0.0  3992.5809  4834.1591   True\n",
      "   3.0   11.0 -2294.7791    0.0 -2625.6203 -1963.9378   True\n",
      "   3.0   12.0 -4259.8871    0.0 -4631.8191  -3887.955   True\n",
      "   3.0   13.0 -1552.0072    0.0 -1892.3045 -1211.7099   True\n",
      "   3.0   14.0 -4130.0947    0.0 -4439.3909 -3820.7984   True\n",
      "   3.0   15.0  -878.2819    0.0 -1191.0637     -565.5   True\n",
      "   3.0   16.0  -939.6776    0.0 -1251.0743   -628.281   True\n",
      "   3.0   17.0  -1813.783    0.0  -2146.333  -1481.233   True\n",
      "   3.0   18.0 -1882.9191    0.0 -2313.6798 -1452.1585   True\n",
      "   4.0    5.0 -1187.3704    0.0 -1329.5106 -1045.2303   True\n",
      "   4.0    6.0  1288.3594    0.0  1126.7033  1450.0155   True\n",
      "   4.0    7.0 -3330.5083    0.0 -3985.5047 -2675.5119   True\n",
      "   4.0    8.0 -1953.9001    0.0 -2060.2643 -1847.5359   True\n",
      "   4.0    9.0 -2938.1852    0.0 -3175.3827 -2700.9876   True\n",
      "   4.0   10.0  5433.5375    0.0  5123.1068  5743.9683   True\n",
      "   4.0   11.0 -1274.6115    0.0 -1444.1984 -1105.0245   True\n",
      "   4.0   12.0 -3239.7195    0.0  -3479.797  -2999.642   True\n",
      "   4.0   13.0  -531.8396    0.0  -719.2057  -344.4736   True\n",
      "   4.0   14.0 -3109.9271    0.0 -3232.2708 -2987.5834   True\n",
      "   4.0   15.0   141.8857 0.0185    10.9801   272.7913   True\n",
      "   4.0   16.0    80.4899 0.7392   -47.0704   208.0503  False\n",
      "   4.0   17.0  -793.6154    0.0  -966.5122  -620.7186   True\n",
      "   4.0   18.0  -862.7516    0.0 -1186.5702   -538.933   True\n",
      "   5.0    6.0  2475.7298    0.0  2314.7468  2636.7128   True\n",
      "   5.0    7.0 -2143.1379    0.0 -2797.9685 -1488.3072   True\n",
      "   5.0    8.0  -766.5296    0.0   -871.868  -661.1913   True\n",
      "   5.0    9.0 -1750.8147    0.0  -1987.554 -1514.0754   True\n",
      "   5.0   10.0   6620.908    0.0  6310.8272  6930.9887   True\n",
      "   5.0   11.0   -87.2411 0.9363  -256.1865    81.7044  False\n",
      "   5.0   12.0 -2052.3491    0.0 -2291.9739 -1812.7242   True\n",
      "   5.0   13.0   655.5308    0.0   468.7452   842.3164   True\n",
      "   5.0   14.0 -1922.5567    0.0 -2044.0095 -1801.1038   True\n",
      "   5.0   15.0  1329.2561    0.0  1199.1827  1459.3295   True\n",
      "   5.0   16.0  1267.8604    0.0  1141.1541  1394.5666   True\n",
      "   5.0   17.0    393.755    0.0   221.4874   566.0226   True\n",
      "   5.0   18.0   324.6189 0.0481     1.1357    648.102   True\n",
      "   6.0    7.0 -4618.8677    0.0 -5278.2098 -3959.5256   True\n",
      "   6.0    8.0 -3242.2594    0.0 -3372.7395 -3111.7794   True\n",
      "   6.0    9.0 -4226.5445    0.0  -4475.491  -3977.598   True\n",
      "   6.0   10.0  4145.1782    0.0  3825.6802  4464.6761   True\n",
      "   6.0   11.0 -2562.9709    0.0 -2748.6357  -2377.306   True\n",
      "   6.0   12.0 -4528.0789    0.0  -4779.771 -4276.3867   True\n",
      "   6.0   13.0  -1820.199    0.0  -2022.233  -1618.165   True\n",
      "   6.0   14.0 -4398.2865    0.0 -4542.0908 -4254.4822   True\n",
      "   6.0   15.0 -1146.4737    0.0 -1297.6291  -995.3182   True\n",
      "   6.0   16.0 -1207.8694    0.0 -1356.1373 -1059.6016   True\n",
      "   6.0   17.0 -2081.9748    0.0 -2270.6677 -1893.2819   True\n",
      "   6.0   18.0 -2151.1109    0.0 -2483.6319   -1818.59   True\n",
      "   7.0    8.0  1376.6082    0.0   728.6015  2024.6149   True\n",
      "   7.0    9.0   392.3231 0.8544  -289.4847   1074.131  False\n",
      "   7.0   10.0  8764.0458    0.0  8053.4358  9474.6558   True\n",
      "   7.0   11.0  2055.8968    0.0  1394.5655  2717.2281   True\n",
      "   7.0   12.0    90.7888    1.0  -592.0264    773.604  False\n",
      "   7.0   13.0  2798.6687    0.0  2132.5565  3464.7808   True\n",
      "   7.0   14.0   220.5812 0.9992  -430.2393   871.4017  False\n",
      "   7.0   15.0   3472.394    0.0  2819.9098  4124.8782   True\n",
      "   7.0   16.0  3410.9982    0.0  2759.1769  4062.8195   True\n",
      "   7.0   17.0  2536.8929    0.0  1874.7051  3199.0806   True\n",
      "   7.0   18.0  2467.7567    0.0   1751.197  3184.3164   True\n",
      "   8.0    9.0  -984.2851    0.0 -1201.4371   -767.133   True\n",
      "   8.0   10.0  7387.4376    0.0  7092.0403  7682.8349   True\n",
      "   8.0   11.0   679.2886    0.0   539.1027   819.4745   True\n",
      "   8.0   12.0 -1285.8194    0.0 -1506.1137 -1065.5251   True\n",
      "   8.0   13.0  1422.0605    0.0  1260.8203  1583.3006   True\n",
      "   8.0   14.0  -1156.027    0.0 -1232.5797 -1079.4743   True\n",
      "   8.0   15.0  2095.7858    0.0  2006.1832  2185.3883   True\n",
      "   8.0   16.0    2034.39    0.0  1949.7496  2119.0304   True\n",
      "   8.0   17.0  1160.2846    0.0  1016.1124  1304.4569   True\n",
      "   8.0   18.0  1091.1485    0.0   781.7122  1400.5848   True\n",
      "   9.0   10.0  8371.7227    0.0  8008.1173  8735.3281   True\n",
      "   9.0   11.0  1663.5737    0.0  1409.4056  1917.7417   True\n",
      "   9.0   12.0  -301.5343 0.0581  -607.2775     4.2088  False\n",
      "   9.0   13.0  2406.3455    0.0  2139.9854  2672.7056   True\n",
      "   9.0   14.0  -171.7419 0.4009  -397.1519     53.668  False\n",
      "   9.0   15.0  3080.0708    0.0  2849.9015  3310.2402   True\n",
      "   9.0   16.0  3018.6751    0.0  2790.3917  3246.9585   True\n",
      "   9.0   17.0  2144.5697    0.0  1888.1814   2400.958   True\n",
      "   9.0   18.0  2075.4336    0.0  1700.3334  2450.5338   True\n",
      "  10.0   11.0  -6708.149    0.0 -7031.7321  -6384.566   True\n",
      "  10.0   12.0  -8673.257    0.0 -9038.7478 -8307.7663   True\n",
      "  10.0   13.0 -5965.3772    0.0 -6298.6222 -5632.1321   True\n",
      "  10.0   14.0 -8543.4646    0.0 -8844.9845 -8241.9448   True\n",
      "  10.0   15.0 -5291.6519    0.0 -5596.7461 -4986.5576   True\n",
      "  10.0   16.0 -5353.0476    0.0 -5656.7216 -5049.3736   True\n",
      "  10.0   17.0  -6227.153    0.0 -6552.4829 -5901.8231   True\n",
      "  10.0   18.0 -6296.2891    0.0 -6721.5005 -5871.0777   True\n",
      "  11.0   12.0  -1965.108    0.0 -2221.9659 -1708.2501   True\n",
      "  11.0   13.0   742.7719    0.0   534.3378    951.206   True\n",
      "  11.0   14.0 -1835.3156    0.0  -1987.981 -1682.6502   True\n",
      "  11.0   15.0  1416.4972    0.0  1256.8883  1576.1061   True\n",
      "  11.0   16.0  1355.1014    0.0  1198.2244  1511.9784   True\n",
      "  11.0   17.0   480.9961    0.0   285.4659   676.5262   True\n",
      "  11.0   18.0   411.8599 0.0027    75.4119   748.3079   True\n",
      "  12.0   13.0  2707.8799    0.0  2438.9519  2976.8079   True\n",
      "  12.0   14.0   129.7924 0.8668   -98.6462    358.231  False\n",
      "  12.0   15.0  3381.6052    0.0   3148.469  3614.7414   True\n",
      "  12.0   16.0  3320.2094    0.0   3088.935  3551.4839   True\n",
      "  12.0   17.0  2446.1041    0.0   2187.049  2705.1591   True\n",
      "  12.0   18.0  2376.9679    0.0  2000.0399  2753.8959   True\n",
      "  13.0   14.0 -2578.0875    0.0  -2750.288  -2405.887   True\n",
      "  13.0   15.0   673.7253    0.0     495.34   852.1106   True\n",
      "  13.0   16.0   612.3295    0.0   436.3844   788.2747   True\n",
      "  13.0   17.0  -261.7758 0.0022  -472.9117     -50.64   True\n",
      "  13.0   18.0   -330.912 0.0791  -676.6626    14.8387  False\n",
      "  14.0   15.0  3251.8128    0.0  3143.7237  3359.9018   True\n",
      "  14.0   16.0   3190.417    0.0  3086.4044  3294.4296   True\n",
      "  14.0   17.0  2316.3117    0.0  2159.9778  2472.6455   True\n",
      "  14.0   18.0  2247.1755    0.0  1931.8892  2562.4619   True\n",
      "  15.0   16.0   -61.3958 0.9104  -175.3559    52.5644  False\n",
      "  15.0   17.0  -935.5011    0.0 -1098.6225  -772.3798   True\n",
      "  15.0   18.0 -1004.6373    0.0 -1323.3437  -685.9309   True\n",
      "  16.0   17.0  -874.1054    0.0 -1034.5546  -713.6561   True\n",
      "  16.0   18.0  -943.2415    0.0 -1260.5885  -625.8945   True\n",
      "  17.0   18.0   -69.1361    1.0  -407.2645   268.9922  False\n",
      "------------------------------------------------------------\n",
      "Product_Category_3\n",
      "    Multiple Comparison of Means - Tukey HSD, FWER=0.05     \n",
      "============================================================\n",
      "group1 group2  meandiff  p-adj    lower      upper    reject\n",
      "------------------------------------------------------------\n",
      "   3.0    4.0 -4145.3099    0.0  -4903.476 -3387.1438   True\n",
      "   3.0    5.0 -1821.9097    0.0  -2492.083 -1151.7364   True\n",
      "   3.0    6.0  -745.3855 0.0233 -1443.5941    -47.177   True\n",
      "   3.0    8.0  -914.7777 0.0004 -1588.8178  -240.7376   True\n",
      "   3.0    9.0 -3507.9994    0.0 -4183.3694 -2832.6294   True\n",
      "   3.0   10.0  -433.8831 0.8433 -1200.0697   332.3034  False\n",
      "   3.0   11.0 -1848.2589    0.0 -2610.0385 -1086.4793   True\n",
      "   3.0   12.0 -5224.1838    0.0 -5903.8244 -4544.5432   True\n",
      "   3.0   13.0  -754.5779 0.0185 -1448.7212   -60.4345   True\n",
      "   3.0   14.0  -3887.102    0.0  -4556.132  -3218.072   True\n",
      "   3.0   15.0 -1600.3267    0.0 -2265.6616  -934.9917   True\n",
      "   3.0   16.0 -5422.7932    0.0 -6081.4507 -4764.1357   True\n",
      "   3.0   17.0 -2169.7536    0.0 -2839.8956 -1499.6116   True\n",
      "   3.0   18.0 -2945.7158    0.0 -3646.1135 -2245.3181   True\n",
      "   4.0    5.0  2323.4002    0.0  1926.4547  2720.3457   True\n",
      "   4.0    6.0  3399.9244    0.0  2957.2862  3842.5626   True\n",
      "   4.0    8.0  3230.5322    0.0  2827.0926  3633.9718   True\n",
      "   4.0    9.0   637.3105    0.0    231.653  1042.9681   True\n",
      "   4.0   10.0  3711.4268    0.0  3167.8504  4255.0032   True\n",
      "   4.0   11.0   2297.051    0.0  1759.7041  2834.3979   True\n",
      "   4.0   12.0 -1078.8739    0.0 -1491.6023  -666.1455   True\n",
      "   4.0   13.0   3390.732    0.0  2954.5344  3826.9297   True\n",
      "   4.0   14.0   258.2079 0.6527  -136.8043     653.22  False\n",
      "   4.0   15.0  2544.9832    0.0  2156.2622  2933.7043   True\n",
      "   4.0   16.0 -1277.4833    0.0 -1654.6612  -900.3054   True\n",
      "   4.0   17.0  1975.5563    0.0  1578.6638  2372.4489   True\n",
      "   4.0   18.0  1199.5941    0.0   753.5107  1645.6775   True\n",
      "   5.0    6.0  1076.5242    0.0   811.4864  1341.5619   True\n",
      "   5.0    8.0    907.132    0.0   714.5705  1099.6934   True\n",
      "   5.0    9.0 -1686.0897    0.0 -1883.2558 -1488.9235   True\n",
      "   5.0   10.0  1388.0266    0.0   975.9687  1800.0844   True\n",
      "   5.0   11.0   -26.3492    1.0  -430.1537   377.4553  False\n",
      "   5.0   12.0 -3402.2741    0.0  -3613.606 -3190.9422   True\n",
      "   5.0   13.0  1067.3318    0.0   813.1964  1321.4672   True\n",
      "   5.0   14.0 -2065.1924    0.0 -2239.4077  -1890.977   True\n",
      "   5.0   15.0    221.583 0.0002    62.1451   381.0209   True\n",
      "   5.0   16.0 -3600.8835    0.0 -3729.6452 -3472.1218   True\n",
      "   5.0   17.0  -347.8439    0.0  -526.2819  -169.4059   True\n",
      "   5.0   18.0 -1123.8061    0.0 -1394.5585  -853.0537   True\n",
      "   6.0    8.0  -169.3922  0.741  -444.0606   105.2763  False\n",
      "   6.0    9.0 -2762.6138    0.0 -3040.5299 -2484.6977   True\n",
      "   6.0   10.0   311.5024 0.5789  -144.7372    767.742  False\n",
      "   6.0   11.0 -1102.8734    0.0 -1551.6728  -654.0739   True\n",
      "   6.0   12.0 -4478.7983    0.0 -4766.9372 -4190.6593   True\n",
      "   6.0   13.0    -9.1923    1.0  -330.0469   311.6623  False\n",
      "   6.0   14.0 -3141.7165    0.0 -3403.8498 -2879.5832   True\n",
      "   6.0   15.0  -854.9411    0.0 -1107.4947  -602.3875   True\n",
      "   6.0   16.0 -4677.4077    0.0 -4911.8057 -4443.0096   True\n",
      "   6.0   17.0  -1424.368    0.0 -1689.3265 -1159.4096   True\n",
      "   6.0   18.0 -2200.3303    0.0 -2534.5005 -1866.1601   True\n",
      "   8.0    9.0 -2593.2217    0.0 -2803.1557 -2383.2877   True\n",
      "   8.0   10.0   480.8946 0.0084    62.5771    899.212   True\n",
      "   8.0   11.0  -933.4812    0.0 -1343.6712  -523.2912   True\n",
      "   8.0   12.0 -4309.4061    0.0 -4532.6973 -4086.1149   True\n",
      "   8.0   13.0   160.1998 0.7638  -103.9641   424.3638  False\n",
      "   8.0   14.0 -2972.3244    0.0 -3160.8682 -2783.7805   True\n",
      "   8.0   15.0   -685.549    0.0  -860.5297  -510.5683   True\n",
      "   8.0   16.0 -4508.0155    0.0 -4655.5871  -4360.444   True\n",
      "   8.0   17.0 -1254.9759    0.0 -1447.4283 -1062.5235   True\n",
      "   8.0   18.0 -2030.9381    0.0 -2311.1249 -1750.7513   True\n",
      "   9.0   10.0  3074.1162    0.0  2653.6592  3494.5732   True\n",
      "   9.0   11.0  1659.7405    0.0  1247.3687  2072.1122   True\n",
      "   9.0   12.0 -1716.1844    0.0 -1943.4586 -1488.9103   True\n",
      "   9.0   13.0  2753.4215    0.0  2485.8824  3020.9606   True\n",
      "   9.0   14.0  -379.1027    0.0   -572.347  -185.8584   True\n",
      "   9.0   15.0  1907.6727    0.0  1727.6371  2087.7083   True\n",
      "   9.0   16.0 -1914.7938    0.0 -2068.3254 -1761.2623   True\n",
      "   9.0   17.0  1338.2458    0.0  1141.1862  1535.3054   True\n",
      "   9.0   18.0   562.2836    0.0   278.9124   845.6547   True\n",
      "  10.0   11.0 -1414.3758    0.0  -1962.981  -865.7706   True\n",
      "  10.0   12.0 -4790.3007    0.0 -5217.5837 -4363.0177   True\n",
      "  10.0   13.0  -320.6947  0.502  -770.6885    129.299  False\n",
      "  10.0   14.0 -3453.2189    0.0 -3863.4147 -3043.0231   True\n",
      "  10.0   15.0 -1166.4435    0.0 -1570.5847  -762.3024   True\n",
      "  10.0   16.0 -4988.9101    0.0 -5381.9612  -4595.859   True\n",
      "  10.0   17.0 -1735.8704    0.0 -2147.8774 -1323.8635   True\n",
      "  10.0   18.0 -2511.8327    0.0 -2971.4156 -2052.2498   True\n",
      "  11.0   12.0 -3375.9249    0.0 -3795.2543 -2956.5955   True\n",
      "  11.0   13.0   1093.681    0.0   651.2324  1536.1296   True\n",
      "  11.0   14.0 -2038.8431    0.0 -2440.7473  -1636.939   True\n",
      "  11.0   15.0   247.9322 0.7184  -147.7904   643.6549  False\n",
      "  11.0   16.0 -3574.5343    0.0 -3958.9241 -3190.1445   True\n",
      "  11.0   17.0  -321.4947 0.3044  -725.2472    82.2578  False\n",
      "  11.0   18.0 -1097.4569    0.0 -1549.6546  -645.2592   True\n",
      "  12.0   13.0  4469.6059    0.0  4191.4623  4747.7495   True\n",
      "  12.0   14.0  1337.0818    0.0   1129.404  1544.7595   True\n",
      "  12.0   15.0  3623.8571    0.0  3428.4102  3819.3041   True\n",
      "  12.0   16.0  -198.6094 0.0074   -369.953   -27.2658   True\n",
      "  12.0   17.0  3054.4302    0.0  2843.1977  3265.6628   True\n",
      "  12.0   18.0   2278.468    0.0   1985.064   2571.872   True\n",
      "  13.0   14.0 -3132.5242    0.0 -3383.6291 -2881.4193   True\n",
      "  13.0   15.0  -845.7488    0.0 -1086.8362  -604.6614   True\n",
      "  13.0   16.0 -4668.2153    0.0 -4890.2114 -4446.2193   True\n",
      "  13.0   17.0 -1415.1757    0.0 -1669.2285 -1161.1229   True\n",
      "  13.0   18.0 -2191.1379    0.0  -2516.729 -1865.5469   True\n",
      "  14.0   15.0  2286.7754    0.0  2132.2137  2441.3371   True\n",
      "  14.0   16.0 -1535.6912    0.0 -1658.3633 -1413.0191   True\n",
      "  14.0   17.0  1717.3485    0.0  1543.2537  1891.4433   True\n",
      "  14.0   18.0   941.3862    0.0   673.4763  1209.2961   True\n",
      "  15.0   16.0 -3822.4665    0.0 -3923.0543 -3721.8787   True\n",
      "  15.0   17.0  -569.4269    0.0  -728.7331  -410.1207   True\n",
      "  15.0   18.0 -1345.3891    0.0 -1603.9335 -1086.8448   True\n",
      "  16.0   17.0  3253.0396    0.0  3124.4411  3381.6381   True\n",
      "  16.0   18.0  2477.0774    0.0  2236.2366  2717.9182   True\n",
      "  17.0   18.0  -775.9622    0.0  -1046.637  -505.2874   True\n",
      "------------------------------------------------------------\n"
     ]
    }
   ],
   "source": [
    "for column in categorical_new:\n",
    "    print(column)\n",
    "    tukey= pairwise_tukeyhsd(df_train['Purchase'],df_train[column], alpha=0.05)\n",
    "    print(tukey)"
   ]
  },
  {
   "cell_type": "markdown",
   "id": "cf7b5fee",
   "metadata": {},
   "source": [
    "# Reducing Levels with Tukey"
   ]
  },
  {
   "cell_type": "code",
   "execution_count": 51,
   "id": "254373ea",
   "metadata": {},
   "outputs": [],
   "source": [
    "df['Occupation'].replace([3,4,6,8,10,11,13],[0,0,0,0,0,0,0], inplace=True)"
   ]
  },
  {
   "cell_type": "code",
   "execution_count": 52,
   "id": "7c9c44fb",
   "metadata": {},
   "outputs": [],
   "source": [
    "df['Occupation'].replace([2,18,20],[1,1,1], inplace=True)"
   ]
  },
  {
   "cell_type": "code",
   "execution_count": 53,
   "id": "e39592b1",
   "metadata": {},
   "outputs": [],
   "source": [
    "df['Occupation'].replace([7,14,16],[5,5,5], inplace=True)"
   ]
  },
  {
   "cell_type": "code",
   "execution_count": 54,
   "id": "ee1da839",
   "metadata": {
    "scrolled": true
   },
   "outputs": [
    {
     "data": {
      "text/plain": [
       "array([ 0,  5, 15,  1,  9, 12, 17, 19], dtype=int64)"
      ]
     },
     "execution_count": 54,
     "metadata": {},
     "output_type": "execute_result"
    }
   ],
   "source": [
    "df['Occupation'].unique()"
   ]
  },
  {
   "cell_type": "code",
   "execution_count": 55,
   "id": "6409d86c",
   "metadata": {},
   "outputs": [],
   "source": [
    "df['Product_Category_1'].replace([3,6,15,19],[17,9,16,20], inplace=True)"
   ]
  },
  {
   "cell_type": "code",
   "execution_count": 56,
   "id": "83750e16",
   "metadata": {},
   "outputs": [
    {
     "data": {
      "text/plain": [
       "array([17,  1, 12,  8,  5,  4,  2,  9, 14, 11, 13, 16,  7, 18, 10, 20],\n",
       "      dtype=int64)"
      ]
     },
     "execution_count": 56,
     "metadata": {},
     "output_type": "execute_result"
    }
   ],
   "source": [
    "df.Product_Category_1.unique()"
   ]
  },
  {
   "cell_type": "code",
   "execution_count": 57,
   "id": "205a29ae",
   "metadata": {},
   "outputs": [],
   "source": [
    "df['Product_Category_2'].replace([3,4,5],[6,17,11], inplace=True)"
   ]
  },
  {
   "cell_type": "code",
   "execution_count": 58,
   "id": "55a3cb1f",
   "metadata": {},
   "outputs": [],
   "source": [
    "df['Product_Category_2'].replace([9,12,14],[7,7,7], inplace=True)"
   ]
  },
  {
   "cell_type": "code",
   "execution_count": 59,
   "id": "067bc343",
   "metadata": {},
   "outputs": [],
   "source": [
    "df['Product_Category_2'].replace([13,17],[18,18], inplace=True)"
   ]
  },
  {
   "cell_type": "code",
   "execution_count": 60,
   "id": "fd0467c3",
   "metadata": {},
   "outputs": [],
   "source": [
    "df['Product_Category_2'].replace(15,16, inplace=True)"
   ]
  },
  {
   "cell_type": "code",
   "execution_count": 61,
   "id": "af9f0378",
   "metadata": {},
   "outputs": [
    {
     "data": {
      "text/plain": [
       "array([ 8.,  6.,  7.,  2., 16., 11., 18., 10.])"
      ]
     },
     "execution_count": 61,
     "metadata": {},
     "output_type": "execute_result"
    }
   ],
   "source": [
    "df.Product_Category_2.unique()"
   ]
  },
  {
   "cell_type": "code",
   "execution_count": 62,
   "id": "d4663350",
   "metadata": {},
   "outputs": [],
   "source": [
    "df['Product_Category_3'].replace([3,4,5],[10,14,11], inplace=True)"
   ]
  },
  {
   "cell_type": "code",
   "execution_count": 63,
   "id": "1fbf8ec1",
   "metadata": {},
   "outputs": [],
   "source": [
    "df['Product_Category_3'].replace([8,10,13],[6,6,6], inplace=True)"
   ]
  },
  {
   "cell_type": "code",
   "execution_count": 64,
   "id": "61f7dcdf",
   "metadata": {},
   "outputs": [],
   "source": [
    "df['Product_Category_3'].replace([15,17],[11,11], inplace=True)"
   ]
  },
  {
   "cell_type": "code",
   "execution_count": 65,
   "id": "32d4bd3c",
   "metadata": {},
   "outputs": [
    {
     "data": {
      "text/plain": [
       "array([16., 14., 11.,  6.,  9., 12., 18.])"
      ]
     },
     "execution_count": 65,
     "metadata": {},
     "output_type": "execute_result"
    }
   ],
   "source": [
    "df.Product_Category_3.unique()"
   ]
  },
  {
   "cell_type": "code",
   "execution_count": 66,
   "id": "de2082a8",
   "metadata": {},
   "outputs": [
    {
     "data": {
      "text/html": [
       "<div>\n",
       "<style scoped>\n",
       "    .dataframe tbody tr th:only-of-type {\n",
       "        vertical-align: middle;\n",
       "    }\n",
       "\n",
       "    .dataframe tbody tr th {\n",
       "        vertical-align: top;\n",
       "    }\n",
       "\n",
       "    .dataframe thead th {\n",
       "        text-align: right;\n",
       "    }\n",
       "</style>\n",
       "<table border=\"1\" class=\"dataframe\">\n",
       "  <thead>\n",
       "    <tr style=\"text-align: right;\">\n",
       "      <th></th>\n",
       "      <th>Gender</th>\n",
       "      <th>Age</th>\n",
       "      <th>Occupation</th>\n",
       "      <th>City_Category</th>\n",
       "      <th>Stay_In_Current_City_Years</th>\n",
       "      <th>Product_Category_1</th>\n",
       "      <th>Product_Category_2</th>\n",
       "      <th>Product_Category_3</th>\n",
       "      <th>Purchase</th>\n",
       "    </tr>\n",
       "  </thead>\n",
       "  <tbody>\n",
       "    <tr>\n",
       "      <th>0</th>\n",
       "      <td>0</td>\n",
       "      <td>1</td>\n",
       "      <td>0</td>\n",
       "      <td>0</td>\n",
       "      <td>2</td>\n",
       "      <td>17</td>\n",
       "      <td>8.0</td>\n",
       "      <td>16.0</td>\n",
       "      <td>8370.0</td>\n",
       "    </tr>\n",
       "    <tr>\n",
       "      <th>1</th>\n",
       "      <td>0</td>\n",
       "      <td>1</td>\n",
       "      <td>0</td>\n",
       "      <td>0</td>\n",
       "      <td>2</td>\n",
       "      <td>1</td>\n",
       "      <td>6.0</td>\n",
       "      <td>14.0</td>\n",
       "      <td>15200.0</td>\n",
       "    </tr>\n",
       "    <tr>\n",
       "      <th>2</th>\n",
       "      <td>0</td>\n",
       "      <td>1</td>\n",
       "      <td>0</td>\n",
       "      <td>0</td>\n",
       "      <td>2</td>\n",
       "      <td>12</td>\n",
       "      <td>8.0</td>\n",
       "      <td>16.0</td>\n",
       "      <td>1422.0</td>\n",
       "    </tr>\n",
       "    <tr>\n",
       "      <th>3</th>\n",
       "      <td>0</td>\n",
       "      <td>1</td>\n",
       "      <td>0</td>\n",
       "      <td>0</td>\n",
       "      <td>2</td>\n",
       "      <td>12</td>\n",
       "      <td>7.0</td>\n",
       "      <td>16.0</td>\n",
       "      <td>1057.0</td>\n",
       "    </tr>\n",
       "    <tr>\n",
       "      <th>4</th>\n",
       "      <td>1</td>\n",
       "      <td>7</td>\n",
       "      <td>5</td>\n",
       "      <td>2</td>\n",
       "      <td>4</td>\n",
       "      <td>8</td>\n",
       "      <td>8.0</td>\n",
       "      <td>16.0</td>\n",
       "      <td>7969.0</td>\n",
       "    </tr>\n",
       "  </tbody>\n",
       "</table>\n",
       "</div>"
      ],
      "text/plain": [
       "   Gender Age  Occupation  City_Category  Stay_In_Current_City_Years  \\\n",
       "0       0   1           0              0                           2   \n",
       "1       0   1           0              0                           2   \n",
       "2       0   1           0              0                           2   \n",
       "3       0   1           0              0                           2   \n",
       "4       1   7           5              2                           4   \n",
       "\n",
       "   Product_Category_1  Product_Category_2  Product_Category_3  Purchase  \n",
       "0                  17                 8.0                16.0    8370.0  \n",
       "1                   1                 6.0                14.0   15200.0  \n",
       "2                  12                 8.0                16.0    1422.0  \n",
       "3                  12                 7.0                16.0    1057.0  \n",
       "4                   8                 8.0                16.0    7969.0  "
      ]
     },
     "execution_count": 66,
     "metadata": {},
     "output_type": "execute_result"
    }
   ],
   "source": [
    "df.head()"
   ]
  },
  {
   "cell_type": "code",
   "execution_count": 67,
   "id": "7937a2ff",
   "metadata": {},
   "outputs": [
    {
     "name": "stdout",
     "output_type": "stream",
     "text": [
      "<class 'pandas.core.frame.DataFrame'>\n",
      "Int64Index: 783667 entries, 0 to 233598\n",
      "Data columns (total 9 columns):\n",
      " #   Column                      Non-Null Count   Dtype  \n",
      "---  ------                      --------------   -----  \n",
      " 0   Gender                      783667 non-null  int32  \n",
      " 1   Age                         783667 non-null  object \n",
      " 2   Occupation                  783667 non-null  int64  \n",
      " 3   City_Category               783667 non-null  int32  \n",
      " 4   Stay_In_Current_City_Years  783667 non-null  int64  \n",
      " 5   Product_Category_1          783667 non-null  int64  \n",
      " 6   Product_Category_2          783667 non-null  float64\n",
      " 7   Product_Category_3          783667 non-null  float64\n",
      " 8   Purchase                    550068 non-null  float64\n",
      "dtypes: float64(3), int32(2), int64(3), object(1)\n",
      "memory usage: 53.8+ MB\n"
     ]
    }
   ],
   "source": [
    "df.info()"
   ]
  },
  {
   "cell_type": "code",
   "execution_count": 68,
   "id": "784d3de9",
   "metadata": {},
   "outputs": [
    {
     "data": {
      "text/plain": [
       "Gender                             0\n",
       "Age                                0\n",
       "Occupation                         0\n",
       "City_Category                      0\n",
       "Stay_In_Current_City_Years         0\n",
       "Product_Category_1                 0\n",
       "Product_Category_2                 0\n",
       "Product_Category_3                 0\n",
       "Purchase                      233599\n",
       "dtype: int64"
      ]
     },
     "execution_count": 68,
     "metadata": {},
     "output_type": "execute_result"
    }
   ],
   "source": [
    "df.isnull().sum()"
   ]
  },
  {
   "cell_type": "code",
   "execution_count": 69,
   "id": "7352a577",
   "metadata": {},
   "outputs": [
    {
     "data": {
      "text/plain": [
       "8.0     337299\n",
       "16.0    115801\n",
       "7.0      95666\n",
       "18.0     74890\n",
       "2.0      70498\n",
       "11.0     57395\n",
       "6.0      27698\n",
       "10.0      4420\n",
       "Name: Product_Category_2, dtype: int64"
      ]
     },
     "execution_count": 69,
     "metadata": {},
     "output_type": "execute_result"
    }
   ],
   "source": [
    "df['Product_Category_2'].value_counts()"
   ]
  },
  {
   "cell_type": "code",
   "execution_count": 70,
   "id": "6990cce0",
   "metadata": {},
   "outputs": [
    {
     "name": "stdout",
     "output_type": "stream",
     "text": [
      "<class 'pandas.core.frame.DataFrame'>\n",
      "Int64Index: 783667 entries, 0 to 233598\n",
      "Data columns (total 9 columns):\n",
      " #   Column                      Non-Null Count   Dtype  \n",
      "---  ------                      --------------   -----  \n",
      " 0   Gender                      783667 non-null  int32  \n",
      " 1   Age                         783667 non-null  object \n",
      " 2   Occupation                  783667 non-null  int64  \n",
      " 3   City_Category               783667 non-null  int32  \n",
      " 4   Stay_In_Current_City_Years  783667 non-null  int64  \n",
      " 5   Product_Category_1          783667 non-null  int64  \n",
      " 6   Product_Category_2          783667 non-null  float64\n",
      " 7   Product_Category_3          783667 non-null  float64\n",
      " 8   Purchase                    550068 non-null  float64\n",
      "dtypes: float64(3), int32(2), int64(3), object(1)\n",
      "memory usage: 53.8+ MB\n"
     ]
    }
   ],
   "source": [
    "df.info()"
   ]
  },
  {
   "cell_type": "code",
   "execution_count": 71,
   "id": "51663847",
   "metadata": {},
   "outputs": [],
   "source": [
    "df['Age'] = df['Age'].astype('int64')"
   ]
  },
  {
   "cell_type": "code",
   "execution_count": 72,
   "id": "e6f0e651",
   "metadata": {},
   "outputs": [
    {
     "data": {
      "text/plain": [
       "Text(0.5, 1.0, 'Age Vs Purchase')"
      ]
     },
     "execution_count": 72,
     "metadata": {},
     "output_type": "execute_result"
    },
    {
     "data": {
      "image/png": "[encoded data removed]",
      "text/plain": [
       "<Figure size 432x288 with 1 Axes>"
      ]
     },
     "metadata": {
      "needs_background": "light"
     },
     "output_type": "display_data"
    }
   ],
   "source": [
    "sns.barplot(x = 'Age', y= 'Purchase',hue='Gender',data=df)\n",
    "plt.title('Age Vs Purchase')"
   ]
  },
  {
   "cell_type": "code",
   "execution_count": 73,
   "id": "90a41eb5",
   "metadata": {},
   "outputs": [],
   "source": [
    "# Men are purchasing more than women, Purchase is more or less uniformly distributed across all age groups in the last 4 months"
   ]
  },
  {
   "cell_type": "code",
   "execution_count": 74,
   "id": "869c831b",
   "metadata": {},
   "outputs": [
    {
     "data": {
      "text/plain": [
       "Text(0.5, 1.0, 'Occupation Vs Purchase')"
      ]
     },
     "execution_count": 74,
     "metadata": {},
     "output_type": "execute_result"
    },
    {
     "data": {
      "image/png": "[encoded data removed]",
      "text/plain": [
       "<Figure size 720x360 with 1 Axes>"
      ]
     },
     "metadata": {
      "needs_background": "light"
     },
     "output_type": "display_data"
    }
   ],
   "source": [
    "plt.figure(figsize=(10,5))\n",
    "sns.barplot(x = 'Occupation', y= 'Purchase',hue='Gender',data=df)\n",
    "plt.title('Occupation Vs Purchase')"
   ]
  },
  {
   "cell_type": "code",
   "execution_count": 75,
   "id": "5b1883c5",
   "metadata": {},
   "outputs": [],
   "source": [
    "# Purchase is more or less uniformly distributed across all occupation groups in the last 4 months"
   ]
  },
  {
   "cell_type": "code",
   "execution_count": 76,
   "id": "ef24ebb3",
   "metadata": {},
   "outputs": [
    {
     "data": {
      "text/plain": [
       "Text(0.5, 1.0, 'Product_Category_1 Vs Purchase')"
      ]
     },
     "execution_count": 76,
     "metadata": {},
     "output_type": "execute_result"
    },
    {
     "data": {
      "image/png": "[encoded data removed]",
      "text/plain": [
       "<Figure size 720x360 with 1 Axes>"
      ]
     },
     "metadata": {
      "needs_background": "light"
     },
     "output_type": "display_data"
    }
   ],
   "source": [
    "plt.figure(figsize=(10,5))\n",
    "sns.barplot('Product_Category_1','Purchase',hue='Gender',data=df)\n",
    "plt.title('Product_Category_1 Vs Purchase')"
   ]
  },
  {
   "cell_type": "code",
   "execution_count": 77,
   "id": "503cc17b",
   "metadata": {},
   "outputs": [
    {
     "data": {
      "text/plain": [
       "Text(0.5, 1.0, 'Product_Category_2 Vs Purchase')"
      ]
     },
     "execution_count": 77,
     "metadata": {},
     "output_type": "execute_result"
    },
    {
     "data": {
      "image/png": "[encoded data removed]",
      "text/plain": [
       "<Figure size 720x360 with 1 Axes>"
      ]
     },
     "metadata": {
      "needs_background": "light"
     },
     "output_type": "display_data"
    }
   ],
   "source": [
    "plt.figure(figsize=(10,5))\n",
    "sns.barplot('Product_Category_2','Purchase',hue='Gender',data=df)\n",
    "plt.title('Product_Category_2 Vs Purchase')"
   ]
  },
  {
   "cell_type": "code",
   "execution_count": 78,
   "id": "e8f15613",
   "metadata": {
    "scrolled": true
   },
   "outputs": [
    {
     "data": {
      "text/plain": [
       "Text(0.5, 1.0, 'Product_Category_3 Vs Purchase')"
      ]
     },
     "execution_count": 78,
     "metadata": {},
     "output_type": "execute_result"
    },
    {
     "data": {
      "image/png": "[encoded data removed]",
      "text/plain": [
       "<Figure size 720x360 with 1 Axes>"
      ]
     },
     "metadata": {
      "needs_background": "light"
     },
     "output_type": "display_data"
    }
   ],
   "source": [
    "plt.figure(figsize=(10,5))\n",
    "sns.barplot('Product_Category_3','Purchase',hue='Gender',data=df)\n",
    "plt.title('Product_Category_3 Vs Purchase')"
   ]
  },
  {
   "cell_type": "code",
   "execution_count": 79,
   "id": "986e446c",
   "metadata": {},
   "outputs": [],
   "source": [
    "# Product category 1 have highest purchase but few products are not doing well."
   ]
  },
  {
   "cell_type": "code",
   "execution_count": 80,
   "id": "deec2c5b",
   "metadata": {},
   "outputs": [
    {
     "data": {
      "text/html": [
       "<div>\n",
       "<style scoped>\n",
       "    .dataframe tbody tr th:only-of-type {\n",
       "        vertical-align: middle;\n",
       "    }\n",
       "\n",
       "    .dataframe tbody tr th {\n",
       "        vertical-align: top;\n",
       "    }\n",
       "\n",
       "    .dataframe thead th {\n",
       "        text-align: right;\n",
       "    }\n",
       "</style>\n",
       "<table border=\"1\" class=\"dataframe\">\n",
       "  <thead>\n",
       "    <tr style=\"text-align: right;\">\n",
       "      <th></th>\n",
       "      <th>Gender</th>\n",
       "      <th>Age</th>\n",
       "      <th>Occupation</th>\n",
       "      <th>City_Category</th>\n",
       "      <th>Stay_In_Current_City_Years</th>\n",
       "      <th>Product_Category_1</th>\n",
       "      <th>Product_Category_2</th>\n",
       "      <th>Product_Category_3</th>\n",
       "      <th>Purchase</th>\n",
       "    </tr>\n",
       "  </thead>\n",
       "  <tbody>\n",
       "    <tr>\n",
       "      <th>0</th>\n",
       "      <td>0</td>\n",
       "      <td>1</td>\n",
       "      <td>0</td>\n",
       "      <td>0</td>\n",
       "      <td>2</td>\n",
       "      <td>17</td>\n",
       "      <td>8.0</td>\n",
       "      <td>16.0</td>\n",
       "      <td>8370.0</td>\n",
       "    </tr>\n",
       "    <tr>\n",
       "      <th>1</th>\n",
       "      <td>0</td>\n",
       "      <td>1</td>\n",
       "      <td>0</td>\n",
       "      <td>0</td>\n",
       "      <td>2</td>\n",
       "      <td>1</td>\n",
       "      <td>6.0</td>\n",
       "      <td>14.0</td>\n",
       "      <td>15200.0</td>\n",
       "    </tr>\n",
       "    <tr>\n",
       "      <th>2</th>\n",
       "      <td>0</td>\n",
       "      <td>1</td>\n",
       "      <td>0</td>\n",
       "      <td>0</td>\n",
       "      <td>2</td>\n",
       "      <td>12</td>\n",
       "      <td>8.0</td>\n",
       "      <td>16.0</td>\n",
       "      <td>1422.0</td>\n",
       "    </tr>\n",
       "    <tr>\n",
       "      <th>3</th>\n",
       "      <td>0</td>\n",
       "      <td>1</td>\n",
       "      <td>0</td>\n",
       "      <td>0</td>\n",
       "      <td>2</td>\n",
       "      <td>12</td>\n",
       "      <td>7.0</td>\n",
       "      <td>16.0</td>\n",
       "      <td>1057.0</td>\n",
       "    </tr>\n",
       "    <tr>\n",
       "      <th>4</th>\n",
       "      <td>1</td>\n",
       "      <td>7</td>\n",
       "      <td>5</td>\n",
       "      <td>2</td>\n",
       "      <td>4</td>\n",
       "      <td>8</td>\n",
       "      <td>8.0</td>\n",
       "      <td>16.0</td>\n",
       "      <td>7969.0</td>\n",
       "    </tr>\n",
       "  </tbody>\n",
       "</table>\n",
       "</div>"
      ],
      "text/plain": [
       "   Gender  Age  Occupation  City_Category  Stay_In_Current_City_Years  \\\n",
       "0       0    1           0              0                           2   \n",
       "1       0    1           0              0                           2   \n",
       "2       0    1           0              0                           2   \n",
       "3       0    1           0              0                           2   \n",
       "4       1    7           5              2                           4   \n",
       "\n",
       "   Product_Category_1  Product_Category_2  Product_Category_3  Purchase  \n",
       "0                  17                 8.0                16.0    8370.0  \n",
       "1                   1                 6.0                14.0   15200.0  \n",
       "2                  12                 8.0                16.0    1422.0  \n",
       "3                  12                 7.0                16.0    1057.0  \n",
       "4                   8                 8.0                16.0    7969.0  "
      ]
     },
     "execution_count": 80,
     "metadata": {},
     "output_type": "execute_result"
    }
   ],
   "source": [
    "df.head()"
   ]
  },
  {
   "cell_type": "code",
   "execution_count": 81,
   "id": "91a469d9",
   "metadata": {},
   "outputs": [
    {
     "name": "stdout",
     "output_type": "stream",
     "text": [
      "<class 'pandas.core.frame.DataFrame'>\n",
      "Int64Index: 783667 entries, 0 to 233598\n",
      "Data columns (total 9 columns):\n",
      " #   Column                      Non-Null Count   Dtype  \n",
      "---  ------                      --------------   -----  \n",
      " 0   Gender                      783667 non-null  int32  \n",
      " 1   Age                         783667 non-null  int64  \n",
      " 2   Occupation                  783667 non-null  int64  \n",
      " 3   City_Category               783667 non-null  int32  \n",
      " 4   Stay_In_Current_City_Years  783667 non-null  int64  \n",
      " 5   Product_Category_1          783667 non-null  int64  \n",
      " 6   Product_Category_2          783667 non-null  float64\n",
      " 7   Product_Category_3          783667 non-null  float64\n",
      " 8   Purchase                    550068 non-null  float64\n",
      "dtypes: float64(3), int32(2), int64(4)\n",
      "memory usage: 53.8 MB\n"
     ]
    }
   ],
   "source": [
    "df.info()"
   ]
  },
  {
   "cell_type": "code",
   "execution_count": 82,
   "id": "35a9a088",
   "metadata": {},
   "outputs": [],
   "source": [
    "from statsmodels.stats.outliers_influence import variance_inflation_factor"
   ]
  },
  {
   "cell_type": "code",
   "execution_count": 83,
   "id": "1f7b061b",
   "metadata": {},
   "outputs": [],
   "source": [
    "x= df[['Age','Stay_In_Current_City_Years']]"
   ]
  },
  {
   "cell_type": "code",
   "execution_count": 84,
   "id": "2ad87a8c",
   "metadata": {},
   "outputs": [],
   "source": [
    "vif_data = pd.DataFrame()"
   ]
  },
  {
   "cell_type": "code",
   "execution_count": 85,
   "id": "c1eabf37",
   "metadata": {},
   "outputs": [],
   "source": [
    "vif_data['features'] = x.columns"
   ]
  },
  {
   "cell_type": "code",
   "execution_count": 86,
   "id": "59544ce3",
   "metadata": {},
   "outputs": [],
   "source": [
    "vif_data['VIF'] = [variance_inflation_factor(x.values, i) for i in range(len(x.columns))]"
   ]
  },
  {
   "cell_type": "code",
   "execution_count": 87,
   "id": "2c41da45",
   "metadata": {},
   "outputs": [
    {
     "data": {
      "text/html": [
       "<div>\n",
       "<style scoped>\n",
       "    .dataframe tbody tr th:only-of-type {\n",
       "        vertical-align: middle;\n",
       "    }\n",
       "\n",
       "    .dataframe tbody tr th {\n",
       "        vertical-align: top;\n",
       "    }\n",
       "\n",
       "    .dataframe thead th {\n",
       "        text-align: right;\n",
       "    }\n",
       "</style>\n",
       "<table border=\"1\" class=\"dataframe\">\n",
       "  <thead>\n",
       "    <tr style=\"text-align: right;\">\n",
       "      <th></th>\n",
       "      <th>features</th>\n",
       "      <th>VIF</th>\n",
       "    </tr>\n",
       "  </thead>\n",
       "  <tbody>\n",
       "    <tr>\n",
       "      <th>0</th>\n",
       "      <td>Age</td>\n",
       "      <td>2.41403</td>\n",
       "    </tr>\n",
       "    <tr>\n",
       "      <th>1</th>\n",
       "      <td>Stay_In_Current_City_Years</td>\n",
       "      <td>2.41403</td>\n",
       "    </tr>\n",
       "  </tbody>\n",
       "</table>\n",
       "</div>"
      ],
      "text/plain": [
       "                     features      VIF\n",
       "0                         Age  2.41403\n",
       "1  Stay_In_Current_City_Years  2.41403"
      ]
     },
     "execution_count": 87,
     "metadata": {},
     "output_type": "execute_result"
    }
   ],
   "source": [
    "vif_data"
   ]
  },
  {
   "cell_type": "code",
   "execution_count": 88,
   "id": "78431021",
   "metadata": {},
   "outputs": [
    {
     "data": {
      "image/png": "[encoded data removed]",
      "text/plain": [
       "<Figure size 432x288 with 1 Axes>"
      ]
     },
     "metadata": {
      "needs_background": "light"
     },
     "output_type": "display_data"
    },
    {
     "data": {
      "image/png": "[encoded data removed]",
      "text/plain": [
       "<Figure size 432x288 with 1 Axes>"
      ]
     },
     "metadata": {
      "needs_background": "light"
     },
     "output_type": "display_data"
    }
   ],
   "source": [
    "for column in x:\n",
    "    plt.figure()\n",
    "    plt.boxplot(x[column] , vert = False, patch_artist = True)"
   ]
  },
  {
   "cell_type": "code",
   "execution_count": 89,
   "id": "4e8742e9",
   "metadata": {},
   "outputs": [
    {
     "data": {
      "image/png": "[encoded data removed]",
      "text/plain": [
       "<Figure size 432x288 with 1 Axes>"
      ]
     },
     "metadata": {
      "needs_background": "light"
     },
     "output_type": "display_data"
    },
    {
     "data": {
      "image/png": "[encoded data removed]",
      "text/plain": [
       "<Figure size 432x288 with 1 Axes>"
      ]
     },
     "metadata": {
      "needs_background": "light"
     },
     "output_type": "display_data"
    }
   ],
   "source": [
    "for column in x:\n",
    "    plt.figure()\n",
    "    plt.hist(x[column], bins = 'auto')"
   ]
  },
  {
   "cell_type": "code",
   "execution_count": 90,
   "id": "ac7cd13f",
   "metadata": {},
   "outputs": [
    {
     "data": {
      "text/plain": [
       "<AxesSubplot:>"
      ]
     },
     "execution_count": 90,
     "metadata": {},
     "output_type": "execute_result"
    },
    {
     "data": {
      "image/png": "[encoded data removed]",
      "text/plain": [
       "<Figure size 720x360 with 2 Axes>"
      ]
     },
     "metadata": {
      "needs_background": "light"
     },
     "output_type": "display_data"
    }
   ],
   "source": [
    "plt.figure(figsize=(10,5))\n",
    "sns.heatmap(df_train.corr(), annot= True, cmap=\"Spectral\")"
   ]
  },
  {
   "cell_type": "code",
   "execution_count": 91,
   "id": "50b8edd5",
   "metadata": {},
   "outputs": [],
   "source": [
    "df_test = df[df['Purchase'].isnull()]"
   ]
  },
  {
   "cell_type": "code",
   "execution_count": 92,
   "id": "f36831e2",
   "metadata": {},
   "outputs": [],
   "source": [
    "del df_test['Purchase']"
   ]
  },
  {
   "cell_type": "code",
   "execution_count": 93,
   "id": "2273bce6",
   "metadata": {},
   "outputs": [
    {
     "data": {
      "text/html": [
       "<div>\n",
       "<style scoped>\n",
       "    .dataframe tbody tr th:only-of-type {\n",
       "        vertical-align: middle;\n",
       "    }\n",
       "\n",
       "    .dataframe tbody tr th {\n",
       "        vertical-align: top;\n",
       "    }\n",
       "\n",
       "    .dataframe thead th {\n",
       "        text-align: right;\n",
       "    }\n",
       "</style>\n",
       "<table border=\"1\" class=\"dataframe\">\n",
       "  <thead>\n",
       "    <tr style=\"text-align: right;\">\n",
       "      <th></th>\n",
       "      <th>Gender</th>\n",
       "      <th>Age</th>\n",
       "      <th>Occupation</th>\n",
       "      <th>City_Category</th>\n",
       "      <th>Stay_In_Current_City_Years</th>\n",
       "      <th>Product_Category_1</th>\n",
       "      <th>Product_Category_2</th>\n",
       "      <th>Product_Category_3</th>\n",
       "    </tr>\n",
       "  </thead>\n",
       "  <tbody>\n",
       "    <tr>\n",
       "      <th>0</th>\n",
       "      <td>1</td>\n",
       "      <td>5</td>\n",
       "      <td>5</td>\n",
       "      <td>1</td>\n",
       "      <td>2</td>\n",
       "      <td>1</td>\n",
       "      <td>11.0</td>\n",
       "      <td>16.0</td>\n",
       "    </tr>\n",
       "    <tr>\n",
       "      <th>1</th>\n",
       "      <td>1</td>\n",
       "      <td>3</td>\n",
       "      <td>17</td>\n",
       "      <td>2</td>\n",
       "      <td>0</td>\n",
       "      <td>17</td>\n",
       "      <td>11.0</td>\n",
       "      <td>16.0</td>\n",
       "    </tr>\n",
       "    <tr>\n",
       "      <th>2</th>\n",
       "      <td>0</td>\n",
       "      <td>4</td>\n",
       "      <td>1</td>\n",
       "      <td>1</td>\n",
       "      <td>4</td>\n",
       "      <td>5</td>\n",
       "      <td>7.0</td>\n",
       "      <td>16.0</td>\n",
       "    </tr>\n",
       "    <tr>\n",
       "      <th>3</th>\n",
       "      <td>0</td>\n",
       "      <td>4</td>\n",
       "      <td>1</td>\n",
       "      <td>1</td>\n",
       "      <td>4</td>\n",
       "      <td>4</td>\n",
       "      <td>7.0</td>\n",
       "      <td>16.0</td>\n",
       "    </tr>\n",
       "    <tr>\n",
       "      <th>4</th>\n",
       "      <td>0</td>\n",
       "      <td>3</td>\n",
       "      <td>1</td>\n",
       "      <td>2</td>\n",
       "      <td>1</td>\n",
       "      <td>4</td>\n",
       "      <td>11.0</td>\n",
       "      <td>12.0</td>\n",
       "    </tr>\n",
       "  </tbody>\n",
       "</table>\n",
       "</div>"
      ],
      "text/plain": [
       "   Gender  Age  Occupation  City_Category  Stay_In_Current_City_Years  \\\n",
       "0       1    5           5              1                           2   \n",
       "1       1    3          17              2                           0   \n",
       "2       0    4           1              1                           4   \n",
       "3       0    4           1              1                           4   \n",
       "4       0    3           1              2                           1   \n",
       "\n",
       "   Product_Category_1  Product_Category_2  Product_Category_3  \n",
       "0                   1                11.0                16.0  \n",
       "1                  17                11.0                16.0  \n",
       "2                   5                 7.0                16.0  \n",
       "3                   4                 7.0                16.0  \n",
       "4                   4                11.0                12.0  "
      ]
     },
     "execution_count": 93,
     "metadata": {},
     "output_type": "execute_result"
    }
   ],
   "source": [
    "df_test.head()"
   ]
  },
  {
   "cell_type": "code",
   "execution_count": 94,
   "id": "9feffb91",
   "metadata": {},
   "outputs": [
    {
     "data": {
      "text/html": [
       "<div>\n",
       "<style scoped>\n",
       "    .dataframe tbody tr th:only-of-type {\n",
       "        vertical-align: middle;\n",
       "    }\n",
       "\n",
       "    .dataframe tbody tr th {\n",
       "        vertical-align: top;\n",
       "    }\n",
       "\n",
       "    .dataframe thead th {\n",
       "        text-align: right;\n",
       "    }\n",
       "</style>\n",
       "<table border=\"1\" class=\"dataframe\">\n",
       "  <thead>\n",
       "    <tr style=\"text-align: right;\">\n",
       "      <th></th>\n",
       "      <th>Gender</th>\n",
       "      <th>Age</th>\n",
       "      <th>Occupation</th>\n",
       "      <th>City_Category</th>\n",
       "      <th>Stay_In_Current_City_Years</th>\n",
       "      <th>Product_Category_1</th>\n",
       "      <th>Product_Category_2</th>\n",
       "      <th>Product_Category_3</th>\n",
       "      <th>Purchase</th>\n",
       "    </tr>\n",
       "  </thead>\n",
       "  <tbody>\n",
       "    <tr>\n",
       "      <th>0</th>\n",
       "      <td>0</td>\n",
       "      <td>1</td>\n",
       "      <td>0</td>\n",
       "      <td>0</td>\n",
       "      <td>2</td>\n",
       "      <td>17</td>\n",
       "      <td>8.0</td>\n",
       "      <td>16.0</td>\n",
       "      <td>8370.0</td>\n",
       "    </tr>\n",
       "    <tr>\n",
       "      <th>1</th>\n",
       "      <td>0</td>\n",
       "      <td>1</td>\n",
       "      <td>0</td>\n",
       "      <td>0</td>\n",
       "      <td>2</td>\n",
       "      <td>1</td>\n",
       "      <td>6.0</td>\n",
       "      <td>14.0</td>\n",
       "      <td>15200.0</td>\n",
       "    </tr>\n",
       "    <tr>\n",
       "      <th>2</th>\n",
       "      <td>0</td>\n",
       "      <td>1</td>\n",
       "      <td>0</td>\n",
       "      <td>0</td>\n",
       "      <td>2</td>\n",
       "      <td>12</td>\n",
       "      <td>8.0</td>\n",
       "      <td>16.0</td>\n",
       "      <td>1422.0</td>\n",
       "    </tr>\n",
       "    <tr>\n",
       "      <th>3</th>\n",
       "      <td>0</td>\n",
       "      <td>1</td>\n",
       "      <td>0</td>\n",
       "      <td>0</td>\n",
       "      <td>2</td>\n",
       "      <td>12</td>\n",
       "      <td>7.0</td>\n",
       "      <td>16.0</td>\n",
       "      <td>1057.0</td>\n",
       "    </tr>\n",
       "    <tr>\n",
       "      <th>4</th>\n",
       "      <td>1</td>\n",
       "      <td>7</td>\n",
       "      <td>5</td>\n",
       "      <td>2</td>\n",
       "      <td>4</td>\n",
       "      <td>8</td>\n",
       "      <td>8.0</td>\n",
       "      <td>16.0</td>\n",
       "      <td>7969.0</td>\n",
       "    </tr>\n",
       "  </tbody>\n",
       "</table>\n",
       "</div>"
      ],
      "text/plain": [
       "   Gender  Age  Occupation  City_Category  Stay_In_Current_City_Years  \\\n",
       "0       0    1           0              0                           2   \n",
       "1       0    1           0              0                           2   \n",
       "2       0    1           0              0                           2   \n",
       "3       0    1           0              0                           2   \n",
       "4       1    7           5              2                           4   \n",
       "\n",
       "   Product_Category_1  Product_Category_2  Product_Category_3  Purchase  \n",
       "0                  17                 8.0                16.0    8370.0  \n",
       "1                   1                 6.0                14.0   15200.0  \n",
       "2                  12                 8.0                16.0    1422.0  \n",
       "3                  12                 7.0                16.0    1057.0  \n",
       "4                   8                 8.0                16.0    7969.0  "
      ]
     },
     "execution_count": 94,
     "metadata": {},
     "output_type": "execute_result"
    }
   ],
   "source": [
    "df.head()"
   ]
  },
  {
   "cell_type": "code",
   "execution_count": 95,
   "id": "1f907d58",
   "metadata": {},
   "outputs": [],
   "source": [
    "df_cl = df.copy()"
   ]
  },
  {
   "cell_type": "code",
   "execution_count": 96,
   "id": "6510d1e0",
   "metadata": {},
   "outputs": [],
   "source": [
    "df_cl.dropna(inplace= True)"
   ]
  },
  {
   "cell_type": "code",
   "execution_count": 97,
   "id": "f3383fbb",
   "metadata": {},
   "outputs": [],
   "source": [
    "x = df_cl.iloc[:, df.columns != 'Purchase']\n",
    "y = df_cl.iloc[:, df.columns == 'Purchase']"
   ]
  },
  {
   "cell_type": "code",
   "execution_count": 98,
   "id": "f9d80bf0",
   "metadata": {},
   "outputs": [
    {
     "data": {
      "text/html": [
       "<div>\n",
       "<style scoped>\n",
       "    .dataframe tbody tr th:only-of-type {\n",
       "        vertical-align: middle;\n",
       "    }\n",
       "\n",
       "    .dataframe tbody tr th {\n",
       "        vertical-align: top;\n",
       "    }\n",
       "\n",
       "    .dataframe thead th {\n",
       "        text-align: right;\n",
       "    }\n",
       "</style>\n",
       "<table border=\"1\" class=\"dataframe\">\n",
       "  <thead>\n",
       "    <tr style=\"text-align: right;\">\n",
       "      <th></th>\n",
       "      <th>Purchase</th>\n",
       "    </tr>\n",
       "  </thead>\n",
       "  <tbody>\n",
       "    <tr>\n",
       "      <th>550063</th>\n",
       "      <td>368.0</td>\n",
       "    </tr>\n",
       "    <tr>\n",
       "      <th>550064</th>\n",
       "      <td>371.0</td>\n",
       "    </tr>\n",
       "    <tr>\n",
       "      <th>550065</th>\n",
       "      <td>137.0</td>\n",
       "    </tr>\n",
       "    <tr>\n",
       "      <th>550066</th>\n",
       "      <td>365.0</td>\n",
       "    </tr>\n",
       "    <tr>\n",
       "      <th>550067</th>\n",
       "      <td>490.0</td>\n",
       "    </tr>\n",
       "  </tbody>\n",
       "</table>\n",
       "</div>"
      ],
      "text/plain": [
       "        Purchase\n",
       "550063     368.0\n",
       "550064     371.0\n",
       "550065     137.0\n",
       "550066     365.0\n",
       "550067     490.0"
      ]
     },
     "execution_count": 98,
     "metadata": {},
     "output_type": "execute_result"
    }
   ],
   "source": [
    "y.tail()"
   ]
  },
  {
   "cell_type": "code",
   "execution_count": 99,
   "id": "cd7f9acf",
   "metadata": {},
   "outputs": [],
   "source": [
    "x_city_tr = pd.get_dummies(x['City_Category'], drop_first=True, prefix = \"City_Cat\")"
   ]
  },
  {
   "cell_type": "code",
   "execution_count": 100,
   "id": "347f3d9e",
   "metadata": {},
   "outputs": [],
   "source": [
    "x = pd.concat([x,x_city_tr], axis = 1)"
   ]
  },
  {
   "cell_type": "code",
   "execution_count": 101,
   "id": "c38b09d8",
   "metadata": {},
   "outputs": [],
   "source": [
    "del x['City_Category']"
   ]
  },
  {
   "cell_type": "code",
   "execution_count": 102,
   "id": "69c25171",
   "metadata": {},
   "outputs": [
    {
     "data": {
      "text/html": [
       "<div>\n",
       "<style scoped>\n",
       "    .dataframe tbody tr th:only-of-type {\n",
       "        vertical-align: middle;\n",
       "    }\n",
       "\n",
       "    .dataframe tbody tr th {\n",
       "        vertical-align: top;\n",
       "    }\n",
       "\n",
       "    .dataframe thead th {\n",
       "        text-align: right;\n",
       "    }\n",
       "</style>\n",
       "<table border=\"1\" class=\"dataframe\">\n",
       "  <thead>\n",
       "    <tr style=\"text-align: right;\">\n",
       "      <th></th>\n",
       "      <th>Gender</th>\n",
       "      <th>Age</th>\n",
       "      <th>Occupation</th>\n",
       "      <th>Stay_In_Current_City_Years</th>\n",
       "      <th>Product_Category_1</th>\n",
       "      <th>Product_Category_2</th>\n",
       "      <th>Product_Category_3</th>\n",
       "      <th>City_Cat_1</th>\n",
       "      <th>City_Cat_2</th>\n",
       "    </tr>\n",
       "  </thead>\n",
       "  <tbody>\n",
       "    <tr>\n",
       "      <th>0</th>\n",
       "      <td>0</td>\n",
       "      <td>1</td>\n",
       "      <td>0</td>\n",
       "      <td>2</td>\n",
       "      <td>17</td>\n",
       "      <td>8.0</td>\n",
       "      <td>16.0</td>\n",
       "      <td>0</td>\n",
       "      <td>0</td>\n",
       "    </tr>\n",
       "    <tr>\n",
       "      <th>1</th>\n",
       "      <td>0</td>\n",
       "      <td>1</td>\n",
       "      <td>0</td>\n",
       "      <td>2</td>\n",
       "      <td>1</td>\n",
       "      <td>6.0</td>\n",
       "      <td>14.0</td>\n",
       "      <td>0</td>\n",
       "      <td>0</td>\n",
       "    </tr>\n",
       "    <tr>\n",
       "      <th>2</th>\n",
       "      <td>0</td>\n",
       "      <td>1</td>\n",
       "      <td>0</td>\n",
       "      <td>2</td>\n",
       "      <td>12</td>\n",
       "      <td>8.0</td>\n",
       "      <td>16.0</td>\n",
       "      <td>0</td>\n",
       "      <td>0</td>\n",
       "    </tr>\n",
       "    <tr>\n",
       "      <th>3</th>\n",
       "      <td>0</td>\n",
       "      <td>1</td>\n",
       "      <td>0</td>\n",
       "      <td>2</td>\n",
       "      <td>12</td>\n",
       "      <td>7.0</td>\n",
       "      <td>16.0</td>\n",
       "      <td>0</td>\n",
       "      <td>0</td>\n",
       "    </tr>\n",
       "    <tr>\n",
       "      <th>4</th>\n",
       "      <td>1</td>\n",
       "      <td>7</td>\n",
       "      <td>5</td>\n",
       "      <td>4</td>\n",
       "      <td>8</td>\n",
       "      <td>8.0</td>\n",
       "      <td>16.0</td>\n",
       "      <td>0</td>\n",
       "      <td>1</td>\n",
       "    </tr>\n",
       "  </tbody>\n",
       "</table>\n",
       "</div>"
      ],
      "text/plain": [
       "   Gender  Age  Occupation  Stay_In_Current_City_Years  Product_Category_1  \\\n",
       "0       0    1           0                           2                  17   \n",
       "1       0    1           0                           2                   1   \n",
       "2       0    1           0                           2                  12   \n",
       "3       0    1           0                           2                  12   \n",
       "4       1    7           5                           4                   8   \n",
       "\n",
       "   Product_Category_2  Product_Category_3  City_Cat_1  City_Cat_2  \n",
       "0                 8.0                16.0           0           0  \n",
       "1                 6.0                14.0           0           0  \n",
       "2                 8.0                16.0           0           0  \n",
       "3                 7.0                16.0           0           0  \n",
       "4                 8.0                16.0           0           1  "
      ]
     },
     "execution_count": 102,
     "metadata": {},
     "output_type": "execute_result"
    }
   ],
   "source": [
    "x.head()"
   ]
  },
  {
   "cell_type": "code",
   "execution_count": 103,
   "id": "33e9f80b",
   "metadata": {},
   "outputs": [],
   "source": [
    "df_city_te = pd.get_dummies(df_test['City_Category'], drop_first=True, prefix = \"City_Cat\")"
   ]
  },
  {
   "cell_type": "code",
   "execution_count": 104,
   "id": "cafdaf2d",
   "metadata": {},
   "outputs": [],
   "source": [
    "df_test = pd.concat([df_test,df_city_te], axis = 1)"
   ]
  },
  {
   "cell_type": "code",
   "execution_count": 105,
   "id": "fd57b6cb",
   "metadata": {},
   "outputs": [],
   "source": [
    "del df_test['City_Category']"
   ]
  },
  {
   "cell_type": "code",
   "execution_count": 106,
   "id": "dad5fc1b",
   "metadata": {},
   "outputs": [],
   "source": [
    "x_occu_tr = pd.get_dummies(x['Occupation'], drop_first=True, prefix = \"Occupation\")"
   ]
  },
  {
   "cell_type": "code",
   "execution_count": 107,
   "id": "ab8f779e",
   "metadata": {},
   "outputs": [],
   "source": [
    "x = pd.concat([x,x_occu_tr], axis = 1)"
   ]
  },
  {
   "cell_type": "code",
   "execution_count": 108,
   "id": "0b0c9699",
   "metadata": {},
   "outputs": [],
   "source": [
    "del x['Occupation']"
   ]
  },
  {
   "cell_type": "code",
   "execution_count": 109,
   "id": "c84c110a",
   "metadata": {},
   "outputs": [],
   "source": [
    "df_occu_te = pd.get_dummies(df_test['Occupation'], drop_first=True, prefix = \"Occupation\")"
   ]
  },
  {
   "cell_type": "code",
   "execution_count": 110,
   "id": "a4d2d1e3",
   "metadata": {},
   "outputs": [],
   "source": [
    "df_test = pd.concat([df_test,df_occu_te], axis = 1)"
   ]
  },
  {
   "cell_type": "code",
   "execution_count": 111,
   "id": "32cac10e",
   "metadata": {},
   "outputs": [],
   "source": [
    "del df_test['Occupation']"
   ]
  },
  {
   "cell_type": "code",
   "execution_count": 112,
   "id": "b78a6a8c",
   "metadata": {},
   "outputs": [],
   "source": [
    "x_pro1_tr = pd.get_dummies(x['Product_Category_1'], drop_first=True, prefix = \"Pro_Cat1_\")"
   ]
  },
  {
   "cell_type": "code",
   "execution_count": 113,
   "id": "4b71fba8",
   "metadata": {},
   "outputs": [],
   "source": [
    "x = pd.concat([x,x_pro1_tr], axis = 1)"
   ]
  },
  {
   "cell_type": "code",
   "execution_count": 114,
   "id": "7903d065",
   "metadata": {},
   "outputs": [],
   "source": [
    "del x['Product_Category_1']"
   ]
  },
  {
   "cell_type": "code",
   "execution_count": 115,
   "id": "0e3bd816",
   "metadata": {},
   "outputs": [],
   "source": [
    "df_pro1_te = pd.get_dummies(df_test['Product_Category_1'], drop_first=True, prefix = \"Pro_Cat1_\")"
   ]
  },
  {
   "cell_type": "code",
   "execution_count": 116,
   "id": "2d7b1d9b",
   "metadata": {},
   "outputs": [],
   "source": [
    "df_test = pd.concat([df_test,df_pro1_te], axis = 1)"
   ]
  },
  {
   "cell_type": "code",
   "execution_count": 117,
   "id": "7a80d57a",
   "metadata": {},
   "outputs": [],
   "source": [
    "del df_test['Product_Category_1']"
   ]
  },
  {
   "cell_type": "code",
   "execution_count": 118,
   "id": "be01ec0a",
   "metadata": {},
   "outputs": [],
   "source": [
    "x_pro2_tr = pd.get_dummies(x['Product_Category_2'], drop_first=True, prefix = \"Pro_Cat2_\")"
   ]
  },
  {
   "cell_type": "code",
   "execution_count": 119,
   "id": "8f1cc11b",
   "metadata": {},
   "outputs": [],
   "source": [
    "x = pd.concat([x,x_pro2_tr], axis = 1)"
   ]
  },
  {
   "cell_type": "code",
   "execution_count": 120,
   "id": "99c90494",
   "metadata": {},
   "outputs": [],
   "source": [
    "del x['Product_Category_2']"
   ]
  },
  {
   "cell_type": "code",
   "execution_count": 121,
   "id": "25c798e8",
   "metadata": {},
   "outputs": [],
   "source": [
    "df_pro2_te = pd.get_dummies(df_test['Product_Category_2'], drop_first=True, prefix = \"Pro_Cat2_\")"
   ]
  },
  {
   "cell_type": "code",
   "execution_count": 122,
   "id": "06ef66d6",
   "metadata": {},
   "outputs": [],
   "source": [
    "df_test = pd.concat([df_test,df_pro2_te], axis = 1)"
   ]
  },
  {
   "cell_type": "code",
   "execution_count": 123,
   "id": "4db77763",
   "metadata": {},
   "outputs": [],
   "source": [
    "del df_test['Product_Category_2']"
   ]
  },
  {
   "cell_type": "code",
   "execution_count": 124,
   "id": "f5db81b2",
   "metadata": {},
   "outputs": [],
   "source": [
    "x_pro3_tr = pd.get_dummies(x['Product_Category_3'], drop_first=True, prefix = \"Pro_Cat3_\")"
   ]
  },
  {
   "cell_type": "code",
   "execution_count": 125,
   "id": "bddf38f7",
   "metadata": {},
   "outputs": [],
   "source": [
    "x = pd.concat([x,x_pro3_tr], axis = 1)"
   ]
  },
  {
   "cell_type": "code",
   "execution_count": 126,
   "id": "b70596f3",
   "metadata": {},
   "outputs": [],
   "source": [
    "del x['Product_Category_3']"
   ]
  },
  {
   "cell_type": "code",
   "execution_count": 127,
   "id": "3fd0ef94",
   "metadata": {},
   "outputs": [],
   "source": [
    "df_pro3_te = pd.get_dummies(df_test['Product_Category_3'], drop_first=True, prefix = \"Pro_Cat3_\")"
   ]
  },
  {
   "cell_type": "code",
   "execution_count": 128,
   "id": "2a9c7079",
   "metadata": {},
   "outputs": [],
   "source": [
    "df_test = pd.concat([df_test,df_pro3_te], axis = 1)"
   ]
  },
  {
   "cell_type": "code",
   "execution_count": 129,
   "id": "9a797bbe",
   "metadata": {},
   "outputs": [],
   "source": [
    "del df_test['Product_Category_3']"
   ]
  },
  {
   "cell_type": "code",
   "execution_count": 130,
   "id": "e8d88235",
   "metadata": {},
   "outputs": [],
   "source": [
    "from sklearn.model_selection import train_test_split"
   ]
  },
  {
   "cell_type": "code",
   "execution_count": 131,
   "id": "6de30bd2",
   "metadata": {},
   "outputs": [],
   "source": [
    "x_train, x_test, y_train, y_test = train_test_split(x,y,test_size=0.3, random_state=123)"
   ]
  },
  {
   "cell_type": "code",
   "execution_count": 132,
   "id": "b59ddd71",
   "metadata": {},
   "outputs": [],
   "source": [
    "from sklearn.preprocessing import StandardScaler\n",
    "sc = StandardScaler()"
   ]
  },
  {
   "cell_type": "code",
   "execution_count": 133,
   "id": "dad584eb",
   "metadata": {},
   "outputs": [],
   "source": [
    "x_train = sc.fit_transform(x_train)"
   ]
  },
  {
   "cell_type": "code",
   "execution_count": 134,
   "id": "54762ded",
   "metadata": {},
   "outputs": [],
   "source": [
    "x_test = sc.fit_transform(x_test)"
   ]
  },
  {
   "cell_type": "code",
   "execution_count": 135,
   "id": "52359540",
   "metadata": {},
   "outputs": [],
   "source": [
    "from sklearn.linear_model import SGDRegressor\n",
    "sr = SGDRegressor()"
   ]
  },
  {
   "cell_type": "code",
   "execution_count": 136,
   "id": "12b286ad",
   "metadata": {},
   "outputs": [],
   "source": [
    "mod = sr.fit(x_train,y_train)"
   ]
  },
  {
   "cell_type": "code",
   "execution_count": 137,
   "id": "210acdf4",
   "metadata": {},
   "outputs": [],
   "source": [
    "y_pred_tr = mod.predict(x_train)"
   ]
  },
  {
   "cell_type": "code",
   "execution_count": 138,
   "id": "e57c548e",
   "metadata": {},
   "outputs": [],
   "source": [
    "y_pred_te = mod.predict(x_test)"
   ]
  },
  {
   "cell_type": "code",
   "execution_count": 139,
   "id": "c1fce987",
   "metadata": {},
   "outputs": [
    {
     "data": {
      "text/plain": [
       "0.6401639658943574"
      ]
     },
     "execution_count": 139,
     "metadata": {},
     "output_type": "execute_result"
    }
   ],
   "source": [
    "mod.score(x_train,y_train)"
   ]
  },
  {
   "cell_type": "code",
   "execution_count": 140,
   "id": "9c347475",
   "metadata": {},
   "outputs": [
    {
     "data": {
      "text/plain": [
       "0.6401177282884409"
      ]
     },
     "execution_count": 140,
     "metadata": {},
     "output_type": "execute_result"
    }
   ],
   "source": [
    "mod.score(x_test,y_test)"
   ]
  },
  {
   "cell_type": "code",
   "execution_count": 141,
   "id": "d74e299e",
   "metadata": {},
   "outputs": [],
   "source": [
    "from sklearn.metrics import mean_squared_error"
   ]
  },
  {
   "cell_type": "code",
   "execution_count": 142,
   "id": "1c7d67d9",
   "metadata": {},
   "outputs": [
    {
     "data": {
      "text/plain": [
       "9080268.146198737"
      ]
     },
     "execution_count": 142,
     "metadata": {},
     "output_type": "execute_result"
    }
   ],
   "source": [
    "mean_squared_error(y_test,y_pred_te)"
   ]
  },
  {
   "cell_type": "code",
   "execution_count": 143,
   "id": "f75058af",
   "metadata": {},
   "outputs": [
    {
     "data": {
      "text/plain": [
       "array([9247.16647272])"
      ]
     },
     "execution_count": 143,
     "metadata": {},
     "output_type": "execute_result"
    }
   ],
   "source": [
    "mod.intercept_"
   ]
  },
  {
   "cell_type": "code",
   "execution_count": 144,
   "id": "de678b9f",
   "metadata": {},
   "outputs": [
    {
     "data": {
      "text/plain": [
       "array([-1.37907344e+01,  1.06628210e+02,  5.08375379e+00,  4.30939359e+01,\n",
       "        2.45288082e+02, -1.89418943e+01,  7.52560749e+01,  1.38594155e+01,\n",
       "        3.26691184e+01,  4.62945596e+01,  5.29654728e+00, -4.14669992e-01,\n",
       "       -4.89578027e+02, -1.58079689e+03, -3.24743945e+03,  2.39755957e+02,\n",
       "       -2.45646032e+03,  3.31399472e+02,  5.38926688e+02, -1.80644330e+03,\n",
       "       -1.02924055e+03, -1.27936850e+03,  2.35078481e+01,  2.31105892e+02,\n",
       "       -6.14552371e+02, -8.09180046e+02, -1.18072283e+03,  2.78268080e+01,\n",
       "        6.76906340e+01,  1.24937325e+02,  6.51305841e+01, -1.31585932e+02,\n",
       "        4.55033764e+01,  1.90135123e+01, -1.23146235e+02, -1.30912368e+02,\n",
       "       -8.97184410e+01, -1.11665352e+02, -3.29129923e+02, -1.24319241e+01])"
      ]
     },
     "execution_count": 144,
     "metadata": {},
     "output_type": "execute_result"
    }
   ],
   "source": [
    "mod.coef_"
   ]
  },
  {
   "cell_type": "code",
   "execution_count": 145,
   "id": "75a0322c",
   "metadata": {},
   "outputs": [
    {
     "name": "stdout",
     "output_type": "stream",
     "text": [
      "<class 'pandas.core.frame.DataFrame'>\n",
      "Int64Index: 550068 entries, 0 to 550067\n",
      "Data columns (total 40 columns):\n",
      " #   Column                      Non-Null Count   Dtype\n",
      "---  ------                      --------------   -----\n",
      " 0   Gender                      550068 non-null  int32\n",
      " 1   Age                         550068 non-null  int64\n",
      " 2   Stay_In_Current_City_Years  550068 non-null  int64\n",
      " 3   City_Cat_1                  550068 non-null  uint8\n",
      " 4   City_Cat_2                  550068 non-null  uint8\n",
      " 5   Occupation_1                550068 non-null  uint8\n",
      " 6   Occupation_5                550068 non-null  uint8\n",
      " 7   Occupation_9                550068 non-null  uint8\n",
      " 8   Occupation_12               550068 non-null  uint8\n",
      " 9   Occupation_15               550068 non-null  uint8\n",
      " 10  Occupation_17               550068 non-null  uint8\n",
      " 11  Occupation_19               550068 non-null  uint8\n",
      " 12  Pro_Cat1__2                 550068 non-null  uint8\n",
      " 13  Pro_Cat1__4                 550068 non-null  uint8\n",
      " 14  Pro_Cat1__5                 550068 non-null  uint8\n",
      " 15  Pro_Cat1__7                 550068 non-null  uint8\n",
      " 16  Pro_Cat1__8                 550068 non-null  uint8\n",
      " 17  Pro_Cat1__9                 550068 non-null  uint8\n",
      " 18  Pro_Cat1__10                550068 non-null  uint8\n",
      " 19  Pro_Cat1__11                550068 non-null  uint8\n",
      " 20  Pro_Cat1__12                550068 non-null  uint8\n",
      " 21  Pro_Cat1__13                550068 non-null  uint8\n",
      " 22  Pro_Cat1__14                550068 non-null  uint8\n",
      " 23  Pro_Cat1__16                550068 non-null  uint8\n",
      " 24  Pro_Cat1__17                550068 non-null  uint8\n",
      " 25  Pro_Cat1__18                550068 non-null  uint8\n",
      " 26  Pro_Cat1__20                550068 non-null  uint8\n",
      " 27  Pro_Cat2__6.0               550068 non-null  uint8\n",
      " 28  Pro_Cat2__7.0               550068 non-null  uint8\n",
      " 29  Pro_Cat2__8.0               550068 non-null  uint8\n",
      " 30  Pro_Cat2__10.0              550068 non-null  uint8\n",
      " 31  Pro_Cat2__11.0              550068 non-null  uint8\n",
      " 32  Pro_Cat2__16.0              550068 non-null  uint8\n",
      " 33  Pro_Cat2__18.0              550068 non-null  uint8\n",
      " 34  Pro_Cat3__9.0               550068 non-null  uint8\n",
      " 35  Pro_Cat3__11.0              550068 non-null  uint8\n",
      " 36  Pro_Cat3__12.0              550068 non-null  uint8\n",
      " 37  Pro_Cat3__14.0              550068 non-null  uint8\n",
      " 38  Pro_Cat3__16.0              550068 non-null  uint8\n",
      " 39  Pro_Cat3__18.0              550068 non-null  uint8\n",
      "dtypes: int32(1), int64(2), uint8(37)\n",
      "memory usage: 34.1 MB\n"
     ]
    }
   ],
   "source": [
    "x.info()"
   ]
  },
  {
   "cell_type": "code",
   "execution_count": null,
   "id": "48f6aad1",
   "metadata": {},
   "outputs": [],
   "source": []
  }
 ],
 "metadata": {
  "kernelspec": {
   "display_name": "Python 3 (ipykernel)",
   "language": "python",
   "name": "python3"
  },
  "language_info": {
   "codemirror_mode": {
    "name": "ipython",
    "version": 3
   },
   "file_extension": ".py",
   "mimetype": "text/x-python",
   "name": "python",
   "nbconvert_exporter": "python",
   "pygments_lexer": "ipython3",
   "version": "3.9.12"
  }
 },
 "nbformat": 4,
 "nbformat_minor": 5
}
